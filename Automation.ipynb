{
  "cells": [
    {
      "cell_type": "markdown",
      "metadata": {
        "id": "view-in-github",
        "colab_type": "text"
      },
      "source": [
        "<a href=\"https://colab.research.google.com/github/YanNews2805/CalculoNumerico/blob/main/Automation.ipynb\" target=\"_parent\"><img src=\"https://colab.research.google.com/assets/colab-badge.svg\" alt=\"Open In Colab\"/></a>"
      ]
    },
    {
      "cell_type": "markdown",
      "metadata": {
        "id": "TOUAgB8BeBME"
      },
      "source": [
        "# **Gmail webscrapping automation**"
      ]
    },
    {
      "cell_type": "markdown",
      "metadata": {
        "id": "Cu1fOL9VYpFF"
      },
      "source": [
        "##**Requirements**\n",
        "\n",
        "* **Make sure you enable IMAP in your Gmail settings**\n",
        "\n",
        "\n",
        "1.   *Log on to your Gmail account;*\n",
        "2.   *Settings*\n",
        "3.   *See All Settings*\n",
        "4.   *Select Forwarding and POP/IMAP tab*\n",
        "5.   *In the \"IMAP access” section, select Enable IMAP*\n",
        "\n",
        "\n",
        "* **If you have 2-factor authentication, gmail requires you to create an application specific password that you need to use.**\n",
        "\n",
        "1. *Go to your Google account settings and click on 'Security'*\n",
        "2. *Scroll down to App Passwords under 2 step verification*\n",
        "3. *Select Mail under Select App. and Other under Select Device*\n",
        "4. *The system gives you a password that you need to use to authenticate from python*\n"
      ]
    },
    {
      "cell_type": "markdown",
      "metadata": {
        "id": "4KBcTrhx66Iw"
      },
      "source": [
        "##**Input**\n",
        "\n",
        "*Insert the date you want to get the emails*\n",
        "\n",
        "**Example of input:** *'09-Jun-2024'*"
      ]
    },
    {
      "cell_type": "code",
      "execution_count": null,
      "metadata": {
        "id": "YdF0Boca64ow"
      },
      "outputs": [],
      "source": [
        "date_to_filter = \"20-Jun-2024\""
      ]
    },
    {
      "cell_type": "markdown",
      "metadata": {
        "id": "69xZf1qGcmPV"
      },
      "source": [
        "##**Importing libraries**"
      ]
    },
    {
      "cell_type": "code",
      "execution_count": null,
      "metadata": {
        "id": "REuOleTKckOz"
      },
      "outputs": [],
      "source": [
        "import imaplib\n",
        "from email.policy import default\n",
        "import email\n",
        "import re\n",
        "from datetime import datetime\n",
        "import subprocess\n",
        "import requests\n",
        "import json\n",
        "import pandas as pd\n",
        "import base64\n",
        "from email import policy\n",
        "from email.parser import BytesParser\n",
        "from bs4 import BeautifulSoup"
      ]
    },
    {
      "cell_type": "markdown",
      "metadata": {
        "id": "Tzyi_Cd1lbdb"
      },
      "source": [
        "## **Functions**"
      ]
    },
    {
      "cell_type": "markdown",
      "source": [
        "###**Setup connections**"
      ],
      "metadata": {
        "id": "gjHL4KJMA8UX"
      }
    },
    {
      "cell_type": "code",
      "source": [
        "def setup_connections(user, password, imap_url='imap.gmail.com'):\n",
        "    \"\"\"\n",
        "    Establishes a connection to the email server using IMAP and logs in, then retrieves the API key.\n",
        "\n",
        "    Parameters:\n",
        "    user (str): Email address for login.\n",
        "    password (str): Password for login.\n",
        "    imap_url (str): URL for the IMAP server. Default is 'imap.gmail.com'.\n",
        "\n",
        "    Returns:\n",
        "    tuple: A tuple containing the IMAP connection object and the API key.\n",
        "    \"\"\"\n",
        "    try:\n",
        "        # Connection with the email server using SSL\n",
        "        my_mail = imaplib.IMAP4_SSL(imap_url)\n",
        "        # Log in using the provided credentials\n",
        "        my_mail.login(user, password)\n",
        "        # Select the Inbox to fetch messages\n",
        "        my_mail.select('Inbox')\n",
        "        print(\"Connected to email successfully.\")\n",
        "\n",
        "        # Retrieve the API key\n",
        "        api_key = 'API key'  # Replace with secure method of retrieving the API key\n",
        "        return my_mail, api_key\n",
        "    except Exception as e:\n",
        "        print(f\"An error occurred while setting up connections: {e}\")\n",
        "        return None, None"
      ],
      "metadata": {
        "id": "c1y4hHJUA8ld"
      },
      "execution_count": null,
      "outputs": []
    },
    {
      "cell_type": "markdown",
      "metadata": {
        "id": "tkbhkDS0VA6B"
      },
      "source": [
        "### **Formatted date**"
      ]
    },
    {
      "cell_type": "code",
      "execution_count": null,
      "metadata": {
        "id": "Fkm29TQiVBMz"
      },
      "outputs": [],
      "source": [
        "def format_email_date(response_part):\n",
        "    \"\"\"\n",
        "    Formats the date from an email response part to a specific format.\n",
        "\n",
        "    Args:\n",
        "    response_part (tuple): A tuple containing parts of the email response,\n",
        "                           where response_part[1] is the email message bytes.\n",
        "\n",
        "    Returns:\n",
        "    str: The formatted email date in 'dd-MMM-YYYY' format.\n",
        "    \"\"\"\n",
        "    # Parse the email message from the response part bytes\n",
        "    my_msg = email.message_from_bytes(response_part[1])\n",
        "\n",
        "    # Extract the 'Date' header from the email message\n",
        "    email_date = my_msg['Date']\n",
        "\n",
        "    # Limit the length of the date string to handle different formats\n",
        "    email_date = email_date[0:25]\n",
        "\n",
        "    # Check if the date string needs reformatting for single-digit days\n",
        "    if email_date[5] in ['0', '1', '2', '3'] and email_date[6] != ' ':\n",
        "        # Format the date string if no reformatting is needed\n",
        "        email_date_formatted = datetime.strptime(email_date, '%a, %d %b %Y %H:%M:%S').strftime('%d-%b-%Y')\n",
        "    else:\n",
        "        # Reformat the date string by adding a leading zero to the day\n",
        "        email_date = email_date[0:4] + ' 0' + email_date[5:24]\n",
        "        email_date_formatted = datetime.strptime(email_date, '%a, %d %b %Y %H:%M:%S').strftime('%d-%b-%Y')\n",
        "\n",
        "    return email_date_formatted\n"
      ]
    },
    {
      "cell_type": "markdown",
      "source": [
        "### **Fetch emails**"
      ],
      "metadata": {
        "id": "SJu_mf4-Bheh"
      }
    },
    {
      "cell_type": "code",
      "source": [
        "def fetch_emails(my_mail, date_to_filter):\n",
        "    \"\"\"\n",
        "    Searches for emails in the inbox from a specific date and fetches them.\n",
        "\n",
        "    Parameters:\n",
        "    my_mail (imaplib.IMAP4_SSL): The IMAP connection object.\n",
        "    date_to_filter (str): The specific date to filter emails (format: 'DD-Mon-YYYY').\n",
        "\n",
        "    Returns:\n",
        "    list: A list of fetched email data.\n",
        "    \"\"\"\n",
        "    # Search for emails from the specified date\n",
        "    search_criterion = f'(ON {date_to_filter})'\n",
        "    status, data = my_mail.search(None, search_criterion)\n",
        "\n",
        "    # Check if the search was successful\n",
        "    if status != 'OK':\n",
        "        print(\"Error in searching emails.\")\n",
        "        exit()\n",
        "\n",
        "    # Get the list of email IDs\n",
        "    mail_id_list = data[0].split()  # IDs of all emails that we want to fetch\n",
        "\n",
        "    msgs = []  # empty list to capture all messages\n",
        "\n",
        "    # Iterate through the messages and extract data into the messages list\n",
        "    for num in mail_id_list:\n",
        "        # Ensure the email ID is properly formatted and decoded\n",
        "        if isinstance(num, bytes):\n",
        "            num = num.decode('utf-8')\n",
        "\n",
        "        # Fetch the email data\n",
        "        typ, data = my_mail.fetch(num, '(RFC822)')  # RFC822 returns the whole message\n",
        "\n",
        "        if typ != 'OK':\n",
        "            print(f\"Error fetching email ID {num}\")\n",
        "            continue\n",
        "\n",
        "        msgs.append(data)\n",
        "\n",
        "    return msgs"
      ],
      "metadata": {
        "id": "-S5Vz-4UBiC3"
      },
      "execution_count": null,
      "outputs": []
    },
    {
      "cell_type": "markdown",
      "metadata": {
        "id": "62mpHakG_4HX"
      },
      "source": [
        "### **Extract email info and company category**"
      ]
    },
    {
      "cell_type": "code",
      "execution_count": null,
      "metadata": {
        "id": "LEeAblwYkg45"
      },
      "outputs": [],
      "source": [
        "def extract_email_info(sender_email, my_msg):\n",
        "    \"\"\"\n",
        "    Extracts deal type, organization name, and body text from an email message.\n",
        "\n",
        "    Args:\n",
        "    sender_email (str): The email address of the sender.\n",
        "    my_msg (object): The email message object to extract information from.\n",
        "\n",
        "    Returns:\n",
        "    tuple: A tuple containing deal_type (str), organization_name (str), and body_text (str or None).\n",
        "    \"\"\"\n",
        "    deal_type = None\n",
        "    organization_name = None\n",
        "    body_text = None\n",
        "\n",
        "    # Extract domain name from sender's email\n",
        "    domain_match = re.search(r'@([^.]+)', sender_email)\n",
        "    extracted_name = domain_match.group(1) if domain_match else None\n",
        "\n",
        "\n",
        "    # Extract text from email body\n",
        "    for part in my_msg.walk():\n",
        "\n",
        "        if part.get_content_type() == 'text/plain':\n",
        "            if part.get('Content-Transfer-Encoding') == 'base64':\n",
        "                body_text = base64.b64decode(part.get_payload()).decode('utf-8')\n",
        "            else:\n",
        "                body_text = part.get_payload()\n",
        "\n",
        "            break  # Assuming we only care about the first plain text part\n",
        "\n",
        "    # Extract the subject of the email\n",
        "    subject_text = my_msg['Subject']\n",
        "\n",
        "\n",
        "    if body_text:\n",
        "        # Check for transaction type using regular expressions\n",
        "        keywords = ['pass(?:ed|ing)?', 'FYI', 'For your information', 'not a fit', '46YI', 'does not fit']\n",
        "        already_in_affinity = [\n",
        "            'Graphene Ventures - Introduction',\n",
        "            'Re: Graphene Ventures - Introduction',\n",
        "            'Graphene Ventures - Follow up',\n",
        "            'Re: Graphene Ventures - Follow up',\n",
        "            'Re: Graphene Ventures - Intro Call Follow Up',\n",
        "            'Graphene Ventures - First Call',\n",
        "            'Graphene Ventures - Follow Up'\n",
        "        ]\n",
        "\n",
        "        # Identify if email is already in affinity based on subject or body content\n",
        "        if subject_text in already_in_affinity or any(\n",
        "                link in body_text for link in [\n",
        "                    'https://calendly.com/arthur-grapheneventures/founder-meeting',\n",
        "                    'https://calendly.com/leticiapamplona/45-minute-meeting',\n",
        "                    'https://calendly.com/jorge-grapheneventures/30min-foundermeeting']):\n",
        "            deal_type = 'Already in Affinity'\n",
        "        else:\n",
        "            deal_type = 'Analyze'\n",
        "\n",
        "\n",
        "    # Assign organization name based on the extracted domain\n",
        "    organization_name = sender_email if extracted_name == 'gmail' else extracted_name\n",
        "\n",
        "\n",
        "    return deal_type, organization_name, body_text"
      ]
    },
    {
      "cell_type": "markdown",
      "source": [
        "### **Extract company name**"
      ],
      "metadata": {
        "id": "3ubKHtnb156P"
      }
    },
    {
      "cell_type": "code",
      "source": [
        "def extract_company_name(email_ext):\n",
        "    \"\"\"\n",
        "    Extracts the company name from an email address.\n",
        "\n",
        "    Args:\n",
        "    email_ext (str): The email address to extract the company name from.\n",
        "\n",
        "    Returns:\n",
        "    str: The extracted company name.\n",
        "    \"\"\"\n",
        "\n",
        "    match = re.search(r\"@([^@]+)\\.com\", email_ext)\n",
        "    return match.group(1) if match else None"
      ],
      "metadata": {
        "id": "MRtQCY6V16Mr"
      },
      "execution_count": null,
      "outputs": []
    },
    {
      "cell_type": "markdown",
      "metadata": {
        "id": "mEATipf5ljva"
      },
      "source": [
        "### **Get Introduced name**"
      ]
    },
    {
      "cell_type": "code",
      "execution_count": null,
      "metadata": {
        "id": "qk0RXCnZlfjH"
      },
      "outputs": [],
      "source": [
        "def extract_introduced_name(email_body):\n",
        "    \"\"\"\n",
        "    Extracts the name introduced in an email body following the phrase 'introduce you to'.\n",
        "\n",
        "    Args:\n",
        "    email_body (str): The body of the email from which to extract the name.\n",
        "\n",
        "    Returns:\n",
        "    str: The name introduced after the phrase 'introduce you to', or None if no match is found.\n",
        "    \"\"\"\n",
        "    # Define the pattern to search for the phrase 'introduce you to' followed by the name\n",
        "    pattern = r'introduce you to\\s+(\\w+(?:\\s+\\w+)*)'\n",
        "\n",
        "    # Search for the pattern in the email body, ignoring case\n",
        "    match = re.search(pattern, email_body, re.IGNORECASE)\n",
        "\n",
        "    if match:\n",
        "        # Extract and return the introduced name if a match is found\n",
        "        introduced_name = match.group(1)\n",
        "        return introduced_name\n",
        "    else:\n",
        "        # Return None if no match is found\n",
        "        return None\n"
      ]
    },
    {
      "cell_type": "markdown",
      "metadata": {
        "id": "cry78-gGlnfb"
      },
      "source": [
        "### **Get emails in CC**"
      ]
    },
    {
      "cell_type": "code",
      "execution_count": null,
      "metadata": {
        "id": "vdb4d6D2lgr2"
      },
      "outputs": [],
      "source": [
        "def get_cc_with_different_email(msg, sender_email):\n",
        "    \"\"\"\n",
        "    Extracts CC email addresses from a message that are different from the sender's email\n",
        "    and do not contain 'graphenevc.com'.\n",
        "\n",
        "    Args:\n",
        "    msg (object): The email message object from which to extract CC addresses.\n",
        "    sender_email (str): The sender's email address to compare against.\n",
        "\n",
        "    Returns:\n",
        "    str: The first CC email address that meets the criteria, or None if no such address is found.\n",
        "    \"\"\"\n",
        "    # Extract CC email addresses from the message\n",
        "    cc_list = msg.get_all('cc', [])\n",
        "\n",
        "    # Iterate through the CC addresses to find one that meets the criteria\n",
        "    for cc in cc_list:\n",
        "        cc_email = cc.strip()\n",
        "        if cc_email != sender_email and 'graphenevc.com' not in cc_email:\n",
        "            return cc_email\n",
        "\n",
        "    # Return None if no address meets the criteria\n",
        "    return None"
      ]
    },
    {
      "cell_type": "markdown",
      "source": [
        "#### **Handle CC list**"
      ],
      "metadata": {
        "id": "u26_NNDT2tjP"
      }
    },
    {
      "cell_type": "code",
      "source": [
        "def handle_cc_list(cc_list, body_text, my_msg, sender_email, sent_to):\n",
        "    \"\"\"\n",
        "    Handles emails with CC list.\n",
        "\n",
        "    Args:\n",
        "    cc_list (list): The list of CC email addresses.\n",
        "    body_text (str): The body text of the email.\n",
        "    my_msg (object): The email message object to handle.\n",
        "    sender_email (str): The email address of the sender.\n",
        "    sent_to (str): The email address of the recipient.\n",
        "    \"\"\"\n",
        "\n",
        "    for cc_email in cc_list:\n",
        "        if '@graphenevc.com' in cc_email:\n",
        "            extracted_name = extract_company_name(sent_to)\n",
        "        else:\n",
        "            introduced_name = extract_introduced_name(body_text)\n",
        "            extracted_name = introduced_name if introduced_name else extract_company_name(cc_email)\n"
      ],
      "metadata": {
        "id": "dqDdzmEx2eZ0"
      },
      "execution_count": null,
      "outputs": []
    },
    {
      "cell_type": "markdown",
      "source": [
        "#### **Handle no CC list**"
      ],
      "metadata": {
        "id": "VroWlHcV3AMt"
      }
    },
    {
      "cell_type": "code",
      "source": [
        "def handle_no_cc(my_msg, sender_email, sent_to):\n",
        "    \"\"\"\n",
        "    Handles emails with no CC list.\n",
        "\n",
        "    Args:\n",
        "    my_msg (object): The email message object to handle.\n",
        "    sender_email (str): The email address of the sender.\n",
        "    sent_to (str): The email address of the recipient.\n",
        "    \"\"\"\n",
        "\n",
        "    info = extract_email_info(sent_to, my_msg)\n",
        "\n",
        "    new_row_data = (info[0], extract_email_info(sent_to, my_msg)[1], remove_signature(info[2]))\n",
        "    add_to_dataframe(new_row_data)"
      ],
      "metadata": {
        "id": "07Sz3Lpz2fnm"
      },
      "execution_count": null,
      "outputs": []
    },
    {
      "cell_type": "markdown",
      "metadata": {
        "id": "L2o3ToJQwSvl"
      },
      "source": [
        "### **Get emails in body**"
      ]
    },
    {
      "cell_type": "code",
      "execution_count": null,
      "metadata": {
        "id": "ianNWcAGwTHS"
      },
      "outputs": [],
      "source": [
        "def extract_body_email(my_msg):\n",
        "    \"\"\"\n",
        "    Extracts email addresses from the plain text body of an email message.\n",
        "\n",
        "    Args:\n",
        "    my_msg (object): The email message object to extract email addresses from.\n",
        "\n",
        "    Returns:\n",
        "    str: The extracted email address or domain, or None if no matching email is found.\n",
        "    \"\"\"\n",
        "    extracted_email = None\n",
        "\n",
        "    # Walk through the email parts\n",
        "    for part in my_msg.walk():\n",
        "        # Check if the part is plain text\n",
        "        if part.get_content_type() == 'text/plain':\n",
        "            # Decode the part if it is base64 encoded\n",
        "            if part.get('Content-Transfer-Encoding') == 'base64':\n",
        "                body_text = base64.b64decode(part.get_payload()).decode('utf-8')\n",
        "            else:\n",
        "                body_text = part.get_payload()\n",
        "\n",
        "            # Extract email addresses from the body text\n",
        "            emails_in_body = re.findall(r'\\b[A-Za-z0-9._%+-]+@[A-Za-z0-9.-]+\\.[A-Z|a-z]{2,}\\b', body_text)\n",
        "\n",
        "            for email_addr in emails_in_body:\n",
        "                # Extract the domain name from the email address\n",
        "                domain_match = re.search(r'@([^.]+)', email_addr)\n",
        "                if domain_match:\n",
        "                    domain_name = domain_match.group(1)\n",
        "                else:\n",
        "                    continue\n",
        "\n",
        "                # Check if the domain name is not 'nmrk' or 'graphenevc'\n",
        "                if domain_name not in {'nmrk', 'graphenevc'}:\n",
        "                    # Return the whole email address if domain is 'gmail', 'openvc', 'ligopartners', or 'easyintro'\n",
        "                    if domain_name in {'gmail', 'openvc', 'ligopartners', 'easyintro'}:\n",
        "                        return email_addr\n",
        "                    else:\n",
        "                        # Return the extracted domain name if different\n",
        "                        return email_addr.split('@')[1].split('.')[0]\n",
        "\n",
        "    # Return None if no matching email address is found\n",
        "    return extracted_email"
      ]
    },
    {
      "cell_type": "markdown",
      "source": [
        "### **Remove signature**"
      ],
      "metadata": {
        "id": "Mlz4ejpnz7sh"
      }
    },
    {
      "cell_type": "code",
      "source": [
        "def remove_signature(email_body):\n",
        "    \"\"\"\n",
        "    Removes signature blocks from the email body.\n",
        "\n",
        "    Args:\n",
        "    email_body (str): The body of the email.\n",
        "\n",
        "    Returns:\n",
        "    str: The cleaned email body without signature blocks.\n",
        "    \"\"\"\n",
        "    # Define patterns to identify signature blocks\n",
        "    signature_patterns = [\n",
        "        r'(?i)(This message may contain privileged or confidential information.*)'  # Confidentiality notice\n",
        "    ]\n",
        "\n",
        "    # Combine all patterns into one regex\n",
        "    combined_pattern = re.compile('|'.join(signature_patterns), re.MULTILINE | re.DOTALL)\n",
        "\n",
        "    # Replace all matched patterns with an empty string\n",
        "    cleaned_email_body = combined_pattern.sub('', email_body)\n",
        "\n",
        "    # Return the cleaned email body\n",
        "    return cleaned_email_body.strip()"
      ],
      "metadata": {
        "id": "SQsKhM4Ez8Qk"
      },
      "execution_count": null,
      "outputs": []
    },
    {
      "cell_type": "markdown",
      "source": [
        "###**Define how to handle the email**"
      ],
      "metadata": {
        "id": "guHy8ayl0E1c"
      }
    },
    {
      "cell_type": "code",
      "source": [
        "def process_email(my_msg, sender_email, sent_to):\n",
        "    \"\"\"\n",
        "    Processes an email based on the sender's email and the recipient's email.\n",
        "\n",
        "    Args:\n",
        "    my_msg (object): The email message object to process.\n",
        "    sender_email (str): The email address of the sender.\n",
        "    sent_to (str): The email address of the recipient.\n",
        "    \"\"\"\n",
        "\n",
        "    if 'vc' in sender_email or sender_email == 'info@coordinator.com' or 'partners' in sender_email or 'nmrk' in sender_email:\n",
        "        handle_graphene_email(my_msg, sender_email, sent_to)\n",
        "\n",
        "    else:\n",
        "\n",
        "        handle_outside_email(my_msg, sender_email)"
      ],
      "metadata": {
        "id": "mji-gCDn0FSS"
      },
      "execution_count": null,
      "outputs": []
    },
    {
      "cell_type": "markdown",
      "source": [
        "####**Handle Graphene Emails**"
      ],
      "metadata": {
        "id": "zvOaeq9d0WGD"
      }
    },
    {
      "cell_type": "code",
      "source": [
        "def handle_graphene_email(my_msg, sender_email, sent_to):\n",
        "    \"\"\"\n",
        "    Handles emails related to Graphene Ventures.\n",
        "\n",
        "    Args:\n",
        "    my_msg (object): The email message object to handle.\n",
        "    sender_email (str): The email address of the sender.\n",
        "    sent_to (str): The email address of the recipient.\n",
        "    \"\"\"\n",
        "\n",
        "    if 'graphenevc' in sent_to:\n",
        "        process_internal_graphene_email(my_msg, sender_email)\n",
        "    else:\n",
        "        process_external_graphene_email(my_msg, sender_email, sent_to)"
      ],
      "metadata": {
        "id": "cCVrDvTK0Wcn"
      },
      "execution_count": null,
      "outputs": []
    },
    {
      "cell_type": "markdown",
      "source": [
        "#####**Process Internal Graphene Email**"
      ],
      "metadata": {
        "id": "3XKFtQSR1H5M"
      }
    },
    {
      "cell_type": "code",
      "source": [
        "def process_internal_graphene_email(my_msg, sender_email):\n",
        "    \"\"\"\n",
        "    Processes internal emails within Graphene Ventures.\n",
        "\n",
        "    Args:\n",
        "    my_msg (object): The email message object to process.\n",
        "    sender_email (str): The email address of the sender.\n",
        "    \"\"\"\n",
        "\n",
        "    reply_email = my_msg['reply-to']\n",
        "    if reply_email:\n",
        "\n",
        "        add_to_dataframe(extract_email_info(reply_email, my_msg))\n",
        "    else:\n",
        "\n",
        "        info = extract_email_info(sender_email, my_msg)\n",
        "\n",
        "        new_row_data = (info[0], extract_body_email(my_msg), info[2])\n",
        "        add_to_dataframe(new_row_data)"
      ],
      "metadata": {
        "id": "OgSL8Hs81IN4"
      },
      "execution_count": null,
      "outputs": []
    },
    {
      "cell_type": "markdown",
      "source": [
        "#####**Process External Graphene Email**"
      ],
      "metadata": {
        "id": "rGFYkrzH1NUZ"
      }
    },
    {
      "cell_type": "code",
      "source": [
        "def process_external_graphene_email(my_msg, sender_email, sent_to):\n",
        "    \"\"\"\n",
        "    Processes external emails involving Graphene Ventures.\n",
        "\n",
        "    Args:\n",
        "    my_msg (object): The email message object to process.\n",
        "    sender_email (str): The email address of the sender.\n",
        "    sent_to (str): The email address of the recipient.\n",
        "    \"\"\"\n",
        "\n",
        "    info = extract_email_info(sent_to, my_msg)\n",
        "    cc_list = get_cc_with_different_email(my_msg, sender_email)\n",
        "\n",
        "    if cc_list:\n",
        "        handle_cc_list(cc_list, info[2], my_msg, sender_email, sent_to)\n",
        "    else:\n",
        "        handle_no_cc(my_msg, sender_email, sent_to)"
      ],
      "metadata": {
        "id": "3QC5XSiQ1NkL"
      },
      "execution_count": null,
      "outputs": []
    },
    {
      "cell_type": "markdown",
      "source": [
        "####**Handle Outside Email**"
      ],
      "metadata": {
        "id": "uuC2KAfZ1rEh"
      }
    },
    {
      "cell_type": "code",
      "source": [
        "def handle_outside_email(my_msg, sender_email):\n",
        "    \"\"\"\n",
        "    Handles emails sent from outside Graphene Ventures.\n",
        "\n",
        "    Args:\n",
        "    my_msg (object): The email message object to handle.\n",
        "    sender_email (str): The email address of the sender.\n",
        "    \"\"\"\n",
        "\n",
        "    info = extract_email_info(sender_email, my_msg)\n",
        "    new_row_data = (info[0], info[1], remove_signature(info[2]))\n",
        "    add_to_dataframe(new_row_data)\n"
      ],
      "metadata": {
        "id": "VHQGOAHH1r0c"
      },
      "execution_count": null,
      "outputs": []
    },
    {
      "cell_type": "markdown",
      "source": [
        "### **Add to dataframe**"
      ],
      "metadata": {
        "id": "hZi_d0MK2MOQ"
      }
    },
    {
      "cell_type": "code",
      "source": [
        "def add_to_dataframe(data):\n",
        "    \"\"\"\n",
        "    Adds a new row of data to the DataFrame.\n",
        "\n",
        "    Args:\n",
        "    data (tuple): The data to add as a new row.\n",
        "    \"\"\"\n",
        "    global df\n",
        "    new_row_series = pd.Series(data, index=df.columns)\n",
        "    df = pd.concat([df, new_row_series.to_frame().T], ignore_index=True)\n"
      ],
      "metadata": {
        "id": "yAqkzv6g2LdY"
      },
      "execution_count": null,
      "outputs": []
    },
    {
      "cell_type": "markdown",
      "source": [
        "###**Affinity**"
      ],
      "metadata": {
        "id": "WO2sOmaT-dcD"
      }
    },
    {
      "cell_type": "markdown",
      "source": [
        "####**Create organization**"
      ],
      "metadata": {
        "id": "TKK5FwoV-poS"
      }
    },
    {
      "cell_type": "code",
      "source": [
        "def create_organization(organization_name, api_key):\n",
        "    \"\"\"\n",
        "    Creates an organization in Affinity.\n",
        "\n",
        "    Args:\n",
        "        organization_name (str): The name of the organization to create.\n",
        "        api_key (str): The API key for authentication.\n",
        "\n",
        "    Returns:\n",
        "        str: The ID of the created organization.\n",
        "    \"\"\"\n",
        "    url_org = 'https://api.affinity.co/organizations'\n",
        "    headers_org = {'Content-Type': 'application/json'}\n",
        "    data_org = {'name': organization_name}\n",
        "    response_org = requests.post(url_org, headers=headers_org, json=data_org, auth=('', api_key))\n",
        "    organization_data = response_org.json()\n",
        "    return organization_data.get('id')"
      ],
      "metadata": {
        "id": "AKt5mMOD-fNo"
      },
      "execution_count": null,
      "outputs": []
    },
    {
      "cell_type": "markdown",
      "source": [
        "####**Create notes**"
      ],
      "metadata": {
        "id": "429qEbsc-u4g"
      }
    },
    {
      "cell_type": "code",
      "source": [
        "def create_note(organization_id, note_content, api_key):\n",
        "    \"\"\"\n",
        "    Creates a note for an organization in Affinity.\n",
        "\n",
        "    Args:\n",
        "        organization_id (str): The ID of the organization.\n",
        "        note_content (str): The content of the note.\n",
        "        api_key (str): The API key for authentication.\n",
        "    \"\"\"\n",
        "    url_note = \"https://api.affinity.co/notes\"\n",
        "    headers = {\"Content-Type\": \"application/json\"}\n",
        "    data = {\"organization_ids\": [organization_id], \"content\": note_content}\n",
        "    response = requests.post(url_note, auth=('', api_key), headers=headers, json=data)\n",
        "    return response"
      ],
      "metadata": {
        "id": "7kWj1BHE-t2d"
      },
      "execution_count": null,
      "outputs": []
    },
    {
      "cell_type": "markdown",
      "source": [
        "####**Add to Affinity list**"
      ],
      "metadata": {
        "id": "vi1Whath-_HJ"
      }
    },
    {
      "cell_type": "code",
      "source": [
        "def add_to_list(organization_id, api_key):\n",
        "    \"\"\"\n",
        "    Adds an organization to a list in Affinity.\n",
        "\n",
        "    Args:\n",
        "        organization_id (str): The ID of the organization.\n",
        "        api_key (str): The API key for authentication.\n",
        "    \"\"\"\n",
        "    url_list = \"https://api.affinity.co/lists/108607/list-entries\"\n",
        "    headers_list = {'Content-Type': 'application/json'}\n",
        "    data_list = {\n",
        "        'entity_id': organization_id,\n",
        "        \"value_type\": 1,\n",
        "        \"list_id\": LIST,\n",
        "        \"name\": \"Official Deal Flow + Portfolio\",\n",
        "        \"is_public\": True\n",
        "    }\n",
        "    response = requests.post(url_list, json=data_list, auth=('', api_key))\n",
        "    return response"
      ],
      "metadata": {
        "id": "P_2Sk1MK-_nr"
      },
      "execution_count": null,
      "outputs": []
    },
    {
      "cell_type": "markdown",
      "source": [
        "####**Build a list with all the Affinity companies**"
      ],
      "metadata": {
        "id": "c6pBATh-Df_4"
      }
    },
    {
      "cell_type": "code",
      "source": [
        "# Constants\n",
        "api_url = 'https://api.affinity.co/lists/LIST/list-entries'\n",
        "headers = {'Content-Type': 'application/json'}\n",
        "params = {'list_id': LIST}\n",
        "\n",
        "def fetch_affinity_companies(api_url, headers, params, api_key):\n",
        "    \"\"\"\n",
        "    Fetches companies from the Affinity API.\n",
        "\n",
        "    :param api_url: The URL for the API request\n",
        "    :param headers: Headers for the API request\n",
        "    :param params: Parameters for the API request\n",
        "    :param api_key: API key for authentication\n",
        "    :return: List of company names\n",
        "    \"\"\"\n",
        "\n",
        "    response = requests.get(api_url, headers=headers, params=params, auth=('', api_key))\n",
        "    data = response.json()\n",
        "    companies = []\n",
        "    for company in data:\n",
        "      x = company['entity']['name']\n",
        "      companies.append(x)\n",
        "    return companies"
      ],
      "metadata": {
        "id": "7yiR0vS3DgW-"
      },
      "execution_count": null,
      "outputs": []
    },
    {
      "cell_type": "markdown",
      "source": [
        "####**Process organizations to add in Affinity**"
      ],
      "metadata": {
        "id": "CSVt9fRq_t2u"
      }
    },
    {
      "cell_type": "code",
      "source": [
        "def process_organizations(organization_names, companies, df, api_key):\n",
        "    \"\"\"\n",
        "    Processes a list of organization names, creating organizations and notes in Affinity if they are not already in the companies list.\n",
        "\n",
        "    Parameters:\n",
        "    organization_names (list): List of organization names to process.\n",
        "    companies (list): List of existing companies to check against.\n",
        "    df (pd.DataFrame): DataFrame containing data related to the organizations.\n",
        "    api_key (str): API key for accessing the Affinity API.\n",
        "\n",
        "    Returns:\n",
        "    pd.DataFrame: Updated DataFrame with status of organizations being added to Affinity.\n",
        "    \"\"\"\n",
        "    count = 0  # Initialize a counter\n",
        "\n",
        "    for organization_name in organization_names:\n",
        "        stripped_name = organization_name.strip()\n",
        "        if organization_name and stripped_name not in companies and organization_name != []:\n",
        "            companies.append(organization_name)\n",
        "            try:\n",
        "                # Create the organization in Affinity\n",
        "                organization_id = create_organization(organization_name, api_key)\n",
        "                # Create a note for the organization\n",
        "                create_note(organization_id, df.iloc[count, 2], api_key)\n",
        "                # Add the organization to a list in Affinity\n",
        "                add_to_list(organization_id, api_key)\n",
        "                df.at[count, 'Going to affinity'] = 'Yes'\n",
        "            except Exception as e:\n",
        "                print(f\"An error occurred: {e}\")\n",
        "            finally:\n",
        "                count += 1\n",
        "        else:\n",
        "            df.at[count, 'Going to affinity'] = 'No, already in dealflow'\n",
        "            count += 1\n",
        "\n",
        "    return df"
      ],
      "metadata": {
        "id": "bm-2xN4E_uh0"
      },
      "execution_count": null,
      "outputs": []
    },
    {
      "cell_type": "markdown",
      "source": [
        "###**Main function**"
      ],
      "metadata": {
        "id": "ZIPG750W8i0P"
      }
    },
    {
      "cell_type": "code",
      "source": [
        "def main_function(my_mail, date_to_filter):\n",
        "    \"\"\"\n",
        "    Processes the emails by fetching them and filtering based on the given date.\n",
        "\n",
        "    Parameters:\n",
        "    my_mail (imaplib.IMAP4_SSL): The IMAP connection object.\n",
        "    date_to_filter (str): The specific date to filter emails.\n",
        "\n",
        "    Returns:\n",
        "    pd.DataFrame: The DataFrame after processing and filtering emails.\n",
        "    \"\"\"\n",
        "\n",
        "    # Fetch the emails\n",
        "    msgs = fetch_emails(my_mail,date_to_filter)\n",
        "    global df\n",
        "    df = pd.DataFrame(columns=['Category', 'Company name', 'Text'])\n",
        "\n",
        "    # Logout and close the connection\n",
        "    my_mail.logout()\n",
        "    # Main processing loop\n",
        "    for msg in msgs[::-1]:\n",
        "        for response_part in msg:\n",
        "            if isinstance(response_part, tuple):\n",
        "                my_msg = BytesParser(policy=policy.default).parsebytes(response_part[1])\n",
        "\n",
        "                email_date_formatted = format_email_date(response_part)\n",
        "\n",
        "\n",
        "                if email_date_formatted == date_to_filter:\n",
        "                    sent_to = my_msg['to']\n",
        "                    sender_email = my_msg['from']\n",
        "\n",
        "                    process_email(my_msg, sender_email, sent_to)\n",
        "\n",
        "    # Drop rows with missing 'Text' values\n",
        "    df = df.dropna(subset=['Text'])\n",
        "    return df"
      ],
      "metadata": {
        "id": "xs0Lijn-8jHj"
      },
      "execution_count": null,
      "outputs": []
    },
    {
      "cell_type": "markdown",
      "source": [
        "##**Main**"
      ],
      "metadata": {
        "id": "SDheZuXv-R0w"
      }
    },
    {
      "cell_type": "code",
      "execution_count": null,
      "metadata": {
        "id": "OGD74UQW9XMn",
        "colab": {
          "base_uri": "https://localhost:8080/",
          "height": 106
        },
        "outputId": "cda66108-4be5-499e-a474-a5ea20bff56b"
      },
      "outputs": [
        {
          "output_type": "stream",
          "name": "stdout",
          "text": [
            "Connected to email successfully.\n"
          ]
        },
        {
          "output_type": "execute_result",
          "data": {
            "text/plain": [
              "  Category Company name                                               Text  \\\n",
              "0  Analyze         neto  Gabe,\\r\\n\\r\\nThanks so much.\\r\\n\\r\\nProject Su...   \n",
              "\n",
              "  Going to affinity  \n",
              "0               Yes  "
            ],
            "text/html": [
              "\n",
              "  <div id=\"df-1450daef-a648-4a1c-94e2-409ec445948f\" class=\"colab-df-container\">\n",
              "    <div>\n",
              "<style scoped>\n",
              "    .dataframe tbody tr th:only-of-type {\n",
              "        vertical-align: middle;\n",
              "    }\n",
              "\n",
              "    .dataframe tbody tr th {\n",
              "        vertical-align: top;\n",
              "    }\n",
              "\n",
              "    .dataframe thead th {\n",
              "        text-align: right;\n",
              "    }\n",
              "</style>\n",
              "<table border=\"1\" class=\"dataframe\">\n",
              "  <thead>\n",
              "    <tr style=\"text-align: right;\">\n",
              "      <th></th>\n",
              "      <th>Category</th>\n",
              "      <th>Company name</th>\n",
              "      <th>Text</th>\n",
              "      <th>Going to affinity</th>\n",
              "    </tr>\n",
              "  </thead>\n",
              "  <tbody>\n",
              "    <tr>\n",
              "      <th>0</th>\n",
              "      <td>Analyze</td>\n",
              "      <td>neto</td>\n",
              "      <td>Gabe,\\r\\n\\r\\nThanks so much.\\r\\n\\r\\nProject Su...</td>\n",
              "      <td>Yes</td>\n",
              "    </tr>\n",
              "  </tbody>\n",
              "</table>\n",
              "</div>\n",
              "    <div class=\"colab-df-buttons\">\n",
              "\n",
              "  <div class=\"colab-df-container\">\n",
              "    <button class=\"colab-df-convert\" onclick=\"convertToInteractive('df-1450daef-a648-4a1c-94e2-409ec445948f')\"\n",
              "            title=\"Convert this dataframe to an interactive table.\"\n",
              "            style=\"display:none;\">\n",
              "\n",
              "  <svg xmlns=\"http://www.w3.org/2000/svg\" height=\"24px\" viewBox=\"0 -960 960 960\">\n",
              "    <path d=\"M120-120v-720h720v720H120Zm60-500h600v-160H180v160Zm220 220h160v-160H400v160Zm0 220h160v-160H400v160ZM180-400h160v-160H180v160Zm440 0h160v-160H620v160ZM180-180h160v-160H180v160Zm440 0h160v-160H620v160Z\"/>\n",
              "  </svg>\n",
              "    </button>\n",
              "\n",
              "  <style>\n",
              "    .colab-df-container {\n",
              "      display:flex;\n",
              "      gap: 12px;\n",
              "    }\n",
              "\n",
              "    .colab-df-convert {\n",
              "      background-color: #E8F0FE;\n",
              "      border: none;\n",
              "      border-radius: 50%;\n",
              "      cursor: pointer;\n",
              "      display: none;\n",
              "      fill: #1967D2;\n",
              "      height: 32px;\n",
              "      padding: 0 0 0 0;\n",
              "      width: 32px;\n",
              "    }\n",
              "\n",
              "    .colab-df-convert:hover {\n",
              "      background-color: #E2EBFA;\n",
              "      box-shadow: 0px 1px 2px rgba(60, 64, 67, 0.3), 0px 1px 3px 1px rgba(60, 64, 67, 0.15);\n",
              "      fill: #174EA6;\n",
              "    }\n",
              "\n",
              "    .colab-df-buttons div {\n",
              "      margin-bottom: 4px;\n",
              "    }\n",
              "\n",
              "    [theme=dark] .colab-df-convert {\n",
              "      background-color: #3B4455;\n",
              "      fill: #D2E3FC;\n",
              "    }\n",
              "\n",
              "    [theme=dark] .colab-df-convert:hover {\n",
              "      background-color: #434B5C;\n",
              "      box-shadow: 0px 1px 3px 1px rgba(0, 0, 0, 0.15);\n",
              "      filter: drop-shadow(0px 1px 2px rgba(0, 0, 0, 0.3));\n",
              "      fill: #FFFFFF;\n",
              "    }\n",
              "  </style>\n",
              "\n",
              "    <script>\n",
              "      const buttonEl =\n",
              "        document.querySelector('#df-1450daef-a648-4a1c-94e2-409ec445948f button.colab-df-convert');\n",
              "      buttonEl.style.display =\n",
              "        google.colab.kernel.accessAllowed ? 'block' : 'none';\n",
              "\n",
              "      async function convertToInteractive(key) {\n",
              "        const element = document.querySelector('#df-1450daef-a648-4a1c-94e2-409ec445948f');\n",
              "        const dataTable =\n",
              "          await google.colab.kernel.invokeFunction('convertToInteractive',\n",
              "                                                    [key], {});\n",
              "        if (!dataTable) return;\n",
              "\n",
              "        const docLinkHtml = 'Like what you see? Visit the ' +\n",
              "          '<a target=\"_blank\" href=https://colab.research.google.com/notebooks/data_table.ipynb>data table notebook</a>'\n",
              "          + ' to learn more about interactive tables.';\n",
              "        element.innerHTML = '';\n",
              "        dataTable['output_type'] = 'display_data';\n",
              "        await google.colab.output.renderOutput(dataTable, element);\n",
              "        const docLink = document.createElement('div');\n",
              "        docLink.innerHTML = docLinkHtml;\n",
              "        element.appendChild(docLink);\n",
              "      }\n",
              "    </script>\n",
              "  </div>\n",
              "\n",
              "\n",
              "  <div id=\"id_62101634-132e-4f20-8750-49bd1d24b62a\">\n",
              "    <style>\n",
              "      .colab-df-generate {\n",
              "        background-color: #E8F0FE;\n",
              "        border: none;\n",
              "        border-radius: 50%;\n",
              "        cursor: pointer;\n",
              "        display: none;\n",
              "        fill: #1967D2;\n",
              "        height: 32px;\n",
              "        padding: 0 0 0 0;\n",
              "        width: 32px;\n",
              "      }\n",
              "\n",
              "      .colab-df-generate:hover {\n",
              "        background-color: #E2EBFA;\n",
              "        box-shadow: 0px 1px 2px rgba(60, 64, 67, 0.3), 0px 1px 3px 1px rgba(60, 64, 67, 0.15);\n",
              "        fill: #174EA6;\n",
              "      }\n",
              "\n",
              "      [theme=dark] .colab-df-generate {\n",
              "        background-color: #3B4455;\n",
              "        fill: #D2E3FC;\n",
              "      }\n",
              "\n",
              "      [theme=dark] .colab-df-generate:hover {\n",
              "        background-color: #434B5C;\n",
              "        box-shadow: 0px 1px 3px 1px rgba(0, 0, 0, 0.15);\n",
              "        filter: drop-shadow(0px 1px 2px rgba(0, 0, 0, 0.3));\n",
              "        fill: #FFFFFF;\n",
              "      }\n",
              "    </style>\n",
              "    <button class=\"colab-df-generate\" onclick=\"generateWithVariable('df')\"\n",
              "            title=\"Generate code using this dataframe.\"\n",
              "            style=\"display:none;\">\n",
              "\n",
              "  <svg xmlns=\"http://www.w3.org/2000/svg\" height=\"24px\"viewBox=\"0 0 24 24\"\n",
              "       width=\"24px\">\n",
              "    <path d=\"M7,19H8.4L18.45,9,17,7.55,7,17.6ZM5,21V16.75L18.45,3.32a2,2,0,0,1,2.83,0l1.4,1.43a1.91,1.91,0,0,1,.58,1.4,1.91,1.91,0,0,1-.58,1.4L9.25,21ZM18.45,9,17,7.55Zm-12,3A5.31,5.31,0,0,0,4.9,8.1,5.31,5.31,0,0,0,1,6.5,5.31,5.31,0,0,0,4.9,4.9,5.31,5.31,0,0,0,6.5,1,5.31,5.31,0,0,0,8.1,4.9,5.31,5.31,0,0,0,12,6.5,5.46,5.46,0,0,0,6.5,12Z\"/>\n",
              "  </svg>\n",
              "    </button>\n",
              "    <script>\n",
              "      (() => {\n",
              "      const buttonEl =\n",
              "        document.querySelector('#id_62101634-132e-4f20-8750-49bd1d24b62a button.colab-df-generate');\n",
              "      buttonEl.style.display =\n",
              "        google.colab.kernel.accessAllowed ? 'block' : 'none';\n",
              "\n",
              "      buttonEl.onclick = () => {\n",
              "        google.colab.notebook.generateWithVariable('df');\n",
              "      }\n",
              "      })();\n",
              "    </script>\n",
              "  </div>\n",
              "\n",
              "    </div>\n",
              "  </div>\n"
            ],
            "application/vnd.google.colaboratory.intrinsic+json": {
              "type": "dataframe",
              "variable_name": "df",
              "summary": "{\n  \"name\": \"df\",\n  \"rows\": 1,\n  \"fields\": [\n    {\n      \"column\": \"Category\",\n      \"properties\": {\n        \"dtype\": \"string\",\n        \"num_unique_values\": 1,\n        \"samples\": [\n          \"Analyze\"\n        ],\n        \"semantic_type\": \"\",\n        \"description\": \"\"\n      }\n    },\n    {\n      \"column\": \"Company name\",\n      \"properties\": {\n        \"dtype\": \"string\",\n        \"num_unique_values\": 1,\n        \"samples\": [\n          \"neto\"\n        ],\n        \"semantic_type\": \"\",\n        \"description\": \"\"\n      }\n    },\n    {\n      \"column\": \"Text\",\n      \"properties\": {\n        \"dtype\": \"string\",\n        \"num_unique_values\": 1,\n        \"samples\": [\n          \"Gabe,\\r\\n\\r\\nThanks so much.\\r\\n\\r\\nProject Summary - Solar AI\\r\\n\\r\\n1.Build a very profitable category king of residential solar.\\r\\n2.Use market position to springboard into HomeServices through an AI concie=\\r\\nrge agent. (jack.ai is the product)\\r\\n3. If we move fast, we can be the \\\"winner-take-most\\\" of the 1T+ home servic=\\r\\nes TAM (13T mortgages)\\r\\n\\r\\n\\r\\nBackground\\r\\n\\r\\n\\r\\n  *   Experienced team blitzscaled a residential solar company from 50MM/yr=\\r\\n. to 850MM/yr. with 65MM in EIBTA in 2021 creating Lumio. We exceeded all o=\\r\\nur projections and forecasts. (see attached) This is the most profitable ye=\\r\\nar any residential solar company has ever had.  We had other industry leadi=\\r\\nng KPIs as well.\\r\\n  *   Raised 120MM in debt and brought in outside advisors, only to lose co=\\r\\nntrol and exit at the end of 2021.  New CEO, brought in a new team, changed=\\r\\n everything, lost money 8 straight quarters.  He has since been replaced an=\\r\\nd they are restructuring.\\r\\n  *   The second residential solar cycle 2016-2023 (50% year/year growth) h=\\r\\nas ended and 25% of residential solar companies have closed their doors inc=\\r\\nluding industry leaders. (ADT Solar, Titan, and more).  There is currently =\\r\\na massive power void in residential solar.  It's a soft market which can be=\\r\\n easily dominated with discipline and cashflow management.\\r\\n  *   A 3rd boom cycle is about to start driven by AI sales agents and new =\\r\\nfinancial instruments that bring better value to the homeowner with no mone=\\r\\ny out of pocket and first month NET savings against their utility bills.  T=\\r\\nhe Solar AI team has a HUGE HEAD START on the entire market. Experts are pr=\\r\\nedicting this 3rd cycle will carry us from 4% market penetration to 20% in =\\r\\nthe next 10 years.  We have the best AI sales agent in home services which =\\r\\ncan currently sell solar in a text message for $.18 CAC.  It can also sell =\\r\\nroofing, pest, smart home, mortgages, HVAC and more.  (created by Neto, an =\\r\\nAI SaaS company)\\r\\n\\r\\nPhase 1\\r\\n-         Blitzscale residential solar sales and installation infrastructur=\\r\\ne; again.\\r\\no   Much like purchase orders for a manufacturer, Solar AI has sales partne=\\r\\nrs who are currently asking to send us 700+ installation per month.  This r=\\r\\nepresents over $3MM per month in EBITA.   We are currently seeking 20MM in =\\r\\ngrowth capital to back fill the systems and would allow us to say yes.  Onc=\\r\\ne achieved, we have a clear path to 2500 installs per month which would req=\\r\\nuire another 30MM in growth capital and would result in an addition 5.4MM p=\\r\\ner month in EBITA for a total of 8.4 MM per month in EBITA. (we have done t=\\r\\nhis volume before)\\r\\no   This capital could be de-risked on a monthly payback or per-installatio=\\r\\nn basis.\\r\\nPhase 2\\r\\n-         Use AI Concierge Agent to offer homeowners nationwide home servic=\\r\\nes like Dish, Direct TV, Comcast, T-Mobile, ADT, Vivint, Statefarm, etc\\r\\n-         This creates a massive revenue stream with low CAC and virtually =\\r\\nno fulfillment costs.\\r\\n-         Creates massive AI learning advantage with millions of homeowners=\\r\\n talking to AI daily.\\r\\n\\r\\nPhase 3\\r\\n-         Use AI Concierge Agents to offer homeowners local services.  Mill=\\r\\nennials are just a few years away from being the largest group of homeowner=\\r\\ns in American and they are driven by great experiences and work avoidance. =\\r\\n They want a \\\"door-dash\\\" for their home services.  We will be the first to =\\r\\ngive it to them.   In Blitzscaling terminology this is a second product whi=\\r\\nch will have a \\\"winner take most\\\" S curve effect.\\r\\no   \\\"Can someone mow my lawn tomorrow I'm having a party?\\\"\\r\\no   \\\"Send someone to kill these spiders please\\\"\\r\\no   \\\"Can I get faster internet?\\\"\\r\\no   \\\"My roof is leaking what do I do?\\\"\\r\\n\\r\\n\\r\\nFinancial models available upon request.\\r\\n\\r\\n\\r\\n\\r\\nJonathan Gibbs\\r\\n619-600-1602\\r\\nCo-Founder Solar AI\\r\\nCo-Founder Neto\\r\\n\\r\\n\\r\\n\\r\\n\\r\\n\\r\\n\\r\\n\\r\\nFrom: Regalado, Gabe <Gabe.Regalado@nmrk.com>\\r\\nSent: Wednesday, June 19, 2024 10:12 AM\\r\\nTo: Deals@graphenevc.com; Nabil Borhanu <nabil@graphenevc.com>; Yan Niehues=\\r\\n <y.niehues@graphenevc.com>\\r\\nCc: Jonathan Gibbs <Jonathan@neto.ci>; gabe@graphenevc.com; Arthur Bianchin=\\r\\ni <arthur@graphenevc.com>\\r\\nSubject: Seeking $5 million for Solar AI\\r\\nImportance: High\\r\\n\\r\\nJonathan,\\r\\n\\r\\nPlease meet the Graphene Ventures team. Thank you again for your time at St=\\r\\nanford yesterday. Please send your comprehensive summary so the team can un=\\r\\nderstand your business objectives better.\\r\\n\\r\\nGraphene Team,\\r\\n\\r\\nPlease forgive my short email. I am on a plane to Italy at the moment. Over=\\r\\n the last year, I have had the opportunity to meet hundreds of CEOs and fou=\\r\\nnders. With absolute confidence, Jonathan is the ideal founder and CEO any =\\r\\ninvestor would like to invest in and partner with. Please take the time to =\\r\\nschedule a Zoom meeting soon to get to know Jonathan and his background and=\\r\\n plans.\\r\\n\\r\\n\\r\\nGabe Regalado\\r\\n\\r\\nDirector\\r\\n\\r\\n\\r\\n\\r\\nNEWMARK KNIGHT FRANK\\r\\n\\r\\n3055 Olin Avenue, Suite 2200\\r\\n\\r\\nSan Jose, CA 95128\\r\\n\\r\\nM 408-455-4913\\r\\n\\r\\nO 408-982-8428\\r\\n\\r\\nGabe.regalado@nmrk.com<mailto:Gabe.regalado@nmrk.com>\\r\\n\\r\\nnmrk.com\\r\\n\\r\\nLinkedIn<http://nmrk.re/linkedin>  Twitter<http://nmrk.re/twitter>  Faceboo=\\r\\nk<http://nmrk.re/facebook>  Instagram<http://nmrk.re/instagram>\\r\\n\\r\\n\\r\\n\\r\\nCA RE License #02008286\\r\\n\\r\\nNOTICE: This e-mail message and any attachments are intended solely for the=\\r\\n use of the intended recipient, and may contain information that is confide=\\r\\nntial, privileged and exempt from disclosure under applicable law. If you a=\\r\\nre not the intended recipient, you are not permitted to read, disclose, rep=\\r\\nroduce, distribute, use or take any action in reliance upon this message an=\\r\\nd any attachments, and we request that you promptly notify the sender and i=\\r\\nmmediately delete this message and any attachments as well as any copies th=\\r\\nereof. Delivery of this message to an unintended recipient is not intended =\\r\\nto waive any right or privilege. Newmark is neither qualified nor authorize=\\r\\nd to give legal or tax advice, and any such advice should be obtained from =\\r\\nan appropriate, qualified professional advisor of your own choosing.\"\n        ],\n        \"semantic_type\": \"\",\n        \"description\": \"\"\n      }\n    },\n    {\n      \"column\": \"Going to affinity\",\n      \"properties\": {\n        \"dtype\": \"string\",\n        \"num_unique_values\": 1,\n        \"samples\": [\n          \"Yes\"\n        ],\n        \"semantic_type\": \"\",\n        \"description\": \"\"\n      }\n    }\n  ]\n}"
            }
          },
          "metadata": {},
          "execution_count": 52
        }
      ],
      "source": [
        "user, password = USER, PASSWROD\n",
        "my_mail, api_key = setup_connections(user, password)\n",
        "df = main_function(my_mail, date_to_filter)\n",
        "organization_names = df['Company name']\n",
        "companies = fetch_affinity_companies(api_url, headers, params, api_key)\n",
        "updated_df = process_organizations(organization_names, companies, df, api_key)\n",
        "updated_df"
      ]
    }
  ],
  "metadata": {
    "colab": {
      "collapsed_sections": [
        "69xZf1qGcmPV",
        "mEATipf5ljva",
        "cry78-gGlnfb",
        "tkbhkDS0VA6B",
        "gkQ-HmaDdO-U",
        "jVngab6sNyA9",
        "3evlmNCcN2LP",
        "qM32WKnJN7Ov"
      ],
      "provenance": [],
      "include_colab_link": true
    },
    "kernelspec": {
      "display_name": "Python 3",
      "name": "python3"
    },
    "language_info": {
      "name": "python"
    }
  },
  "nbformat": 4,
  "nbformat_minor": 0
}