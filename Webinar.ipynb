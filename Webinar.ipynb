{
  "cells": [
    {
      "cell_type": "markdown",
      "metadata": {
        "id": "view-in-github",
        "colab_type": "text"
      },
      "source": [
        "<a href=\"https://colab.research.google.com/github/YanNews2805/CalculoNumerico/blob/main/Webinar.ipynb\" target=\"_parent\"><img src=\"https://colab.research.google.com/assets/colab-badge.svg\" alt=\"Open In Colab\"/></a>"
      ]
    },
    {
      "cell_type": "markdown",
      "source": [
        "Author Linkedin: https://www.linkedin.com/in/yanniehueseggers/\n",
        "\n",
        "These datasets were provided by https://www.kaggle.com/datasets/aslanahmedov/walmart-sales-forecast"
      ],
      "metadata": {
        "id": "mNd1cseVnHIJ"
      }
    },
    {
      "cell_type": "markdown",
      "metadata": {
        "id": "e8_tWpyTGcPB"
      },
      "source": [
        "# **Walmart Sales Forecast**\n",
        "\n",
        "**Main Question**: *Can we predict the amount of weekly sales per department store at any time of the year?*\n",
        "\n",
        "**Answer:** *Yes, with a WMAPE of 8%*.\n",
        "\n",
        "In this solution we are going to address three main topics:\n",
        "\n",
        "1. Data Analysis;\n",
        "2. Feature Engineering;\n",
        "3. Models."
      ]
    },
    {
      "cell_type": "markdown",
      "source": [
        "## **Functions**"
      ],
      "metadata": {
        "id": "KZASjtGJ9q3P"
      }
    },
    {
      "cell_type": "markdown",
      "source": [
        "### **Aggregate**"
      ],
      "metadata": {
        "id": "Eoql3ER1JBSD"
      }
    },
    {
      "cell_type": "code",
      "source": [
        "def agg (column1, column2):\n",
        "  \"\"\"\n",
        "    Aggregates the given DataFrame `df` by `column1`, and sums the values of `column2`.\n",
        "    Then sorts the resulting DataFrame by the values in `column2` in ascending order, with missing\n",
        "    values placed at the end, and resets the index.\n",
        "    \n",
        "    Args:\n",
        "    - column1: Column to groupby and aggregate on\n",
        "    - column2: Column to sum and sort by\n",
        "    \n",
        "    Returns:\n",
        "    - agg: A new Pandas DataFrame with aggregated and sorted values\n",
        "    \"\"\"\n",
        "  agg = df.groupby([column1])[column2].sum().reset_index()\n",
        "  agg = agg.sort_values(by=column2, ascending=True, na_position='last', ignore_index=True)\n",
        "  return agg"
      ],
      "metadata": {
        "id": "rIr2Pa2gJDTr"
      },
      "execution_count": 1,
      "outputs": []
    },
    {
      "cell_type": "markdown",
      "source": [
        "### **Barplot**"
      ],
      "metadata": {
        "id": "sr3vj5URJkCI"
      }
    },
    {
      "cell_type": "code",
      "source": [
        "def barplot (x, y):\n",
        "  \"\"\"\n",
        "  Creates a bar plot of the average values of `y` per category of `x`.\n",
        "  \n",
        "  Args:\n",
        "  - x: Column to groupby and plot on the x-axis\n",
        "  - y: Column to calculate the average of and plot on the y-axis\n",
        "  \n",
        "  Returns:\n",
        "  - None (displays a plot)\n",
        "  \"\"\"\n",
        "  # Calculate the average `y` per category of `x`\n",
        "  mean_y_by_x = df.groupby(x)[y].mean()\n",
        "  \n",
        "  # Sort the categories of `x` by the average `y`\n",
        "  ordered_categories = mean_y_by_x.sort_values().index\n",
        "  \n",
        "  # Create the bar plot\n",
        "  plt.figure(figsize=(20,8))\n",
        "  sns.barplot(x=x, y=y, data=df, order=ordered_categories)\n",
        "  \n",
        "  # Add title, labels, and grid\n",
        "  plt.title(f'Average {y} per {x}', fontsize=18)\n",
        "  plt.ylabel(f'{y}', fontsize=16)\n",
        "  plt.xlabel(f'{x}', fontsize=16)\n",
        "  plt.grid()\n",
        "  \n",
        "  # Display the plot\n",
        "  plt.show()"
      ],
      "metadata": {
        "id": "iyTznSskJmff"
      },
      "execution_count": 2,
      "outputs": []
    },
    {
      "cell_type": "markdown",
      "source": [
        "### **Model predict**"
      ],
      "metadata": {
        "id": "d4l4hd7FIoix"
      }
    },
    {
      "cell_type": "code",
      "source": [
        "def model(model, X_train, y_train, X_test):\n",
        "  \"\"\"\n",
        "  Trains a machine learning `model` on the `X_train` and `y_train` data and uses it to predict labels for `X_test`.\n",
        "\n",
        "  Args:\n",
        "  - model: a machine learning model instance with a `fit()` and `predict()` method\n",
        "  - X_train: training feature data\n",
        "  - y_train: training label data\n",
        "  - X_test: test feature data\n",
        "  \n",
        "  Returns:\n",
        "  - y_pred: predicted labels for the test data\n",
        "  \"\"\"\n",
        "  \n",
        "  # Setting the model\n",
        "  classifier = model\n",
        "\n",
        "  # Fitting the model to the training data\n",
        "  classifier.fit(X_train, y_train)\n",
        "\n",
        "  # Making predictions on the test data\n",
        "  y_pred = classifier.predict(X_test)\n",
        "\n",
        "  # Return the predicted labels for the test data\n",
        "  return y_pred"
      ],
      "metadata": {
        "id": "bmuqB2aDIqzS"
      },
      "execution_count": 3,
      "outputs": []
    },
    {
      "cell_type": "markdown",
      "source": [
        "### **Model evaluation**"
      ],
      "metadata": {
        "id": "DgAv7-OoJc2s"
      }
    },
    {
      "cell_type": "code",
      "source": [
        "def wmape(y_test, y_pred):\n",
        "  \"\"\"\n",
        "  Calculates the Weighted Mean Absolute Percentage Error (WMAPE) between `y_test` and `y_pred`.\n",
        "  \n",
        "  Args:\n",
        "  - y_test: actual labels for the test data\n",
        "  - y_pred: predicted labels for the test data\n",
        "  \n",
        "  Returns:\n",
        "  - wmape: the calculated WMAPE, expressed as a percentage\n",
        "  \"\"\"\n",
        "  \n",
        "  # Defining the score function\n",
        "  wmape = np.abs(y_test - y_pred).sum() / np.abs(y_test).sum()\n",
        "  \n",
        "  # Return the calculated WMAPE, expressed as a percentage\n",
        "  return wmape*100"
      ],
      "metadata": {
        "id": "SkfCI6HQIxE7"
      },
      "execution_count": 4,
      "outputs": []
    },
    {
      "cell_type": "markdown",
      "metadata": {
        "id": "QX9GZU7elWta"
      },
      "source": [
        "## **1. Data Analysis**"
      ]
    },
    {
      "cell_type": "markdown",
      "metadata": {
        "id": "NNRkzXNxVBZm"
      },
      "source": [
        "### **Loading libraries and data**"
      ]
    },
    {
      "cell_type": "code",
      "execution_count": 5,
      "metadata": {
        "id": "L8Luzt5YkpqH"
      },
      "outputs": [],
      "source": [
        "import pandas as pd\n",
        "import numpy as np\n",
        "import matplotlib.pyplot as plt\n",
        "from scipy import stats                     \n",
        "import seaborn as sns\n",
        "import plotly.express as px\n",
        "from sklearn.preprocessing import StandardScaler\n",
        "import datetime as dt\n",
        "import xgboost as xgb\n",
        "from sklearn.ensemble import RandomForestRegressor\n",
        "from sklearn.tree import DecisionTreeRegressor\n",
        "from sklearn.feature_selection import SelectFromModel"
      ]
    },
    {
      "cell_type": "code",
      "execution_count": 6,
      "metadata": {
        "colab": {
          "base_uri": "https://localhost:8080/"
        },
        "id": "Mgu2xVDdkby6",
        "outputId": "6d4c2ca4-646e-4ba6-fac5-e3a841034b09"
      },
      "outputs": [
        {
          "output_type": "stream",
          "name": "stdout",
          "text": [
            "Mounted at /content/drive\n"
          ]
        }
      ],
      "source": [
        "from google.colab import drive\n",
        "drive.mount('/content/drive')"
      ]
    },
    {
      "cell_type": "code",
      "execution_count": 7,
      "metadata": {
        "id": "HoYOhX8wkzZq"
      },
      "outputs": [],
      "source": [
        "# Defining the directories\n",
        "root = '/content/drive/MyDrive/Webinar/'\n",
        "train = 'train.csv'\n",
        "features = 'features.csv'\n",
        "stores = 'stores.csv'"
      ]
    },
    {
      "cell_type": "code",
      "execution_count": 8,
      "metadata": {
        "id": "zAWxcvm7i2qu"
      },
      "outputs": [],
      "source": [
        "# Loading data\n",
        "df_train = pd.read_csv(root + train)\n",
        "df_stores = pd.read_csv(root + stores)\n",
        "df_features = pd.read_csv(root + features)"
      ]
    },
    {
      "cell_type": "markdown",
      "source": [
        "### **Data Overview**"
      ],
      "metadata": {
        "id": "tpp1dYXE5BFQ"
      }
    },
    {
      "cell_type": "code",
      "execution_count": 9,
      "metadata": {
        "colab": {
          "base_uri": "https://localhost:8080/",
          "height": 206
        },
        "id": "8-7vygkykdJn",
        "outputId": "d6c0c8c5-ed8f-434c-9044-3fb4d96cb4ee"
      },
      "outputs": [
        {
          "output_type": "execute_result",
          "data": {
            "text/plain": [
              "   Store  Dept        Date  Weekly_Sales  IsHoliday\n",
              "0      1     1  2010-02-05      24924.50      False\n",
              "1      1     1  2010-02-12      46039.49       True\n",
              "2      1     1  2010-02-19      41595.55      False\n",
              "3      1     1  2010-02-26      19403.54      False\n",
              "4      1     1  2010-03-05      21827.90      False"
            ],
            "text/html": [
              "\n",
              "  <div id=\"df-c97e1ec4-f405-4538-ac33-d539c9bb6a9a\">\n",
              "    <div class=\"colab-df-container\">\n",
              "      <div>\n",
              "<style scoped>\n",
              "    .dataframe tbody tr th:only-of-type {\n",
              "        vertical-align: middle;\n",
              "    }\n",
              "\n",
              "    .dataframe tbody tr th {\n",
              "        vertical-align: top;\n",
              "    }\n",
              "\n",
              "    .dataframe thead th {\n",
              "        text-align: right;\n",
              "    }\n",
              "</style>\n",
              "<table border=\"1\" class=\"dataframe\">\n",
              "  <thead>\n",
              "    <tr style=\"text-align: right;\">\n",
              "      <th></th>\n",
              "      <th>Store</th>\n",
              "      <th>Dept</th>\n",
              "      <th>Date</th>\n",
              "      <th>Weekly_Sales</th>\n",
              "      <th>IsHoliday</th>\n",
              "    </tr>\n",
              "  </thead>\n",
              "  <tbody>\n",
              "    <tr>\n",
              "      <th>0</th>\n",
              "      <td>1</td>\n",
              "      <td>1</td>\n",
              "      <td>2010-02-05</td>\n",
              "      <td>24924.50</td>\n",
              "      <td>False</td>\n",
              "    </tr>\n",
              "    <tr>\n",
              "      <th>1</th>\n",
              "      <td>1</td>\n",
              "      <td>1</td>\n",
              "      <td>2010-02-12</td>\n",
              "      <td>46039.49</td>\n",
              "      <td>True</td>\n",
              "    </tr>\n",
              "    <tr>\n",
              "      <th>2</th>\n",
              "      <td>1</td>\n",
              "      <td>1</td>\n",
              "      <td>2010-02-19</td>\n",
              "      <td>41595.55</td>\n",
              "      <td>False</td>\n",
              "    </tr>\n",
              "    <tr>\n",
              "      <th>3</th>\n",
              "      <td>1</td>\n",
              "      <td>1</td>\n",
              "      <td>2010-02-26</td>\n",
              "      <td>19403.54</td>\n",
              "      <td>False</td>\n",
              "    </tr>\n",
              "    <tr>\n",
              "      <th>4</th>\n",
              "      <td>1</td>\n",
              "      <td>1</td>\n",
              "      <td>2010-03-05</td>\n",
              "      <td>21827.90</td>\n",
              "      <td>False</td>\n",
              "    </tr>\n",
              "  </tbody>\n",
              "</table>\n",
              "</div>\n",
              "      <button class=\"colab-df-convert\" onclick=\"convertToInteractive('df-c97e1ec4-f405-4538-ac33-d539c9bb6a9a')\"\n",
              "              title=\"Convert this dataframe to an interactive table.\"\n",
              "              style=\"display:none;\">\n",
              "        \n",
              "  <svg xmlns=\"http://www.w3.org/2000/svg\" height=\"24px\"viewBox=\"0 0 24 24\"\n",
              "       width=\"24px\">\n",
              "    <path d=\"M0 0h24v24H0V0z\" fill=\"none\"/>\n",
              "    <path d=\"M18.56 5.44l.94 2.06.94-2.06 2.06-.94-2.06-.94-.94-2.06-.94 2.06-2.06.94zm-11 1L8.5 8.5l.94-2.06 2.06-.94-2.06-.94L8.5 2.5l-.94 2.06-2.06.94zm10 10l.94 2.06.94-2.06 2.06-.94-2.06-.94-.94-2.06-.94 2.06-2.06.94z\"/><path d=\"M17.41 7.96l-1.37-1.37c-.4-.4-.92-.59-1.43-.59-.52 0-1.04.2-1.43.59L10.3 9.45l-7.72 7.72c-.78.78-.78 2.05 0 2.83L4 21.41c.39.39.9.59 1.41.59.51 0 1.02-.2 1.41-.59l7.78-7.78 2.81-2.81c.8-.78.8-2.07 0-2.86zM5.41 20L4 18.59l7.72-7.72 1.47 1.35L5.41 20z\"/>\n",
              "  </svg>\n",
              "      </button>\n",
              "      \n",
              "  <style>\n",
              "    .colab-df-container {\n",
              "      display:flex;\n",
              "      flex-wrap:wrap;\n",
              "      gap: 12px;\n",
              "    }\n",
              "\n",
              "    .colab-df-convert {\n",
              "      background-color: #E8F0FE;\n",
              "      border: none;\n",
              "      border-radius: 50%;\n",
              "      cursor: pointer;\n",
              "      display: none;\n",
              "      fill: #1967D2;\n",
              "      height: 32px;\n",
              "      padding: 0 0 0 0;\n",
              "      width: 32px;\n",
              "    }\n",
              "\n",
              "    .colab-df-convert:hover {\n",
              "      background-color: #E2EBFA;\n",
              "      box-shadow: 0px 1px 2px rgba(60, 64, 67, 0.3), 0px 1px 3px 1px rgba(60, 64, 67, 0.15);\n",
              "      fill: #174EA6;\n",
              "    }\n",
              "\n",
              "    [theme=dark] .colab-df-convert {\n",
              "      background-color: #3B4455;\n",
              "      fill: #D2E3FC;\n",
              "    }\n",
              "\n",
              "    [theme=dark] .colab-df-convert:hover {\n",
              "      background-color: #434B5C;\n",
              "      box-shadow: 0px 1px 3px 1px rgba(0, 0, 0, 0.15);\n",
              "      filter: drop-shadow(0px 1px 2px rgba(0, 0, 0, 0.3));\n",
              "      fill: #FFFFFF;\n",
              "    }\n",
              "  </style>\n",
              "\n",
              "      <script>\n",
              "        const buttonEl =\n",
              "          document.querySelector('#df-c97e1ec4-f405-4538-ac33-d539c9bb6a9a button.colab-df-convert');\n",
              "        buttonEl.style.display =\n",
              "          google.colab.kernel.accessAllowed ? 'block' : 'none';\n",
              "\n",
              "        async function convertToInteractive(key) {\n",
              "          const element = document.querySelector('#df-c97e1ec4-f405-4538-ac33-d539c9bb6a9a');\n",
              "          const dataTable =\n",
              "            await google.colab.kernel.invokeFunction('convertToInteractive',\n",
              "                                                     [key], {});\n",
              "          if (!dataTable) return;\n",
              "\n",
              "          const docLinkHtml = 'Like what you see? Visit the ' +\n",
              "            '<a target=\"_blank\" href=https://colab.research.google.com/notebooks/data_table.ipynb>data table notebook</a>'\n",
              "            + ' to learn more about interactive tables.';\n",
              "          element.innerHTML = '';\n",
              "          dataTable['output_type'] = 'display_data';\n",
              "          await google.colab.output.renderOutput(dataTable, element);\n",
              "          const docLink = document.createElement('div');\n",
              "          docLink.innerHTML = docLinkHtml;\n",
              "          element.appendChild(docLink);\n",
              "        }\n",
              "      </script>\n",
              "    </div>\n",
              "  </div>\n",
              "  "
            ]
          },
          "metadata": {},
          "execution_count": 9
        }
      ],
      "source": [
        "df_train.head()"
      ]
    },
    {
      "cell_type": "code",
      "execution_count": 10,
      "metadata": {
        "colab": {
          "base_uri": "https://localhost:8080/",
          "height": 206
        },
        "id": "90HHZ1YlmQJX",
        "outputId": "89b0eced-b5ef-42cd-bc4b-b5bc8b6a820a"
      },
      "outputs": [
        {
          "output_type": "execute_result",
          "data": {
            "text/plain": [
              "   Store        Date  Temperature  Fuel_Price  MarkDown1  MarkDown2  \\\n",
              "0      1  2010-02-05        42.31       2.572        NaN        NaN   \n",
              "1      1  2010-02-12        38.51       2.548        NaN        NaN   \n",
              "2      1  2010-02-19        39.93       2.514        NaN        NaN   \n",
              "3      1  2010-02-26        46.63       2.561        NaN        NaN   \n",
              "4      1  2010-03-05        46.50       2.625        NaN        NaN   \n",
              "\n",
              "   MarkDown3  MarkDown4  MarkDown5         CPI  Unemployment  IsHoliday  \n",
              "0        NaN        NaN        NaN  211.096358         8.106      False  \n",
              "1        NaN        NaN        NaN  211.242170         8.106       True  \n",
              "2        NaN        NaN        NaN  211.289143         8.106      False  \n",
              "3        NaN        NaN        NaN  211.319643         8.106      False  \n",
              "4        NaN        NaN        NaN  211.350143         8.106      False  "
            ],
            "text/html": [
              "\n",
              "  <div id=\"df-42eb0bda-dc0b-4670-9409-de6dd38a1a25\">\n",
              "    <div class=\"colab-df-container\">\n",
              "      <div>\n",
              "<style scoped>\n",
              "    .dataframe tbody tr th:only-of-type {\n",
              "        vertical-align: middle;\n",
              "    }\n",
              "\n",
              "    .dataframe tbody tr th {\n",
              "        vertical-align: top;\n",
              "    }\n",
              "\n",
              "    .dataframe thead th {\n",
              "        text-align: right;\n",
              "    }\n",
              "</style>\n",
              "<table border=\"1\" class=\"dataframe\">\n",
              "  <thead>\n",
              "    <tr style=\"text-align: right;\">\n",
              "      <th></th>\n",
              "      <th>Store</th>\n",
              "      <th>Date</th>\n",
              "      <th>Temperature</th>\n",
              "      <th>Fuel_Price</th>\n",
              "      <th>MarkDown1</th>\n",
              "      <th>MarkDown2</th>\n",
              "      <th>MarkDown3</th>\n",
              "      <th>MarkDown4</th>\n",
              "      <th>MarkDown5</th>\n",
              "      <th>CPI</th>\n",
              "      <th>Unemployment</th>\n",
              "      <th>IsHoliday</th>\n",
              "    </tr>\n",
              "  </thead>\n",
              "  <tbody>\n",
              "    <tr>\n",
              "      <th>0</th>\n",
              "      <td>1</td>\n",
              "      <td>2010-02-05</td>\n",
              "      <td>42.31</td>\n",
              "      <td>2.572</td>\n",
              "      <td>NaN</td>\n",
              "      <td>NaN</td>\n",
              "      <td>NaN</td>\n",
              "      <td>NaN</td>\n",
              "      <td>NaN</td>\n",
              "      <td>211.096358</td>\n",
              "      <td>8.106</td>\n",
              "      <td>False</td>\n",
              "    </tr>\n",
              "    <tr>\n",
              "      <th>1</th>\n",
              "      <td>1</td>\n",
              "      <td>2010-02-12</td>\n",
              "      <td>38.51</td>\n",
              "      <td>2.548</td>\n",
              "      <td>NaN</td>\n",
              "      <td>NaN</td>\n",
              "      <td>NaN</td>\n",
              "      <td>NaN</td>\n",
              "      <td>NaN</td>\n",
              "      <td>211.242170</td>\n",
              "      <td>8.106</td>\n",
              "      <td>True</td>\n",
              "    </tr>\n",
              "    <tr>\n",
              "      <th>2</th>\n",
              "      <td>1</td>\n",
              "      <td>2010-02-19</td>\n",
              "      <td>39.93</td>\n",
              "      <td>2.514</td>\n",
              "      <td>NaN</td>\n",
              "      <td>NaN</td>\n",
              "      <td>NaN</td>\n",
              "      <td>NaN</td>\n",
              "      <td>NaN</td>\n",
              "      <td>211.289143</td>\n",
              "      <td>8.106</td>\n",
              "      <td>False</td>\n",
              "    </tr>\n",
              "    <tr>\n",
              "      <th>3</th>\n",
              "      <td>1</td>\n",
              "      <td>2010-02-26</td>\n",
              "      <td>46.63</td>\n",
              "      <td>2.561</td>\n",
              "      <td>NaN</td>\n",
              "      <td>NaN</td>\n",
              "      <td>NaN</td>\n",
              "      <td>NaN</td>\n",
              "      <td>NaN</td>\n",
              "      <td>211.319643</td>\n",
              "      <td>8.106</td>\n",
              "      <td>False</td>\n",
              "    </tr>\n",
              "    <tr>\n",
              "      <th>4</th>\n",
              "      <td>1</td>\n",
              "      <td>2010-03-05</td>\n",
              "      <td>46.50</td>\n",
              "      <td>2.625</td>\n",
              "      <td>NaN</td>\n",
              "      <td>NaN</td>\n",
              "      <td>NaN</td>\n",
              "      <td>NaN</td>\n",
              "      <td>NaN</td>\n",
              "      <td>211.350143</td>\n",
              "      <td>8.106</td>\n",
              "      <td>False</td>\n",
              "    </tr>\n",
              "  </tbody>\n",
              "</table>\n",
              "</div>\n",
              "      <button class=\"colab-df-convert\" onclick=\"convertToInteractive('df-42eb0bda-dc0b-4670-9409-de6dd38a1a25')\"\n",
              "              title=\"Convert this dataframe to an interactive table.\"\n",
              "              style=\"display:none;\">\n",
              "        \n",
              "  <svg xmlns=\"http://www.w3.org/2000/svg\" height=\"24px\"viewBox=\"0 0 24 24\"\n",
              "       width=\"24px\">\n",
              "    <path d=\"M0 0h24v24H0V0z\" fill=\"none\"/>\n",
              "    <path d=\"M18.56 5.44l.94 2.06.94-2.06 2.06-.94-2.06-.94-.94-2.06-.94 2.06-2.06.94zm-11 1L8.5 8.5l.94-2.06 2.06-.94-2.06-.94L8.5 2.5l-.94 2.06-2.06.94zm10 10l.94 2.06.94-2.06 2.06-.94-2.06-.94-.94-2.06-.94 2.06-2.06.94z\"/><path d=\"M17.41 7.96l-1.37-1.37c-.4-.4-.92-.59-1.43-.59-.52 0-1.04.2-1.43.59L10.3 9.45l-7.72 7.72c-.78.78-.78 2.05 0 2.83L4 21.41c.39.39.9.59 1.41.59.51 0 1.02-.2 1.41-.59l7.78-7.78 2.81-2.81c.8-.78.8-2.07 0-2.86zM5.41 20L4 18.59l7.72-7.72 1.47 1.35L5.41 20z\"/>\n",
              "  </svg>\n",
              "      </button>\n",
              "      \n",
              "  <style>\n",
              "    .colab-df-container {\n",
              "      display:flex;\n",
              "      flex-wrap:wrap;\n",
              "      gap: 12px;\n",
              "    }\n",
              "\n",
              "    .colab-df-convert {\n",
              "      background-color: #E8F0FE;\n",
              "      border: none;\n",
              "      border-radius: 50%;\n",
              "      cursor: pointer;\n",
              "      display: none;\n",
              "      fill: #1967D2;\n",
              "      height: 32px;\n",
              "      padding: 0 0 0 0;\n",
              "      width: 32px;\n",
              "    }\n",
              "\n",
              "    .colab-df-convert:hover {\n",
              "      background-color: #E2EBFA;\n",
              "      box-shadow: 0px 1px 2px rgba(60, 64, 67, 0.3), 0px 1px 3px 1px rgba(60, 64, 67, 0.15);\n",
              "      fill: #174EA6;\n",
              "    }\n",
              "\n",
              "    [theme=dark] .colab-df-convert {\n",
              "      background-color: #3B4455;\n",
              "      fill: #D2E3FC;\n",
              "    }\n",
              "\n",
              "    [theme=dark] .colab-df-convert:hover {\n",
              "      background-color: #434B5C;\n",
              "      box-shadow: 0px 1px 3px 1px rgba(0, 0, 0, 0.15);\n",
              "      filter: drop-shadow(0px 1px 2px rgba(0, 0, 0, 0.3));\n",
              "      fill: #FFFFFF;\n",
              "    }\n",
              "  </style>\n",
              "\n",
              "      <script>\n",
              "        const buttonEl =\n",
              "          document.querySelector('#df-42eb0bda-dc0b-4670-9409-de6dd38a1a25 button.colab-df-convert');\n",
              "        buttonEl.style.display =\n",
              "          google.colab.kernel.accessAllowed ? 'block' : 'none';\n",
              "\n",
              "        async function convertToInteractive(key) {\n",
              "          const element = document.querySelector('#df-42eb0bda-dc0b-4670-9409-de6dd38a1a25');\n",
              "          const dataTable =\n",
              "            await google.colab.kernel.invokeFunction('convertToInteractive',\n",
              "                                                     [key], {});\n",
              "          if (!dataTable) return;\n",
              "\n",
              "          const docLinkHtml = 'Like what you see? Visit the ' +\n",
              "            '<a target=\"_blank\" href=https://colab.research.google.com/notebooks/data_table.ipynb>data table notebook</a>'\n",
              "            + ' to learn more about interactive tables.';\n",
              "          element.innerHTML = '';\n",
              "          dataTable['output_type'] = 'display_data';\n",
              "          await google.colab.output.renderOutput(dataTable, element);\n",
              "          const docLink = document.createElement('div');\n",
              "          docLink.innerHTML = docLinkHtml;\n",
              "          element.appendChild(docLink);\n",
              "        }\n",
              "      </script>\n",
              "    </div>\n",
              "  </div>\n",
              "  "
            ]
          },
          "metadata": {},
          "execution_count": 10
        }
      ],
      "source": [
        "df_features.head()"
      ]
    },
    {
      "cell_type": "code",
      "execution_count": 11,
      "metadata": {
        "colab": {
          "base_uri": "https://localhost:8080/",
          "height": 206
        },
        "id": "nRexXDihmmol",
        "outputId": "6b6c096d-3381-45ce-ec28-e9be543e351b"
      },
      "outputs": [
        {
          "output_type": "execute_result",
          "data": {
            "text/plain": [
              "   Store Type    Size\n",
              "0      1    A  151315\n",
              "1      2    A  202307\n",
              "2      3    B   37392\n",
              "3      4    A  205863\n",
              "4      5    B   34875"
            ],
            "text/html": [
              "\n",
              "  <div id=\"df-e9d946f1-2a3d-4452-97a7-f258cceddee7\">\n",
              "    <div class=\"colab-df-container\">\n",
              "      <div>\n",
              "<style scoped>\n",
              "    .dataframe tbody tr th:only-of-type {\n",
              "        vertical-align: middle;\n",
              "    }\n",
              "\n",
              "    .dataframe tbody tr th {\n",
              "        vertical-align: top;\n",
              "    }\n",
              "\n",
              "    .dataframe thead th {\n",
              "        text-align: right;\n",
              "    }\n",
              "</style>\n",
              "<table border=\"1\" class=\"dataframe\">\n",
              "  <thead>\n",
              "    <tr style=\"text-align: right;\">\n",
              "      <th></th>\n",
              "      <th>Store</th>\n",
              "      <th>Type</th>\n",
              "      <th>Size</th>\n",
              "    </tr>\n",
              "  </thead>\n",
              "  <tbody>\n",
              "    <tr>\n",
              "      <th>0</th>\n",
              "      <td>1</td>\n",
              "      <td>A</td>\n",
              "      <td>151315</td>\n",
              "    </tr>\n",
              "    <tr>\n",
              "      <th>1</th>\n",
              "      <td>2</td>\n",
              "      <td>A</td>\n",
              "      <td>202307</td>\n",
              "    </tr>\n",
              "    <tr>\n",
              "      <th>2</th>\n",
              "      <td>3</td>\n",
              "      <td>B</td>\n",
              "      <td>37392</td>\n",
              "    </tr>\n",
              "    <tr>\n",
              "      <th>3</th>\n",
              "      <td>4</td>\n",
              "      <td>A</td>\n",
              "      <td>205863</td>\n",
              "    </tr>\n",
              "    <tr>\n",
              "      <th>4</th>\n",
              "      <td>5</td>\n",
              "      <td>B</td>\n",
              "      <td>34875</td>\n",
              "    </tr>\n",
              "  </tbody>\n",
              "</table>\n",
              "</div>\n",
              "      <button class=\"colab-df-convert\" onclick=\"convertToInteractive('df-e9d946f1-2a3d-4452-97a7-f258cceddee7')\"\n",
              "              title=\"Convert this dataframe to an interactive table.\"\n",
              "              style=\"display:none;\">\n",
              "        \n",
              "  <svg xmlns=\"http://www.w3.org/2000/svg\" height=\"24px\"viewBox=\"0 0 24 24\"\n",
              "       width=\"24px\">\n",
              "    <path d=\"M0 0h24v24H0V0z\" fill=\"none\"/>\n",
              "    <path d=\"M18.56 5.44l.94 2.06.94-2.06 2.06-.94-2.06-.94-.94-2.06-.94 2.06-2.06.94zm-11 1L8.5 8.5l.94-2.06 2.06-.94-2.06-.94L8.5 2.5l-.94 2.06-2.06.94zm10 10l.94 2.06.94-2.06 2.06-.94-2.06-.94-.94-2.06-.94 2.06-2.06.94z\"/><path d=\"M17.41 7.96l-1.37-1.37c-.4-.4-.92-.59-1.43-.59-.52 0-1.04.2-1.43.59L10.3 9.45l-7.72 7.72c-.78.78-.78 2.05 0 2.83L4 21.41c.39.39.9.59 1.41.59.51 0 1.02-.2 1.41-.59l7.78-7.78 2.81-2.81c.8-.78.8-2.07 0-2.86zM5.41 20L4 18.59l7.72-7.72 1.47 1.35L5.41 20z\"/>\n",
              "  </svg>\n",
              "      </button>\n",
              "      \n",
              "  <style>\n",
              "    .colab-df-container {\n",
              "      display:flex;\n",
              "      flex-wrap:wrap;\n",
              "      gap: 12px;\n",
              "    }\n",
              "\n",
              "    .colab-df-convert {\n",
              "      background-color: #E8F0FE;\n",
              "      border: none;\n",
              "      border-radius: 50%;\n",
              "      cursor: pointer;\n",
              "      display: none;\n",
              "      fill: #1967D2;\n",
              "      height: 32px;\n",
              "      padding: 0 0 0 0;\n",
              "      width: 32px;\n",
              "    }\n",
              "\n",
              "    .colab-df-convert:hover {\n",
              "      background-color: #E2EBFA;\n",
              "      box-shadow: 0px 1px 2px rgba(60, 64, 67, 0.3), 0px 1px 3px 1px rgba(60, 64, 67, 0.15);\n",
              "      fill: #174EA6;\n",
              "    }\n",
              "\n",
              "    [theme=dark] .colab-df-convert {\n",
              "      background-color: #3B4455;\n",
              "      fill: #D2E3FC;\n",
              "    }\n",
              "\n",
              "    [theme=dark] .colab-df-convert:hover {\n",
              "      background-color: #434B5C;\n",
              "      box-shadow: 0px 1px 3px 1px rgba(0, 0, 0, 0.15);\n",
              "      filter: drop-shadow(0px 1px 2px rgba(0, 0, 0, 0.3));\n",
              "      fill: #FFFFFF;\n",
              "    }\n",
              "  </style>\n",
              "\n",
              "      <script>\n",
              "        const buttonEl =\n",
              "          document.querySelector('#df-e9d946f1-2a3d-4452-97a7-f258cceddee7 button.colab-df-convert');\n",
              "        buttonEl.style.display =\n",
              "          google.colab.kernel.accessAllowed ? 'block' : 'none';\n",
              "\n",
              "        async function convertToInteractive(key) {\n",
              "          const element = document.querySelector('#df-e9d946f1-2a3d-4452-97a7-f258cceddee7');\n",
              "          const dataTable =\n",
              "            await google.colab.kernel.invokeFunction('convertToInteractive',\n",
              "                                                     [key], {});\n",
              "          if (!dataTable) return;\n",
              "\n",
              "          const docLinkHtml = 'Like what you see? Visit the ' +\n",
              "            '<a target=\"_blank\" href=https://colab.research.google.com/notebooks/data_table.ipynb>data table notebook</a>'\n",
              "            + ' to learn more about interactive tables.';\n",
              "          element.innerHTML = '';\n",
              "          dataTable['output_type'] = 'display_data';\n",
              "          await google.colab.output.renderOutput(dataTable, element);\n",
              "          const docLink = document.createElement('div');\n",
              "          docLink.innerHTML = docLinkHtml;\n",
              "          element.appendChild(docLink);\n",
              "        }\n",
              "      </script>\n",
              "    </div>\n",
              "  </div>\n",
              "  "
            ]
          },
          "metadata": {},
          "execution_count": 11
        }
      ],
      "source": [
        "df_stores.head()"
      ]
    },
    {
      "cell_type": "code",
      "execution_count": 12,
      "metadata": {
        "colab": {
          "base_uri": "https://localhost:8080/"
        },
        "id": "nmh8NswWnVUY",
        "outputId": "98303b3e-67ed-4adc-ce37-42796ff50aa2"
      },
      "outputs": [
        {
          "output_type": "stream",
          "name": "stdout",
          "text": [
            "\n",
            " Train dimensions:(421570, 5) \n",
            " Stores dimensions: (45, 3) \n",
            " Features dimensions:(8190, 12)\n"
          ]
        }
      ],
      "source": [
        "print(f'\\n Train dimensions:{df_train.shape} \\n Stores dimensions: {df_stores.shape} \\n Features dimensions:{df_features.shape}')"
      ]
    },
    {
      "cell_type": "code",
      "execution_count": 13,
      "metadata": {
        "id": "qBBHQcFCUOz7"
      },
      "outputs": [],
      "source": [
        "# Merging the features and stores dataset to the train dataset\n",
        "df = df_train.merge(df_features, on=['Store', 'Date'], how='inner') \\\n",
        "             .merge(df_stores, on=['Store'], how='inner')"
      ]
    },
    {
      "cell_type": "markdown",
      "source": [
        "### **Reducing The Number Of Departments**"
      ],
      "metadata": {
        "id": "UPx_23bK4pY2"
      }
    },
    {
      "cell_type": "code",
      "source": [
        "dept = agg('Dept', 'Weekly_Sales')\n",
        "dept"
      ],
      "metadata": {
        "colab": {
          "base_uri": "https://localhost:8080/",
          "height": 423
        },
        "id": "IsaCODc6m_yx",
        "outputId": "7f40bd07-dfbd-417c-f3e5-36bda0a0c002"
      },
      "execution_count": 14,
      "outputs": [
        {
          "output_type": "execute_result",
          "data": {
            "text/plain": [
              "    Dept  Weekly_Sales\n",
              "0     47 -4.962930e+03\n",
              "1     43  1.432000e+01\n",
              "2     39  1.779800e+02\n",
              "3     78  1.714710e+03\n",
              "4     51  3.057283e+04\n",
              "..   ...           ...\n",
              "76    90  2.910685e+08\n",
              "77    72  3.057252e+08\n",
              "78    38  3.931181e+08\n",
              "79    95  4.493202e+08\n",
              "80    92  4.839433e+08\n",
              "\n",
              "[81 rows x 2 columns]"
            ],
            "text/html": [
              "\n",
              "  <div id=\"df-36e59041-ef5c-48cf-a7e6-5c0f0f2d97dd\">\n",
              "    <div class=\"colab-df-container\">\n",
              "      <div>\n",
              "<style scoped>\n",
              "    .dataframe tbody tr th:only-of-type {\n",
              "        vertical-align: middle;\n",
              "    }\n",
              "\n",
              "    .dataframe tbody tr th {\n",
              "        vertical-align: top;\n",
              "    }\n",
              "\n",
              "    .dataframe thead th {\n",
              "        text-align: right;\n",
              "    }\n",
              "</style>\n",
              "<table border=\"1\" class=\"dataframe\">\n",
              "  <thead>\n",
              "    <tr style=\"text-align: right;\">\n",
              "      <th></th>\n",
              "      <th>Dept</th>\n",
              "      <th>Weekly_Sales</th>\n",
              "    </tr>\n",
              "  </thead>\n",
              "  <tbody>\n",
              "    <tr>\n",
              "      <th>0</th>\n",
              "      <td>47</td>\n",
              "      <td>-4.962930e+03</td>\n",
              "    </tr>\n",
              "    <tr>\n",
              "      <th>1</th>\n",
              "      <td>43</td>\n",
              "      <td>1.432000e+01</td>\n",
              "    </tr>\n",
              "    <tr>\n",
              "      <th>2</th>\n",
              "      <td>39</td>\n",
              "      <td>1.779800e+02</td>\n",
              "    </tr>\n",
              "    <tr>\n",
              "      <th>3</th>\n",
              "      <td>78</td>\n",
              "      <td>1.714710e+03</td>\n",
              "    </tr>\n",
              "    <tr>\n",
              "      <th>4</th>\n",
              "      <td>51</td>\n",
              "      <td>3.057283e+04</td>\n",
              "    </tr>\n",
              "    <tr>\n",
              "      <th>...</th>\n",
              "      <td>...</td>\n",
              "      <td>...</td>\n",
              "    </tr>\n",
              "    <tr>\n",
              "      <th>76</th>\n",
              "      <td>90</td>\n",
              "      <td>2.910685e+08</td>\n",
              "    </tr>\n",
              "    <tr>\n",
              "      <th>77</th>\n",
              "      <td>72</td>\n",
              "      <td>3.057252e+08</td>\n",
              "    </tr>\n",
              "    <tr>\n",
              "      <th>78</th>\n",
              "      <td>38</td>\n",
              "      <td>3.931181e+08</td>\n",
              "    </tr>\n",
              "    <tr>\n",
              "      <th>79</th>\n",
              "      <td>95</td>\n",
              "      <td>4.493202e+08</td>\n",
              "    </tr>\n",
              "    <tr>\n",
              "      <th>80</th>\n",
              "      <td>92</td>\n",
              "      <td>4.839433e+08</td>\n",
              "    </tr>\n",
              "  </tbody>\n",
              "</table>\n",
              "<p>81 rows × 2 columns</p>\n",
              "</div>\n",
              "      <button class=\"colab-df-convert\" onclick=\"convertToInteractive('df-36e59041-ef5c-48cf-a7e6-5c0f0f2d97dd')\"\n",
              "              title=\"Convert this dataframe to an interactive table.\"\n",
              "              style=\"display:none;\">\n",
              "        \n",
              "  <svg xmlns=\"http://www.w3.org/2000/svg\" height=\"24px\"viewBox=\"0 0 24 24\"\n",
              "       width=\"24px\">\n",
              "    <path d=\"M0 0h24v24H0V0z\" fill=\"none\"/>\n",
              "    <path d=\"M18.56 5.44l.94 2.06.94-2.06 2.06-.94-2.06-.94-.94-2.06-.94 2.06-2.06.94zm-11 1L8.5 8.5l.94-2.06 2.06-.94-2.06-.94L8.5 2.5l-.94 2.06-2.06.94zm10 10l.94 2.06.94-2.06 2.06-.94-2.06-.94-.94-2.06-.94 2.06-2.06.94z\"/><path d=\"M17.41 7.96l-1.37-1.37c-.4-.4-.92-.59-1.43-.59-.52 0-1.04.2-1.43.59L10.3 9.45l-7.72 7.72c-.78.78-.78 2.05 0 2.83L4 21.41c.39.39.9.59 1.41.59.51 0 1.02-.2 1.41-.59l7.78-7.78 2.81-2.81c.8-.78.8-2.07 0-2.86zM5.41 20L4 18.59l7.72-7.72 1.47 1.35L5.41 20z\"/>\n",
              "  </svg>\n",
              "      </button>\n",
              "      \n",
              "  <style>\n",
              "    .colab-df-container {\n",
              "      display:flex;\n",
              "      flex-wrap:wrap;\n",
              "      gap: 12px;\n",
              "    }\n",
              "\n",
              "    .colab-df-convert {\n",
              "      background-color: #E8F0FE;\n",
              "      border: none;\n",
              "      border-radius: 50%;\n",
              "      cursor: pointer;\n",
              "      display: none;\n",
              "      fill: #1967D2;\n",
              "      height: 32px;\n",
              "      padding: 0 0 0 0;\n",
              "      width: 32px;\n",
              "    }\n",
              "\n",
              "    .colab-df-convert:hover {\n",
              "      background-color: #E2EBFA;\n",
              "      box-shadow: 0px 1px 2px rgba(60, 64, 67, 0.3), 0px 1px 3px 1px rgba(60, 64, 67, 0.15);\n",
              "      fill: #174EA6;\n",
              "    }\n",
              "\n",
              "    [theme=dark] .colab-df-convert {\n",
              "      background-color: #3B4455;\n",
              "      fill: #D2E3FC;\n",
              "    }\n",
              "\n",
              "    [theme=dark] .colab-df-convert:hover {\n",
              "      background-color: #434B5C;\n",
              "      box-shadow: 0px 1px 3px 1px rgba(0, 0, 0, 0.15);\n",
              "      filter: drop-shadow(0px 1px 2px rgba(0, 0, 0, 0.3));\n",
              "      fill: #FFFFFF;\n",
              "    }\n",
              "  </style>\n",
              "\n",
              "      <script>\n",
              "        const buttonEl =\n",
              "          document.querySelector('#df-36e59041-ef5c-48cf-a7e6-5c0f0f2d97dd button.colab-df-convert');\n",
              "        buttonEl.style.display =\n",
              "          google.colab.kernel.accessAllowed ? 'block' : 'none';\n",
              "\n",
              "        async function convertToInteractive(key) {\n",
              "          const element = document.querySelector('#df-36e59041-ef5c-48cf-a7e6-5c0f0f2d97dd');\n",
              "          const dataTable =\n",
              "            await google.colab.kernel.invokeFunction('convertToInteractive',\n",
              "                                                     [key], {});\n",
              "          if (!dataTable) return;\n",
              "\n",
              "          const docLinkHtml = 'Like what you see? Visit the ' +\n",
              "            '<a target=\"_blank\" href=https://colab.research.google.com/notebooks/data_table.ipynb>data table notebook</a>'\n",
              "            + ' to learn more about interactive tables.';\n",
              "          element.innerHTML = '';\n",
              "          dataTable['output_type'] = 'display_data';\n",
              "          await google.colab.output.renderOutput(dataTable, element);\n",
              "          const docLink = document.createElement('div');\n",
              "          docLink.innerHTML = docLinkHtml;\n",
              "          element.appendChild(docLink);\n",
              "        }\n",
              "      </script>\n",
              "    </div>\n",
              "  </div>\n",
              "  "
            ]
          },
          "metadata": {},
          "execution_count": 14
        }
      ]
    },
    {
      "cell_type": "code",
      "source": [
        "barplot('Dept', 'Weekly_Sales')"
      ],
      "metadata": {
        "colab": {
          "base_uri": "https://localhost:8080/",
          "height": 497
        },
        "id": "P4TtpD8V0dAO",
        "outputId": "79f1335a-1dc8-4843-e163-e9621d920206"
      },
      "execution_count": 15,
      "outputs": [
        {
          "output_type": "display_data",
          "data": {
            "text/plain": [
              "<Figure size 2000x800 with 1 Axes>"
            ],
            "image/png": "[encoded data removed]"
          },
          "metadata": {}
        }
      ]
    },
    {
      "cell_type": "markdown",
      "source": [
        "- Picking just the top 10 departments"
      ],
      "metadata": {
        "id": "I3MNwvu39GRZ"
      }
    },
    {
      "cell_type": "code",
      "source": [
        "df.shape"
      ],
      "metadata": {
        "colab": {
          "base_uri": "https://localhost:8080/"
        },
        "id": "TiYtQlddo7YV",
        "outputId": "1ce4d519-4481-44f5-9120-42f874475a8f"
      },
      "execution_count": 16,
      "outputs": [
        {
          "output_type": "execute_result",
          "data": {
            "text/plain": [
              "(421570, 17)"
            ]
          },
          "metadata": {},
          "execution_count": 16
        }
      ]
    },
    {
      "cell_type": "code",
      "source": [
        "# Picking the top 10 departments\n",
        "list_departament = dept['Dept'][71:]\n",
        "df = df.query(\"Dept in @list_departament\")"
      ],
      "metadata": {
        "id": "9UxeohEpxLrN"
      },
      "execution_count": 17,
      "outputs": []
    },
    {
      "cell_type": "code",
      "execution_count": 18,
      "metadata": {
        "colab": {
          "base_uri": "https://localhost:8080/"
        },
        "id": "yVk-GvytoA_1",
        "outputId": "7827933c-9ea3-453a-9a38-9934096fda34"
      },
      "outputs": [
        {
          "output_type": "execute_result",
          "data": {
            "text/plain": [
              "(63961, 17)"
            ]
          },
          "metadata": {},
          "execution_count": 18
        }
      ],
      "source": [
        "df.shape"
      ]
    },
    {
      "cell_type": "code",
      "source": [
        "barplot('Dept', 'Weekly_Sales')"
      ],
      "metadata": {
        "colab": {
          "base_uri": "https://localhost:8080/",
          "height": 497
        },
        "id": "2F6Omx4rpPDD",
        "outputId": "b6f90dd5-b357-438f-cc23-2713efc16995"
      },
      "execution_count": 19,
      "outputs": [
        {
          "output_type": "display_data",
          "data": {
            "text/plain": [
              "<Figure size 2000x800 with 1 Axes>"
            ],
            "image/png": "[encoded data removed]"
          },
          "metadata": {}
        }
      ]
    },
    {
      "cell_type": "code",
      "execution_count": 20,
      "metadata": {
        "id": "wQspe5NVoOJC"
      },
      "outputs": [],
      "source": [
        "# Removing the duplicated column\n",
        "df.drop(['IsHoliday_y'], axis=1,inplace=True) "
      ]
    },
    {
      "cell_type": "markdown",
      "source": [
        "### **Numerical variables**"
      ],
      "metadata": {
        "id": "1CztIvtMOEkz"
      }
    },
    {
      "cell_type": "code",
      "execution_count": 21,
      "metadata": {
        "colab": {
          "base_uri": "https://localhost:8080/",
          "height": 364
        },
        "id": "VLSUmdWWxNn_",
        "outputId": "1e39c1e0-01b4-4533-d37e-c557ad4d249b"
      },
      "outputs": [
        {
          "output_type": "execute_result",
          "data": {
            "text/plain": [
              "              Store          Dept   Weekly_Sales   Temperature    Fuel_Price  \\\n",
              "count  63961.000000  63961.000000   63961.000000  63961.000000  63961.000000   \n",
              "mean      22.916230     53.991135   48484.334361     60.582108      3.358178   \n",
              "std       12.978839     36.231161   34824.137368     18.438009      0.458775   \n",
              "min        1.000000      2.000000    -379.000000     -2.060000      2.472000   \n",
              "25%       12.000000     13.000000   23866.980000     47.310000      2.932000   \n",
              "50%       23.000000     40.000000   42368.970000     62.620000      3.445000   \n",
              "75%       34.000000     91.000000   64822.490000     74.850000      3.735000   \n",
              "max       45.000000     95.000000  693099.360000    100.140000      4.468000   \n",
              "\n",
              "          MarkDown1      MarkDown2      MarkDown3     MarkDown4  \\\n",
              "count  22676.000000   16322.000000   20392.000000  19628.000000   \n",
              "mean    6891.142308    3227.179090    1354.313630   3307.512821   \n",
              "std     8189.797883    9277.826015    9300.347094   6212.300103   \n",
              "min        0.270000    -265.760000     -29.100000      0.220000   \n",
              "25%     1763.130000      37.200000       4.700000    485.200000   \n",
              "50%     5015.300000     188.600000      22.920000   1425.650000   \n",
              "75%     8901.340000    1802.840000     100.000000   3498.460000   \n",
              "max    88646.760000  104519.540000  141630.610000  67474.850000   \n",
              "\n",
              "           MarkDown5           CPI  Unemployment           Size  \n",
              "count   22820.000000  63961.000000  63961.000000   63961.000000  \n",
              "mean     4452.374075    171.656540      7.997331  130838.007911  \n",
              "std      5877.199584     39.331624      1.880015   62907.159423  \n",
              "min       135.160000    126.064000      3.879000   34875.000000  \n",
              "25%      1709.970000    131.824290      6.891000   70713.000000  \n",
              "50%      3204.720000    182.658578      7.874000  126512.000000  \n",
              "75%      5437.930000    212.757850      8.622000  202307.000000  \n",
              "max    108519.280000    227.232807     14.313000  219622.000000  "
            ],
            "text/html": [
              "\n",
              "  <div id=\"df-fdd94cae-64f2-4bcf-97e6-63825302878f\">\n",
              "    <div class=\"colab-df-container\">\n",
              "      <div>\n",
              "<style scoped>\n",
              "    .dataframe tbody tr th:only-of-type {\n",
              "        vertical-align: middle;\n",
              "    }\n",
              "\n",
              "    .dataframe tbody tr th {\n",
              "        vertical-align: top;\n",
              "    }\n",
              "\n",
              "    .dataframe thead th {\n",
              "        text-align: right;\n",
              "    }\n",
              "</style>\n",
              "<table border=\"1\" class=\"dataframe\">\n",
              "  <thead>\n",
              "    <tr style=\"text-align: right;\">\n",
              "      <th></th>\n",
              "      <th>Store</th>\n",
              "      <th>Dept</th>\n",
              "      <th>Weekly_Sales</th>\n",
              "      <th>Temperature</th>\n",
              "      <th>Fuel_Price</th>\n",
              "      <th>MarkDown1</th>\n",
              "      <th>MarkDown2</th>\n",
              "      <th>MarkDown3</th>\n",
              "      <th>MarkDown4</th>\n",
              "      <th>MarkDown5</th>\n",
              "      <th>CPI</th>\n",
              "      <th>Unemployment</th>\n",
              "      <th>Size</th>\n",
              "    </tr>\n",
              "  </thead>\n",
              "  <tbody>\n",
              "    <tr>\n",
              "      <th>count</th>\n",
              "      <td>63961.000000</td>\n",
              "      <td>63961.000000</td>\n",
              "      <td>63961.000000</td>\n",
              "      <td>63961.000000</td>\n",
              "      <td>63961.000000</td>\n",
              "      <td>22676.000000</td>\n",
              "      <td>16322.000000</td>\n",
              "      <td>20392.000000</td>\n",
              "      <td>19628.000000</td>\n",
              "      <td>22820.000000</td>\n",
              "      <td>63961.000000</td>\n",
              "      <td>63961.000000</td>\n",
              "      <td>63961.000000</td>\n",
              "    </tr>\n",
              "    <tr>\n",
              "      <th>mean</th>\n",
              "      <td>22.916230</td>\n",
              "      <td>53.991135</td>\n",
              "      <td>48484.334361</td>\n",
              "      <td>60.582108</td>\n",
              "      <td>3.358178</td>\n",
              "      <td>6891.142308</td>\n",
              "      <td>3227.179090</td>\n",
              "      <td>1354.313630</td>\n",
              "      <td>3307.512821</td>\n",
              "      <td>4452.374075</td>\n",
              "      <td>171.656540</td>\n",
              "      <td>7.997331</td>\n",
              "      <td>130838.007911</td>\n",
              "    </tr>\n",
              "    <tr>\n",
              "      <th>std</th>\n",
              "      <td>12.978839</td>\n",
              "      <td>36.231161</td>\n",
              "      <td>34824.137368</td>\n",
              "      <td>18.438009</td>\n",
              "      <td>0.458775</td>\n",
              "      <td>8189.797883</td>\n",
              "      <td>9277.826015</td>\n",
              "      <td>9300.347094</td>\n",
              "      <td>6212.300103</td>\n",
              "      <td>5877.199584</td>\n",
              "      <td>39.331624</td>\n",
              "      <td>1.880015</td>\n",
              "      <td>62907.159423</td>\n",
              "    </tr>\n",
              "    <tr>\n",
              "      <th>min</th>\n",
              "      <td>1.000000</td>\n",
              "      <td>2.000000</td>\n",
              "      <td>-379.000000</td>\n",
              "      <td>-2.060000</td>\n",
              "      <td>2.472000</td>\n",
              "      <td>0.270000</td>\n",
              "      <td>-265.760000</td>\n",
              "      <td>-29.100000</td>\n",
              "      <td>0.220000</td>\n",
              "      <td>135.160000</td>\n",
              "      <td>126.064000</td>\n",
              "      <td>3.879000</td>\n",
              "      <td>34875.000000</td>\n",
              "    </tr>\n",
              "    <tr>\n",
              "      <th>25%</th>\n",
              "      <td>12.000000</td>\n",
              "      <td>13.000000</td>\n",
              "      <td>23866.980000</td>\n",
              "      <td>47.310000</td>\n",
              "      <td>2.932000</td>\n",
              "      <td>1763.130000</td>\n",
              "      <td>37.200000</td>\n",
              "      <td>4.700000</td>\n",
              "      <td>485.200000</td>\n",
              "      <td>1709.970000</td>\n",
              "      <td>131.824290</td>\n",
              "      <td>6.891000</td>\n",
              "      <td>70713.000000</td>\n",
              "    </tr>\n",
              "    <tr>\n",
              "      <th>50%</th>\n",
              "      <td>23.000000</td>\n",
              "      <td>40.000000</td>\n",
              "      <td>42368.970000</td>\n",
              "      <td>62.620000</td>\n",
              "      <td>3.445000</td>\n",
              "      <td>5015.300000</td>\n",
              "      <td>188.600000</td>\n",
              "      <td>22.920000</td>\n",
              "      <td>1425.650000</td>\n",
              "      <td>3204.720000</td>\n",
              "      <td>182.658578</td>\n",
              "      <td>7.874000</td>\n",
              "      <td>126512.000000</td>\n",
              "    </tr>\n",
              "    <tr>\n",
              "      <th>75%</th>\n",
              "      <td>34.000000</td>\n",
              "      <td>91.000000</td>\n",
              "      <td>64822.490000</td>\n",
              "      <td>74.850000</td>\n",
              "      <td>3.735000</td>\n",
              "      <td>8901.340000</td>\n",
              "      <td>1802.840000</td>\n",
              "      <td>100.000000</td>\n",
              "      <td>3498.460000</td>\n",
              "      <td>5437.930000</td>\n",
              "      <td>212.757850</td>\n",
              "      <td>8.622000</td>\n",
              "      <td>202307.000000</td>\n",
              "    </tr>\n",
              "    <tr>\n",
              "      <th>max</th>\n",
              "      <td>45.000000</td>\n",
              "      <td>95.000000</td>\n",
              "      <td>693099.360000</td>\n",
              "      <td>100.140000</td>\n",
              "      <td>4.468000</td>\n",
              "      <td>88646.760000</td>\n",
              "      <td>104519.540000</td>\n",
              "      <td>141630.610000</td>\n",
              "      <td>67474.850000</td>\n",
              "      <td>108519.280000</td>\n",
              "      <td>227.232807</td>\n",
              "      <td>14.313000</td>\n",
              "      <td>219622.000000</td>\n",
              "    </tr>\n",
              "  </tbody>\n",
              "</table>\n",
              "</div>\n",
              "      <button class=\"colab-df-convert\" onclick=\"convertToInteractive('df-fdd94cae-64f2-4bcf-97e6-63825302878f')\"\n",
              "              title=\"Convert this dataframe to an interactive table.\"\n",
              "              style=\"display:none;\">\n",
              "        \n",
              "  <svg xmlns=\"http://www.w3.org/2000/svg\" height=\"24px\"viewBox=\"0 0 24 24\"\n",
              "       width=\"24px\">\n",
              "    <path d=\"M0 0h24v24H0V0z\" fill=\"none\"/>\n",
              "    <path d=\"M18.56 5.44l.94 2.06.94-2.06 2.06-.94-2.06-.94-.94-2.06-.94 2.06-2.06.94zm-11 1L8.5 8.5l.94-2.06 2.06-.94-2.06-.94L8.5 2.5l-.94 2.06-2.06.94zm10 10l.94 2.06.94-2.06 2.06-.94-2.06-.94-.94-2.06-.94 2.06-2.06.94z\"/><path d=\"M17.41 7.96l-1.37-1.37c-.4-.4-.92-.59-1.43-.59-.52 0-1.04.2-1.43.59L10.3 9.45l-7.72 7.72c-.78.78-.78 2.05 0 2.83L4 21.41c.39.39.9.59 1.41.59.51 0 1.02-.2 1.41-.59l7.78-7.78 2.81-2.81c.8-.78.8-2.07 0-2.86zM5.41 20L4 18.59l7.72-7.72 1.47 1.35L5.41 20z\"/>\n",
              "  </svg>\n",
              "      </button>\n",
              "      \n",
              "  <style>\n",
              "    .colab-df-container {\n",
              "      display:flex;\n",
              "      flex-wrap:wrap;\n",
              "      gap: 12px;\n",
              "    }\n",
              "\n",
              "    .colab-df-convert {\n",
              "      background-color: #E8F0FE;\n",
              "      border: none;\n",
              "      border-radius: 50%;\n",
              "      cursor: pointer;\n",
              "      display: none;\n",
              "      fill: #1967D2;\n",
              "      height: 32px;\n",
              "      padding: 0 0 0 0;\n",
              "      width: 32px;\n",
              "    }\n",
              "\n",
              "    .colab-df-convert:hover {\n",
              "      background-color: #E2EBFA;\n",
              "      box-shadow: 0px 1px 2px rgba(60, 64, 67, 0.3), 0px 1px 3px 1px rgba(60, 64, 67, 0.15);\n",
              "      fill: #174EA6;\n",
              "    }\n",
              "\n",
              "    [theme=dark] .colab-df-convert {\n",
              "      background-color: #3B4455;\n",
              "      fill: #D2E3FC;\n",
              "    }\n",
              "\n",
              "    [theme=dark] .colab-df-convert:hover {\n",
              "      background-color: #434B5C;\n",
              "      box-shadow: 0px 1px 3px 1px rgba(0, 0, 0, 0.15);\n",
              "      filter: drop-shadow(0px 1px 2px rgba(0, 0, 0, 0.3));\n",
              "      fill: #FFFFFF;\n",
              "    }\n",
              "  </style>\n",
              "\n",
              "      <script>\n",
              "        const buttonEl =\n",
              "          document.querySelector('#df-fdd94cae-64f2-4bcf-97e6-63825302878f button.colab-df-convert');\n",
              "        buttonEl.style.display =\n",
              "          google.colab.kernel.accessAllowed ? 'block' : 'none';\n",
              "\n",
              "        async function convertToInteractive(key) {\n",
              "          const element = document.querySelector('#df-fdd94cae-64f2-4bcf-97e6-63825302878f');\n",
              "          const dataTable =\n",
              "            await google.colab.kernel.invokeFunction('convertToInteractive',\n",
              "                                                     [key], {});\n",
              "          if (!dataTable) return;\n",
              "\n",
              "          const docLinkHtml = 'Like what you see? Visit the ' +\n",
              "            '<a target=\"_blank\" href=https://colab.research.google.com/notebooks/data_table.ipynb>data table notebook</a>'\n",
              "            + ' to learn more about interactive tables.';\n",
              "          element.innerHTML = '';\n",
              "          dataTable['output_type'] = 'display_data';\n",
              "          await google.colab.output.renderOutput(dataTable, element);\n",
              "          const docLink = document.createElement('div');\n",
              "          docLink.innerHTML = docLinkHtml;\n",
              "          element.appendChild(docLink);\n",
              "        }\n",
              "      </script>\n",
              "    </div>\n",
              "  </div>\n",
              "  "
            ]
          },
          "metadata": {},
          "execution_count": 21
        }
      ],
      "source": [
        "# Obtaining more detailed information about numerical features\n",
        "df.describe()"
      ]
    },
    {
      "cell_type": "markdown",
      "source": [
        "**Analysis output:**\n",
        "*   Weekly_Sales have negative values;\n",
        "*   MarkDowns have a lot of null numbers.\n",
        "\n"
      ],
      "metadata": {
        "id": "cjzoOE4RTaVm"
      }
    },
    {
      "cell_type": "markdown",
      "metadata": {
        "id": "683T0jQ6AVgo"
      },
      "source": [
        "#### **Missing Values**"
      ]
    },
    {
      "cell_type": "code",
      "execution_count": 22,
      "metadata": {
        "colab": {
          "base_uri": "https://localhost:8080/",
          "height": 625
        },
        "id": "_JOg_2sBoaqU",
        "outputId": "c5d7602c-da8a-41a1-cfdb-7dd7d0691532"
      },
      "outputs": [
        {
          "output_type": "display_data",
          "data": {
            "text/plain": [
              "<Figure size 1200x600 with 1 Axes>"
            ],
            "image/png": "[encoded data removed]"
          },
          "metadata": {}
        }
      ],
      "source": [
        "# Creating a dataframe with the percentage of missing values in each feature\n",
        "missing = pd.DataFrame((df.drop('Date', axis=1).isnull().sum()) * 100 / df.shape[0]).reset_index()\n",
        "\n",
        "# Plotting the dataframe graph (missing values percentage x feature)  \n",
        "plt.figure(figsize=(12, 6))\n",
        "ax = sns.pointplot(x='index', y=0, data=missing)\n",
        "plt.xticks(rotation=90, fontsize=7)\n",
        "plt.title(\"Percentage of Missing Values\")\n",
        "plt.ylabel(\"Percentage\")\n",
        "plt.show()"
      ]
    },
    {
      "cell_type": "markdown",
      "source": [
        "**Analysis output:**\n",
        "\n",
        "*   As expected, the Markdowns feature has a lot of missing values because we do not have such promotions every week of the year."
      ],
      "metadata": {
        "id": "kHpbP3oOS8u_"
      }
    },
    {
      "cell_type": "markdown",
      "source": [
        "#### **Understanding unsual data**"
      ],
      "metadata": {
        "id": "Tt0_BQ1kOgda"
      }
    },
    {
      "cell_type": "code",
      "source": [
        "# Find the average of weekly_sales by department for each store\n",
        "sales_grouped_dept = df.groupby([\"Store\",\"Dept\"]).agg({'Weekly_Sales':'mean'})\n",
        "\n",
        "# Check out negative values\n",
        "neg_sales = sales_grouped_dept.query(\"Weekly_Sales < 0\").reset_index()\n",
        "\n",
        "# Extracting the departments numbers\n",
        "dept_numbers = neg_sales[[\"Store\", \"Dept\"]]\n",
        "neg_sales"
      ],
      "metadata": {
        "colab": {
          "base_uri": "https://localhost:8080/",
          "height": 112
        },
        "id": "0wdaZwrfK-Jj",
        "outputId": "78ba4493-68b1-46a3-b679-1bc8e24dd4f1"
      },
      "execution_count": 23,
      "outputs": [
        {
          "output_type": "execute_result",
          "data": {
            "text/plain": [
              "   Store  Dept  Weekly_Sales\n",
              "0     36    72    -27.646364\n",
              "1     42    72    -43.211786"
            ],
            "text/html": [
              "\n",
              "  <div id=\"df-f6587cd6-1cce-4b52-9ccd-f451d1f5a876\">\n",
              "    <div class=\"colab-df-container\">\n",
              "      <div>\n",
              "<style scoped>\n",
              "    .dataframe tbody tr th:only-of-type {\n",
              "        vertical-align: middle;\n",
              "    }\n",
              "\n",
              "    .dataframe tbody tr th {\n",
              "        vertical-align: top;\n",
              "    }\n",
              "\n",
              "    .dataframe thead th {\n",
              "        text-align: right;\n",
              "    }\n",
              "</style>\n",
              "<table border=\"1\" class=\"dataframe\">\n",
              "  <thead>\n",
              "    <tr style=\"text-align: right;\">\n",
              "      <th></th>\n",
              "      <th>Store</th>\n",
              "      <th>Dept</th>\n",
              "      <th>Weekly_Sales</th>\n",
              "    </tr>\n",
              "  </thead>\n",
              "  <tbody>\n",
              "    <tr>\n",
              "      <th>0</th>\n",
              "      <td>36</td>\n",
              "      <td>72</td>\n",
              "      <td>-27.646364</td>\n",
              "    </tr>\n",
              "    <tr>\n",
              "      <th>1</th>\n",
              "      <td>42</td>\n",
              "      <td>72</td>\n",
              "      <td>-43.211786</td>\n",
              "    </tr>\n",
              "  </tbody>\n",
              "</table>\n",
              "</div>\n",
              "      <button class=\"colab-df-convert\" onclick=\"convertToInteractive('df-f6587cd6-1cce-4b52-9ccd-f451d1f5a876')\"\n",
              "              title=\"Convert this dataframe to an interactive table.\"\n",
              "              style=\"display:none;\">\n",
              "        \n",
              "  <svg xmlns=\"http://www.w3.org/2000/svg\" height=\"24px\"viewBox=\"0 0 24 24\"\n",
              "       width=\"24px\">\n",
              "    <path d=\"M0 0h24v24H0V0z\" fill=\"none\"/>\n",
              "    <path d=\"M18.56 5.44l.94 2.06.94-2.06 2.06-.94-2.06-.94-.94-2.06-.94 2.06-2.06.94zm-11 1L8.5 8.5l.94-2.06 2.06-.94-2.06-.94L8.5 2.5l-.94 2.06-2.06.94zm10 10l.94 2.06.94-2.06 2.06-.94-2.06-.94-.94-2.06-.94 2.06-2.06.94z\"/><path d=\"M17.41 7.96l-1.37-1.37c-.4-.4-.92-.59-1.43-.59-.52 0-1.04.2-1.43.59L10.3 9.45l-7.72 7.72c-.78.78-.78 2.05 0 2.83L4 21.41c.39.39.9.59 1.41.59.51 0 1.02-.2 1.41-.59l7.78-7.78 2.81-2.81c.8-.78.8-2.07 0-2.86zM5.41 20L4 18.59l7.72-7.72 1.47 1.35L5.41 20z\"/>\n",
              "  </svg>\n",
              "      </button>\n",
              "      \n",
              "  <style>\n",
              "    .colab-df-container {\n",
              "      display:flex;\n",
              "      flex-wrap:wrap;\n",
              "      gap: 12px;\n",
              "    }\n",
              "\n",
              "    .colab-df-convert {\n",
              "      background-color: #E8F0FE;\n",
              "      border: none;\n",
              "      border-radius: 50%;\n",
              "      cursor: pointer;\n",
              "      display: none;\n",
              "      fill: #1967D2;\n",
              "      height: 32px;\n",
              "      padding: 0 0 0 0;\n",
              "      width: 32px;\n",
              "    }\n",
              "\n",
              "    .colab-df-convert:hover {\n",
              "      background-color: #E2EBFA;\n",
              "      box-shadow: 0px 1px 2px rgba(60, 64, 67, 0.3), 0px 1px 3px 1px rgba(60, 64, 67, 0.15);\n",
              "      fill: #174EA6;\n",
              "    }\n",
              "\n",
              "    [theme=dark] .colab-df-convert {\n",
              "      background-color: #3B4455;\n",
              "      fill: #D2E3FC;\n",
              "    }\n",
              "\n",
              "    [theme=dark] .colab-df-convert:hover {\n",
              "      background-color: #434B5C;\n",
              "      box-shadow: 0px 1px 3px 1px rgba(0, 0, 0, 0.15);\n",
              "      filter: drop-shadow(0px 1px 2px rgba(0, 0, 0, 0.3));\n",
              "      fill: #FFFFFF;\n",
              "    }\n",
              "  </style>\n",
              "\n",
              "      <script>\n",
              "        const buttonEl =\n",
              "          document.querySelector('#df-f6587cd6-1cce-4b52-9ccd-f451d1f5a876 button.colab-df-convert');\n",
              "        buttonEl.style.display =\n",
              "          google.colab.kernel.accessAllowed ? 'block' : 'none';\n",
              "\n",
              "        async function convertToInteractive(key) {\n",
              "          const element = document.querySelector('#df-f6587cd6-1cce-4b52-9ccd-f451d1f5a876');\n",
              "          const dataTable =\n",
              "            await google.colab.kernel.invokeFunction('convertToInteractive',\n",
              "                                                     [key], {});\n",
              "          if (!dataTable) return;\n",
              "\n",
              "          const docLinkHtml = 'Like what you see? Visit the ' +\n",
              "            '<a target=\"_blank\" href=https://colab.research.google.com/notebooks/data_table.ipynb>data table notebook</a>'\n",
              "            + ' to learn more about interactive tables.';\n",
              "          element.innerHTML = '';\n",
              "          dataTable['output_type'] = 'display_data';\n",
              "          await google.colab.output.renderOutput(dataTable, element);\n",
              "          const docLink = document.createElement('div');\n",
              "          docLink.innerHTML = docLinkHtml;\n",
              "          element.appendChild(docLink);\n",
              "        }\n",
              "      </script>\n",
              "    </div>\n",
              "  </div>\n",
              "  "
            ]
          },
          "metadata": {},
          "execution_count": 23
        }
      ]
    },
    {
      "cell_type": "markdown",
      "source": [
        "**Analysis output:**\n",
        "*  Only department 72 have negative weekly sales;\n",
        "*  We cannot discard these values ​​or change them to zero, because we don't know what they really mean.\n",
        "\n"
      ],
      "metadata": {
        "id": "D2sNVeDPT1Bt"
      }
    },
    {
      "cell_type": "markdown",
      "source": [
        "#### **Preparing Data for Analysis**"
      ],
      "metadata": {
        "id": "RND8hD70PQQT"
      }
    },
    {
      "cell_type": "code",
      "execution_count": 24,
      "metadata": {
        "colab": {
          "base_uri": "https://localhost:8080/"
        },
        "id": "2bPaXp8y0guR",
        "outputId": "90e1d8a7-b04a-47d1-d3fa-3ef930759b5d"
      },
      "outputs": [
        {
          "output_type": "stream",
          "name": "stdout",
          "text": [
            "Start: 2010-02-05, End: 2012-10-26\n"
          ]
        }
      ],
      "source": [
        "# Checking the first and last datetime\n",
        "print(f'Start: {df[\"Date\"].min()}, End: {df[\"Date\"].max()}')"
      ]
    },
    {
      "cell_type": "code",
      "execution_count": 25,
      "metadata": {
        "id": "GHz0JQa30WZx"
      },
      "outputs": [],
      "source": [
        "# Transforming to the pandas datetime format\n",
        "df['Date'] = pd.to_datetime(df['Date'])\n",
        "df.sort_values(by=['Date'],inplace=True)"
      ]
    },
    {
      "cell_type": "code",
      "execution_count": 26,
      "metadata": {
        "colab": {
          "base_uri": "https://localhost:8080/",
          "height": 391
        },
        "id": "k2w3A1YZDpWA",
        "outputId": "62466b1e-4441-4142-edc7-18106fb9f78a"
      },
      "outputs": [
        {
          "output_type": "stream",
          "name": "stderr",
          "text": [
            "<ipython-input-26-1f71e2c953ba>:4: FutureWarning: Series.dt.weekofyear and Series.dt.week have been deprecated. Please use Series.dt.isocalendar().week instead.\n",
            "  df['Week'] = df['Date'].dt.week\n"
          ]
        },
        {
          "output_type": "execute_result",
          "data": {
            "text/plain": [
              "        Store  Dept       Date  Weekly_Sales  IsHoliday_x  Temperature  \\\n",
              "1           1     2 2010-02-05      50605.27        False        42.31   \n",
              "340321     36    95 2010-02-05      40389.37        False        45.97   \n",
              "340318     36    92 2010-02-05      63964.12        False        45.97   \n",
              "340317     36    91 2010-02-05      11509.78        False        45.97   \n",
              "340316     36    90 2010-02-05      47158.21        False        45.97   \n",
              "\n",
              "        Fuel_Price  MarkDown1  MarkDown2  MarkDown3  MarkDown4  MarkDown5  \\\n",
              "1            2.572        NaN        NaN        NaN        NaN        NaN   \n",
              "340321       2.545        NaN        NaN        NaN        NaN        NaN   \n",
              "340318       2.545        NaN        NaN        NaN        NaN        NaN   \n",
              "340317       2.545        NaN        NaN        NaN        NaN        NaN   \n",
              "340316       2.545        NaN        NaN        NaN        NaN        NaN   \n",
              "\n",
              "               CPI  Unemployment Type    Size  Year  Month  Week  \n",
              "1       211.096358         8.106    A  151315  2010      2     5  \n",
              "340321  209.852966         8.554    A   39910  2010      2     5  \n",
              "340318  209.852966         8.554    A   39910  2010      2     5  \n",
              "340317  209.852966         8.554    A   39910  2010      2     5  \n",
              "340316  209.852966         8.554    A   39910  2010      2     5  "
            ],
            "text/html": [
              "\n",
              "  <div id=\"df-51e6b77a-ac33-4976-8cb0-e38cda1f1c08\">\n",
              "    <div class=\"colab-df-container\">\n",
              "      <div>\n",
              "<style scoped>\n",
              "    .dataframe tbody tr th:only-of-type {\n",
              "        vertical-align: middle;\n",
              "    }\n",
              "\n",
              "    .dataframe tbody tr th {\n",
              "        vertical-align: top;\n",
              "    }\n",
              "\n",
              "    .dataframe thead th {\n",
              "        text-align: right;\n",
              "    }\n",
              "</style>\n",
              "<table border=\"1\" class=\"dataframe\">\n",
              "  <thead>\n",
              "    <tr style=\"text-align: right;\">\n",
              "      <th></th>\n",
              "      <th>Store</th>\n",
              "      <th>Dept</th>\n",
              "      <th>Date</th>\n",
              "      <th>Weekly_Sales</th>\n",
              "      <th>IsHoliday_x</th>\n",
              "      <th>Temperature</th>\n",
              "      <th>Fuel_Price</th>\n",
              "      <th>MarkDown1</th>\n",
              "      <th>MarkDown2</th>\n",
              "      <th>MarkDown3</th>\n",
              "      <th>MarkDown4</th>\n",
              "      <th>MarkDown5</th>\n",
              "      <th>CPI</th>\n",
              "      <th>Unemployment</th>\n",
              "      <th>Type</th>\n",
              "      <th>Size</th>\n",
              "      <th>Year</th>\n",
              "      <th>Month</th>\n",
              "      <th>Week</th>\n",
              "    </tr>\n",
              "  </thead>\n",
              "  <tbody>\n",
              "    <tr>\n",
              "      <th>1</th>\n",
              "      <td>1</td>\n",
              "      <td>2</td>\n",
              "      <td>2010-02-05</td>\n",
              "      <td>50605.27</td>\n",
              "      <td>False</td>\n",
              "      <td>42.31</td>\n",
              "      <td>2.572</td>\n",
              "      <td>NaN</td>\n",
              "      <td>NaN</td>\n",
              "      <td>NaN</td>\n",
              "      <td>NaN</td>\n",
              "      <td>NaN</td>\n",
              "      <td>211.096358</td>\n",
              "      <td>8.106</td>\n",
              "      <td>A</td>\n",
              "      <td>151315</td>\n",
              "      <td>2010</td>\n",
              "      <td>2</td>\n",
              "      <td>5</td>\n",
              "    </tr>\n",
              "    <tr>\n",
              "      <th>340321</th>\n",
              "      <td>36</td>\n",
              "      <td>95</td>\n",
              "      <td>2010-02-05</td>\n",
              "      <td>40389.37</td>\n",
              "      <td>False</td>\n",
              "      <td>45.97</td>\n",
              "      <td>2.545</td>\n",
              "      <td>NaN</td>\n",
              "      <td>NaN</td>\n",
              "      <td>NaN</td>\n",
              "      <td>NaN</td>\n",
              "      <td>NaN</td>\n",
              "      <td>209.852966</td>\n",
              "      <td>8.554</td>\n",
              "      <td>A</td>\n",
              "      <td>39910</td>\n",
              "      <td>2010</td>\n",
              "      <td>2</td>\n",
              "      <td>5</td>\n",
              "    </tr>\n",
              "    <tr>\n",
              "      <th>340318</th>\n",
              "      <td>36</td>\n",
              "      <td>92</td>\n",
              "      <td>2010-02-05</td>\n",
              "      <td>63964.12</td>\n",
              "      <td>False</td>\n",
              "      <td>45.97</td>\n",
              "      <td>2.545</td>\n",
              "      <td>NaN</td>\n",
              "      <td>NaN</td>\n",
              "      <td>NaN</td>\n",
              "      <td>NaN</td>\n",
              "      <td>NaN</td>\n",
              "      <td>209.852966</td>\n",
              "      <td>8.554</td>\n",
              "      <td>A</td>\n",
              "      <td>39910</td>\n",
              "      <td>2010</td>\n",
              "      <td>2</td>\n",
              "      <td>5</td>\n",
              "    </tr>\n",
              "    <tr>\n",
              "      <th>340317</th>\n",
              "      <td>36</td>\n",
              "      <td>91</td>\n",
              "      <td>2010-02-05</td>\n",
              "      <td>11509.78</td>\n",
              "      <td>False</td>\n",
              "      <td>45.97</td>\n",
              "      <td>2.545</td>\n",
              "      <td>NaN</td>\n",
              "      <td>NaN</td>\n",
              "      <td>NaN</td>\n",
              "      <td>NaN</td>\n",
              "      <td>NaN</td>\n",
              "      <td>209.852966</td>\n",
              "      <td>8.554</td>\n",
              "      <td>A</td>\n",
              "      <td>39910</td>\n",
              "      <td>2010</td>\n",
              "      <td>2</td>\n",
              "      <td>5</td>\n",
              "    </tr>\n",
              "    <tr>\n",
              "      <th>340316</th>\n",
              "      <td>36</td>\n",
              "      <td>90</td>\n",
              "      <td>2010-02-05</td>\n",
              "      <td>47158.21</td>\n",
              "      <td>False</td>\n",
              "      <td>45.97</td>\n",
              "      <td>2.545</td>\n",
              "      <td>NaN</td>\n",
              "      <td>NaN</td>\n",
              "      <td>NaN</td>\n",
              "      <td>NaN</td>\n",
              "      <td>NaN</td>\n",
              "      <td>209.852966</td>\n",
              "      <td>8.554</td>\n",
              "      <td>A</td>\n",
              "      <td>39910</td>\n",
              "      <td>2010</td>\n",
              "      <td>2</td>\n",
              "      <td>5</td>\n",
              "    </tr>\n",
              "  </tbody>\n",
              "</table>\n",
              "</div>\n",
              "      <button class=\"colab-df-convert\" onclick=\"convertToInteractive('df-51e6b77a-ac33-4976-8cb0-e38cda1f1c08')\"\n",
              "              title=\"Convert this dataframe to an interactive table.\"\n",
              "              style=\"display:none;\">\n",
              "        \n",
              "  <svg xmlns=\"http://www.w3.org/2000/svg\" height=\"24px\"viewBox=\"0 0 24 24\"\n",
              "       width=\"24px\">\n",
              "    <path d=\"M0 0h24v24H0V0z\" fill=\"none\"/>\n",
              "    <path d=\"M18.56 5.44l.94 2.06.94-2.06 2.06-.94-2.06-.94-.94-2.06-.94 2.06-2.06.94zm-11 1L8.5 8.5l.94-2.06 2.06-.94-2.06-.94L8.5 2.5l-.94 2.06-2.06.94zm10 10l.94 2.06.94-2.06 2.06-.94-2.06-.94-.94-2.06-.94 2.06-2.06.94z\"/><path d=\"M17.41 7.96l-1.37-1.37c-.4-.4-.92-.59-1.43-.59-.52 0-1.04.2-1.43.59L10.3 9.45l-7.72 7.72c-.78.78-.78 2.05 0 2.83L4 21.41c.39.39.9.59 1.41.59.51 0 1.02-.2 1.41-.59l7.78-7.78 2.81-2.81c.8-.78.8-2.07 0-2.86zM5.41 20L4 18.59l7.72-7.72 1.47 1.35L5.41 20z\"/>\n",
              "  </svg>\n",
              "      </button>\n",
              "      \n",
              "  <style>\n",
              "    .colab-df-container {\n",
              "      display:flex;\n",
              "      flex-wrap:wrap;\n",
              "      gap: 12px;\n",
              "    }\n",
              "\n",
              "    .colab-df-convert {\n",
              "      background-color: #E8F0FE;\n",
              "      border: none;\n",
              "      border-radius: 50%;\n",
              "      cursor: pointer;\n",
              "      display: none;\n",
              "      fill: #1967D2;\n",
              "      height: 32px;\n",
              "      padding: 0 0 0 0;\n",
              "      width: 32px;\n",
              "    }\n",
              "\n",
              "    .colab-df-convert:hover {\n",
              "      background-color: #E2EBFA;\n",
              "      box-shadow: 0px 1px 2px rgba(60, 64, 67, 0.3), 0px 1px 3px 1px rgba(60, 64, 67, 0.15);\n",
              "      fill: #174EA6;\n",
              "    }\n",
              "\n",
              "    [theme=dark] .colab-df-convert {\n",
              "      background-color: #3B4455;\n",
              "      fill: #D2E3FC;\n",
              "    }\n",
              "\n",
              "    [theme=dark] .colab-df-convert:hover {\n",
              "      background-color: #434B5C;\n",
              "      box-shadow: 0px 1px 3px 1px rgba(0, 0, 0, 0.15);\n",
              "      filter: drop-shadow(0px 1px 2px rgba(0, 0, 0, 0.3));\n",
              "      fill: #FFFFFF;\n",
              "    }\n",
              "  </style>\n",
              "\n",
              "      <script>\n",
              "        const buttonEl =\n",
              "          document.querySelector('#df-51e6b77a-ac33-4976-8cb0-e38cda1f1c08 button.colab-df-convert');\n",
              "        buttonEl.style.display =\n",
              "          google.colab.kernel.accessAllowed ? 'block' : 'none';\n",
              "\n",
              "        async function convertToInteractive(key) {\n",
              "          const element = document.querySelector('#df-51e6b77a-ac33-4976-8cb0-e38cda1f1c08');\n",
              "          const dataTable =\n",
              "            await google.colab.kernel.invokeFunction('convertToInteractive',\n",
              "                                                     [key], {});\n",
              "          if (!dataTable) return;\n",
              "\n",
              "          const docLinkHtml = 'Like what you see? Visit the ' +\n",
              "            '<a target=\"_blank\" href=https://colab.research.google.com/notebooks/data_table.ipynb>data table notebook</a>'\n",
              "            + ' to learn more about interactive tables.';\n",
              "          element.innerHTML = '';\n",
              "          dataTable['output_type'] = 'display_data';\n",
              "          await google.colab.output.renderOutput(dataTable, element);\n",
              "          const docLink = document.createElement('div');\n",
              "          docLink.innerHTML = docLinkHtml;\n",
              "          element.appendChild(docLink);\n",
              "        }\n",
              "      </script>\n",
              "    </div>\n",
              "  </div>\n",
              "  "
            ]
          },
          "metadata": {},
          "execution_count": 26
        }
      ],
      "source": [
        "# Creating year, month and week features\n",
        "df['Year'] = df['Date'].dt.year\n",
        "df['Month'] = df['Date'].dt.month\n",
        "df['Week'] = df['Date'].dt.week\n",
        "\n",
        "df.head()"
      ]
    },
    {
      "cell_type": "markdown",
      "metadata": {
        "id": "dMMI6QW1KDJt"
      },
      "source": [
        "### **Analysis of the Number of Sales**"
      ]
    },
    {
      "cell_type": "markdown",
      "metadata": {
        "id": "0HeijswsF3v3"
      },
      "source": [
        "#### **Per Year**"
      ]
    },
    {
      "cell_type": "code",
      "source": [
        "agg('Year', 'Weekly_Sales')\n",
        "barplot('Year', 'Weekly_Sales')"
      ],
      "metadata": {
        "colab": {
          "base_uri": "https://localhost:8080/",
          "height": 497
        },
        "id": "dMRvXHhK1ANK",
        "outputId": "1063810c-b7ef-40cf-ecc0-8f0bcf9afd6e"
      },
      "execution_count": 27,
      "outputs": [
        {
          "output_type": "display_data",
          "data": {
            "text/plain": [
              "<Figure size 2000x800 with 1 Axes>"
            ],
            "image/png": "[encoded data removed]"
          },
          "metadata": {}
        }
      ]
    },
    {
      "cell_type": "markdown",
      "source": [
        "**Analysis output:**\n",
        "*   2012 was the best sales year;\n",
        "*   2010 was the worst sales year.\n",
        "\n",
        "\n"
      ],
      "metadata": {
        "id": "GVgdw2Z4XxGB"
      }
    },
    {
      "cell_type": "markdown",
      "metadata": {
        "id": "_lkHgoMUKp32"
      },
      "source": [
        "#### **Per Month**"
      ]
    },
    {
      "cell_type": "code",
      "source": [
        "agg('Month', 'Weekly_Sales')\n",
        "barplot('Month', 'Weekly_Sales')"
      ],
      "metadata": {
        "colab": {
          "base_uri": "https://localhost:8080/",
          "height": 497
        },
        "id": "UPMvHRzB12N-",
        "outputId": "542f7c50-e787-4665-9bd7-f0f58f679617"
      },
      "execution_count": 28,
      "outputs": [
        {
          "output_type": "display_data",
          "data": {
            "text/plain": [
              "<Figure size 2000x800 with 1 Axes>"
            ],
            "image/png": "[encoded data removed]"
          },
          "metadata": {}
        }
      ]
    },
    {
      "cell_type": "markdown",
      "source": [
        "**Analysis output:**\n",
        "* The top 3 months in descending order:\n",
        "  - 11, 12 and 2\n",
        "* The 3 worst months in ascending order:\n",
        "  - 4, 5 and 7.\n",
        "\n"
      ],
      "metadata": {
        "id": "OlsStcKhX-WY"
      }
    },
    {
      "cell_type": "markdown",
      "metadata": {
        "id": "G-VpBhABKxst"
      },
      "source": [
        "#### **Per Store**"
      ]
    },
    {
      "cell_type": "code",
      "source": [
        "agg('Store', 'Weekly_Sales')\n",
        "barplot('Store', 'Weekly_Sales')"
      ],
      "metadata": {
        "colab": {
          "base_uri": "https://localhost:8080/",
          "height": 495
        },
        "id": "PE8EnbxN2OrS",
        "outputId": "c10ee6bd-66c5-47b1-b9e1-c42ca4101b4b"
      },
      "execution_count": 29,
      "outputs": [
        {
          "output_type": "display_data",
          "data": {
            "text/plain": [
              "<Figure size 2000x800 with 1 Axes>"
            ],
            "image/png": "[encoded data removed]"
          },
          "metadata": {}
        }
      ]
    },
    {
      "cell_type": "markdown",
      "source": [
        "**Analysis output:**\n",
        "* The top 3 Stores in descending order:\n",
        "  - 20, 14 and 4.\n",
        "* The 3 worst stores in ascending order:\n",
        "  - 33, 5 and 44.\n",
        "\n"
      ],
      "metadata": {
        "id": "FBphd9S5YiuA"
      }
    },
    {
      "cell_type": "markdown",
      "metadata": {
        "id": "WOOfgTdlLCNR"
      },
      "source": [
        "#### **Per Store Size**"
      ]
    },
    {
      "cell_type": "code",
      "execution_count": 30,
      "metadata": {
        "id": "Jg4erxpXGEbI",
        "colab": {
          "base_uri": "https://localhost:8080/",
          "height": 597
        },
        "outputId": "d0d63c18-ca1e-4d7f-c4ca-e75fa5c4f4df"
      },
      "outputs": [
        {
          "output_type": "stream",
          "name": "stderr",
          "text": [
            "<ipython-input-30-9226120e6b0c>:2: FutureWarning: The default value of numeric_only in DataFrameGroupBy.mean is deprecated. In a future version, numeric_only will default to False. Either specify numeric_only or select only columns which should be valid for the function.\n",
            "  sizes= df.groupby('Size').mean()\n"
          ]
        },
        {
          "output_type": "display_data",
          "data": {
            "text/html": [
              "<html>\n",
              "<head><meta charset=\"utf-8\" /></head>\n",
              "<body>\n",
              "    <div>            <script src=\"https://cdnjs.cloudflare.com/ajax/libs/mathjax/2.7.5/MathJax.js?config=TeX-AMS-MML_SVG\"></script><script type=\"text/javascript\">if (window.MathJax && window.MathJax.Hub && window.MathJax.Hub.Config) {window.MathJax.Hub.Config({SVG: {font: \"STIX-Web\"}});}</script>                <script type=\"text/javascript\">window.PlotlyConfig = {MathJaxConfig: 'local'};</script>\n",
              "        <script src=\"https://cdn.plot.ly/plotly-2.18.2.min.js\"></script>                <div id=\"cad0b0a5-ee61-4e8c-b6bb-846bc188daf6\" class=\"plotly-graph-div\" style=\"height:525px; width:100%;\"></div>            <script type=\"text/javascript\">                                    window.PLOTLYENV=window.PLOTLYENV || {};                                    if (document.getElementById(\"cad0b0a5-ee61-4e8c-b6bb-846bc188daf6\")) {                    Plotly.newPlot(                        \"cad0b0a5-ee61-4e8c-b6bb-846bc188daf6\",                        [{\"hovertemplate\":\"Size=%{x}<br>Weekly_Sales=%{y}<extra></extra>\",\"legendgroup\":\"\",\"line\":{\"color\":\"#636efa\",\"dash\":\"solid\"},\"marker\":{\"symbol\":\"circle\"},\"mode\":\"lines\",\"name\":\"\",\"orientation\":\"v\",\"showlegend\":false,\"x\":[34875,37392,39690,39910,41062,42988,57197,70713,93188,93638,103681,112238,114533,118221,119557,120653,123737,125833,126512,128107,140167,151315,152513,155078,155083,158114,184109,196321,200898,202307,202505,203007,203742,203750,203819,204184,205863,206302,207499,219622],\"xaxis\":\"x\",\"y\":[15509.826601398601,21128.59637062937,25928.5359905894,24875.38511063011,38370.344144460025,28597.061245626315,22714.791538461537,24449.71039160839,41127.92355244755,24092.98300699301,35565.6183006993,41051.48927272727,48223.90455244756,36834.75761538462,47129.51655244755,46739.15346853147,24520.14077622378,25571.479937062937,74079.3357972028,32044.477496503496,29725.700307692307,70929.00281118881,51278.11688111888,41571.89462237762,45883.08723076923,42489.91816083916,66792.99011188811,59844.49376923077,98655.34399300699,89360.82044055944,64737.955,56360.3497062937,98959.0206853147,70011.14222377622,64401.10102797203,78153.77464335664,94863.91008391608,59767.463216783224,57810.725692307686,89437.90704895105],\"yaxis\":\"y\",\"type\":\"scatter\"}],                        {\"template\":{\"data\":{\"histogram2dcontour\":[{\"type\":\"histogram2dcontour\",\"colorbar\":{\"outlinewidth\":0,\"ticks\":\"\"},\"colorscale\":[[0.0,\"#0d0887\"],[0.1111111111111111,\"#46039f\"],[0.2222222222222222,\"#7201a8\"],[0.3333333333333333,\"#9c179e\"],[0.4444444444444444,\"#bd3786\"],[0.5555555555555556,\"#d8576b\"],[0.6666666666666666,\"#ed7953\"],[0.7777777777777778,\"#fb9f3a\"],[0.8888888888888888,\"#fdca26\"],[1.0,\"#f0f921\"]]}],\"choropleth\":[{\"type\":\"choropleth\",\"colorbar\":{\"outlinewidth\":0,\"ticks\":\"\"}}],\"histogram2d\":[{\"type\":\"histogram2d\",\"colorbar\":{\"outlinewidth\":0,\"ticks\":\"\"},\"colorscale\":[[0.0,\"#0d0887\"],[0.1111111111111111,\"#46039f\"],[0.2222222222222222,\"#7201a8\"],[0.3333333333333333,\"#9c179e\"],[0.4444444444444444,\"#bd3786\"],[0.5555555555555556,\"#d8576b\"],[0.6666666666666666,\"#ed7953\"],[0.7777777777777778,\"#fb9f3a\"],[0.8888888888888888,\"#fdca26\"],[1.0,\"#f0f921\"]]}],\"heatmap\":[{\"type\":\"heatmap\",\"colorbar\":{\"outlinewidth\":0,\"ticks\":\"\"},\"colorscale\":[[0.0,\"#0d0887\"],[0.1111111111111111,\"#46039f\"],[0.2222222222222222,\"#7201a8\"],[0.3333333333333333,\"#9c179e\"],[0.4444444444444444,\"#bd3786\"],[0.5555555555555556,\"#d8576b\"],[0.6666666666666666,\"#ed7953\"],[0.7777777777777778,\"#fb9f3a\"],[0.8888888888888888,\"#fdca26\"],[1.0,\"#f0f921\"]]}],\"heatmapgl\":[{\"type\":\"heatmapgl\",\"colorbar\":{\"outlinewidth\":0,\"ticks\":\"\"},\"colorscale\":[[0.0,\"#0d0887\"],[0.1111111111111111,\"#46039f\"],[0.2222222222222222,\"#7201a8\"],[0.3333333333333333,\"#9c179e\"],[0.4444444444444444,\"#bd3786\"],[0.5555555555555556,\"#d8576b\"],[0.6666666666666666,\"#ed7953\"],[0.7777777777777778,\"#fb9f3a\"],[0.8888888888888888,\"#fdca26\"],[1.0,\"#f0f921\"]]}],\"contourcarpet\":[{\"type\":\"contourcarpet\",\"colorbar\":{\"outlinewidth\":0,\"ticks\":\"\"}}],\"contour\":[{\"type\":\"contour\",\"colorbar\":{\"outlinewidth\":0,\"ticks\":\"\"},\"colorscale\":[[0.0,\"#0d0887\"],[0.1111111111111111,\"#46039f\"],[0.2222222222222222,\"#7201a8\"],[0.3333333333333333,\"#9c179e\"],[0.4444444444444444,\"#bd3786\"],[0.5555555555555556,\"#d8576b\"],[0.6666666666666666,\"#ed7953\"],[0.7777777777777778,\"#fb9f3a\"],[0.8888888888888888,\"#fdca26\"],[1.0,\"#f0f921\"]]}],\"surface\":[{\"type\":\"surface\",\"colorbar\":{\"outlinewidth\":0,\"ticks\":\"\"},\"colorscale\":[[0.0,\"#0d0887\"],[0.1111111111111111,\"#46039f\"],[0.2222222222222222,\"#7201a8\"],[0.3333333333333333,\"#9c179e\"],[0.4444444444444444,\"#bd3786\"],[0.5555555555555556,\"#d8576b\"],[0.6666666666666666,\"#ed7953\"],[0.7777777777777778,\"#fb9f3a\"],[0.8888888888888888,\"#fdca26\"],[1.0,\"#f0f921\"]]}],\"mesh3d\":[{\"type\":\"mesh3d\",\"colorbar\":{\"outlinewidth\":0,\"ticks\":\"\"}}],\"scatter\":[{\"fillpattern\":{\"fillmode\":\"overlay\",\"size\":10,\"solidity\":0.2},\"type\":\"scatter\"}],\"parcoords\":[{\"type\":\"parcoords\",\"line\":{\"colorbar\":{\"outlinewidth\":0,\"ticks\":\"\"}}}],\"scatterpolargl\":[{\"type\":\"scatterpolargl\",\"marker\":{\"colorbar\":{\"outlinewidth\":0,\"ticks\":\"\"}}}],\"bar\":[{\"error_x\":{\"color\":\"#2a3f5f\"},\"error_y\":{\"color\":\"#2a3f5f\"},\"marker\":{\"line\":{\"color\":\"#E5ECF6\",\"width\":0.5},\"pattern\":{\"fillmode\":\"overlay\",\"size\":10,\"solidity\":0.2}},\"type\":\"bar\"}],\"scattergeo\":[{\"type\":\"scattergeo\",\"marker\":{\"colorbar\":{\"outlinewidth\":0,\"ticks\":\"\"}}}],\"scatterpolar\":[{\"type\":\"scatterpolar\",\"marker\":{\"colorbar\":{\"outlinewidth\":0,\"ticks\":\"\"}}}],\"histogram\":[{\"marker\":{\"pattern\":{\"fillmode\":\"overlay\",\"size\":10,\"solidity\":0.2}},\"type\":\"histogram\"}],\"scattergl\":[{\"type\":\"scattergl\",\"marker\":{\"colorbar\":{\"outlinewidth\":0,\"ticks\":\"\"}}}],\"scatter3d\":[{\"type\":\"scatter3d\",\"line\":{\"colorbar\":{\"outlinewidth\":0,\"ticks\":\"\"}},\"marker\":{\"colorbar\":{\"outlinewidth\":0,\"ticks\":\"\"}}}],\"scattermapbox\":[{\"type\":\"scattermapbox\",\"marker\":{\"colorbar\":{\"outlinewidth\":0,\"ticks\":\"\"}}}],\"scatterternary\":[{\"type\":\"scatterternary\",\"marker\":{\"colorbar\":{\"outlinewidth\":0,\"ticks\":\"\"}}}],\"scattercarpet\":[{\"type\":\"scattercarpet\",\"marker\":{\"colorbar\":{\"outlinewidth\":0,\"ticks\":\"\"}}}],\"carpet\":[{\"aaxis\":{\"endlinecolor\":\"#2a3f5f\",\"gridcolor\":\"white\",\"linecolor\":\"white\",\"minorgridcolor\":\"white\",\"startlinecolor\":\"#2a3f5f\"},\"baxis\":{\"endlinecolor\":\"#2a3f5f\",\"gridcolor\":\"white\",\"linecolor\":\"white\",\"minorgridcolor\":\"white\",\"startlinecolor\":\"#2a3f5f\"},\"type\":\"carpet\"}],\"table\":[{\"cells\":{\"fill\":{\"color\":\"#EBF0F8\"},\"line\":{\"color\":\"white\"}},\"header\":{\"fill\":{\"color\":\"#C8D4E3\"},\"line\":{\"color\":\"white\"}},\"type\":\"table\"}],\"barpolar\":[{\"marker\":{\"line\":{\"color\":\"#E5ECF6\",\"width\":0.5},\"pattern\":{\"fillmode\":\"overlay\",\"size\":10,\"solidity\":0.2}},\"type\":\"barpolar\"}],\"pie\":[{\"automargin\":true,\"type\":\"pie\"}]},\"layout\":{\"autotypenumbers\":\"strict\",\"colorway\":[\"#636efa\",\"#EF553B\",\"#00cc96\",\"#ab63fa\",\"#FFA15A\",\"#19d3f3\",\"#FF6692\",\"#B6E880\",\"#FF97FF\",\"#FECB52\"],\"font\":{\"color\":\"#2a3f5f\"},\"hovermode\":\"closest\",\"hoverlabel\":{\"align\":\"left\"},\"paper_bgcolor\":\"white\",\"plot_bgcolor\":\"#E5ECF6\",\"polar\":{\"bgcolor\":\"#E5ECF6\",\"angularaxis\":{\"gridcolor\":\"white\",\"linecolor\":\"white\",\"ticks\":\"\"},\"radialaxis\":{\"gridcolor\":\"white\",\"linecolor\":\"white\",\"ticks\":\"\"}},\"ternary\":{\"bgcolor\":\"#E5ECF6\",\"aaxis\":{\"gridcolor\":\"white\",\"linecolor\":\"white\",\"ticks\":\"\"},\"baxis\":{\"gridcolor\":\"white\",\"linecolor\":\"white\",\"ticks\":\"\"},\"caxis\":{\"gridcolor\":\"white\",\"linecolor\":\"white\",\"ticks\":\"\"}},\"coloraxis\":{\"colorbar\":{\"outlinewidth\":0,\"ticks\":\"\"}},\"colorscale\":{\"sequential\":[[0.0,\"#0d0887\"],[0.1111111111111111,\"#46039f\"],[0.2222222222222222,\"#7201a8\"],[0.3333333333333333,\"#9c179e\"],[0.4444444444444444,\"#bd3786\"],[0.5555555555555556,\"#d8576b\"],[0.6666666666666666,\"#ed7953\"],[0.7777777777777778,\"#fb9f3a\"],[0.8888888888888888,\"#fdca26\"],[1.0,\"#f0f921\"]],\"sequentialminus\":[[0.0,\"#0d0887\"],[0.1111111111111111,\"#46039f\"],[0.2222222222222222,\"#7201a8\"],[0.3333333333333333,\"#9c179e\"],[0.4444444444444444,\"#bd3786\"],[0.5555555555555556,\"#d8576b\"],[0.6666666666666666,\"#ed7953\"],[0.7777777777777778,\"#fb9f3a\"],[0.8888888888888888,\"#fdca26\"],[1.0,\"#f0f921\"]],\"diverging\":[[0,\"#8e0152\"],[0.1,\"#c51b7d\"],[0.2,\"#de77ae\"],[0.3,\"#f1b6da\"],[0.4,\"#fde0ef\"],[0.5,\"#f7f7f7\"],[0.6,\"#e6f5d0\"],[0.7,\"#b8e186\"],[0.8,\"#7fbc41\"],[0.9,\"#4d9221\"],[1,\"#276419\"]]},\"xaxis\":{\"gridcolor\":\"white\",\"linecolor\":\"white\",\"ticks\":\"\",\"title\":{\"standoff\":15},\"zerolinecolor\":\"white\",\"automargin\":true,\"zerolinewidth\":2},\"yaxis\":{\"gridcolor\":\"white\",\"linecolor\":\"white\",\"ticks\":\"\",\"title\":{\"standoff\":15},\"zerolinecolor\":\"white\",\"automargin\":true,\"zerolinewidth\":2},\"scene\":{\"xaxis\":{\"backgroundcolor\":\"#E5ECF6\",\"gridcolor\":\"white\",\"linecolor\":\"white\",\"showbackground\":true,\"ticks\":\"\",\"zerolinecolor\":\"white\",\"gridwidth\":2},\"yaxis\":{\"backgroundcolor\":\"#E5ECF6\",\"gridcolor\":\"white\",\"linecolor\":\"white\",\"showbackground\":true,\"ticks\":\"\",\"zerolinecolor\":\"white\",\"gridwidth\":2},\"zaxis\":{\"backgroundcolor\":\"#E5ECF6\",\"gridcolor\":\"white\",\"linecolor\":\"white\",\"showbackground\":true,\"ticks\":\"\",\"zerolinecolor\":\"white\",\"gridwidth\":2}},\"shapedefaults\":{\"line\":{\"color\":\"#2a3f5f\"}},\"annotationdefaults\":{\"arrowcolor\":\"#2a3f5f\",\"arrowhead\":0,\"arrowwidth\":1},\"geo\":{\"bgcolor\":\"white\",\"landcolor\":\"#E5ECF6\",\"subunitcolor\":\"white\",\"showland\":true,\"showlakes\":true,\"lakecolor\":\"white\"},\"title\":{\"x\":0.05},\"mapbox\":{\"style\":\"light\"}}},\"xaxis\":{\"anchor\":\"y\",\"domain\":[0.0,1.0],\"title\":{\"text\":\"Size\"}},\"yaxis\":{\"anchor\":\"x\",\"domain\":[0.0,1.0],\"title\":{\"text\":\"Weekly_Sales\"}},\"legend\":{\"tracegroupgap\":0},\"title\":{\"text\":\"Size da Store e vendas\"}},                        {\"responsive\": true}                    ).then(function(){\n",
              "                            \n",
              "var gd = document.getElementById('cad0b0a5-ee61-4e8c-b6bb-846bc188daf6');\n",
              "var x = new MutationObserver(function (mutations, observer) {{\n",
              "        var display = window.getComputedStyle(gd).display;\n",
              "        if (!display || display === 'none') {{\n",
              "            console.log([gd, 'removed!']);\n",
              "            Plotly.purge(gd);\n",
              "            observer.disconnect();\n",
              "        }}\n",
              "}});\n",
              "\n",
              "// Listen for the removal of the full notebook cells\n",
              "var notebookContainer = gd.closest('#notebook-container');\n",
              "if (notebookContainer) {{\n",
              "    x.observe(notebookContainer, {childList: true});\n",
              "}}\n",
              "\n",
              "// Listen for the clearing of the current output cell\n",
              "var outputEl = gd.closest('.output');\n",
              "if (outputEl) {{\n",
              "    x.observe(outputEl, {childList: true});\n",
              "}}\n",
              "\n",
              "                        })                };                            </script>        </div>\n",
              "</body>\n",
              "</html>"
            ]
          },
          "metadata": {}
        }
      ],
      "source": [
        "# Plotting graph of average sales per size\n",
        "sizes= df.groupby('Size').mean()\n",
        "fig=px.line(sizes, x = sizes.index, y = sizes.Weekly_Sales, \n",
        "        title='Size da Store e vendas')\n",
        "fig.show()"
      ]
    },
    {
      "cell_type": "markdown",
      "source": [
        "**Analysis output:**\n",
        "*   Size and weekly sales are directly related.\n",
        "\n"
      ],
      "metadata": {
        "id": "v-nicJsoYyCW"
      }
    },
    {
      "cell_type": "markdown",
      "metadata": {
        "id": "kFzaveGiMpdp"
      },
      "source": [
        "## **2. Feature Engineering**"
      ]
    },
    {
      "cell_type": "markdown",
      "source": [
        "#### **ID**\n",
        "\n",
        "- Each store and department combination has its own identifier."
      ],
      "metadata": {
        "id": "dYMkkLDd-vmL"
      }
    },
    {
      "cell_type": "code",
      "source": [
        "# Creating the ID column\n",
        "df['Dept'] = df['Dept'].astype(str)\n",
        "df['Store'] = df['Store'].astype(str)\n",
        "df['ID'] = df['Store'] + '_' + df['Dept']"
      ],
      "metadata": {
        "id": "Bf2J5T6EGChQ"
      },
      "execution_count": 31,
      "outputs": []
    },
    {
      "cell_type": "code",
      "source": [
        "df['ID'] = df['Store'].astype(str) + '_' + df['Dept'].astype(str)"
      ],
      "metadata": {
        "id": "tKsDNsidG4NS"
      },
      "execution_count": 32,
      "outputs": []
    },
    {
      "cell_type": "code",
      "source": [
        "df['Dept'] = df['Dept'].astype(int)\n",
        "df['Store'] = df['Store'].astype(int)"
      ],
      "metadata": {
        "id": "T5zODdKQHG8d"
      },
      "execution_count": 33,
      "outputs": []
    },
    {
      "cell_type": "markdown",
      "source": [
        "**ID format:** Store_Department \n",
        "\n",
        "**Ex:** 1_45"
      ],
      "metadata": {
        "id": "aGQs_labm2zw"
      }
    },
    {
      "cell_type": "code",
      "source": [
        "# Transforming the Date colum in the dataframe index\n",
        "df['Date'] = pd.to_datetime(df['Date'],errors='coerce')\n",
        "df.sort_values(by=['ID','Date'],inplace=True)\n",
        "df.set_index(df.Date, inplace=True)\n",
        "df.head()"
      ],
      "metadata": {
        "colab": {
          "base_uri": "https://localhost:8080/",
          "height": 388
        },
        "id": "VE3duTI3BE_X",
        "outputId": "1616d456-f390-4a2f-cd4d-96fc61f0fd33"
      },
      "execution_count": 34,
      "outputs": [
        {
          "output_type": "execute_result",
          "data": {
            "text/plain": [
              "            Store  Dept       Date  Weekly_Sales  IsHoliday_x  Temperature  \\\n",
              "Date                                                                         \n",
              "2010-02-05     10    13 2010-02-05      74020.63        False        54.34   \n",
              "2010-02-12     10    13 2010-02-12      69145.42         True        49.96   \n",
              "2010-02-19     10    13 2010-02-19      68060.96        False        58.22   \n",
              "2010-02-26     10    13 2010-02-26      71517.99        False        52.77   \n",
              "2010-03-05     10    13 2010-03-05      70279.43        False        55.92   \n",
              "\n",
              "            Fuel_Price  MarkDown1  MarkDown2  MarkDown3  MarkDown4  MarkDown5  \\\n",
              "Date                                                                            \n",
              "2010-02-05       2.962        NaN        NaN        NaN        NaN        NaN   \n",
              "2010-02-12       2.828        NaN        NaN        NaN        NaN        NaN   \n",
              "2010-02-19       2.915        NaN        NaN        NaN        NaN        NaN   \n",
              "2010-02-26       2.825        NaN        NaN        NaN        NaN        NaN   \n",
              "2010-03-05       2.877        NaN        NaN        NaN        NaN        NaN   \n",
              "\n",
              "                   CPI  Unemployment Type    Size  Year  Month  Week     ID  \n",
              "Date                                                                         \n",
              "2010-02-05  126.442065         9.765    B  126512  2010      2     5  10_13  \n",
              "2010-02-12  126.496258         9.765    B  126512  2010      2     6  10_13  \n",
              "2010-02-19  126.526286         9.765    B  126512  2010      2     7  10_13  \n",
              "2010-02-26  126.552286         9.765    B  126512  2010      2     8  10_13  \n",
              "2010-03-05  126.578286         9.765    B  126512  2010      3     9  10_13  "
            ],
            "text/html": [
              "\n",
              "  <div id=\"df-8bf44701-456e-474f-ba13-ccb8af41d793\">\n",
              "    <div class=\"colab-df-container\">\n",
              "      <div>\n",
              "<style scoped>\n",
              "    .dataframe tbody tr th:only-of-type {\n",
              "        vertical-align: middle;\n",
              "    }\n",
              "\n",
              "    .dataframe tbody tr th {\n",
              "        vertical-align: top;\n",
              "    }\n",
              "\n",
              "    .dataframe thead th {\n",
              "        text-align: right;\n",
              "    }\n",
              "</style>\n",
              "<table border=\"1\" class=\"dataframe\">\n",
              "  <thead>\n",
              "    <tr style=\"text-align: right;\">\n",
              "      <th></th>\n",
              "      <th>Store</th>\n",
              "      <th>Dept</th>\n",
              "      <th>Date</th>\n",
              "      <th>Weekly_Sales</th>\n",
              "      <th>IsHoliday_x</th>\n",
              "      <th>Temperature</th>\n",
              "      <th>Fuel_Price</th>\n",
              "      <th>MarkDown1</th>\n",
              "      <th>MarkDown2</th>\n",
              "      <th>MarkDown3</th>\n",
              "      <th>MarkDown4</th>\n",
              "      <th>MarkDown5</th>\n",
              "      <th>CPI</th>\n",
              "      <th>Unemployment</th>\n",
              "      <th>Type</th>\n",
              "      <th>Size</th>\n",
              "      <th>Year</th>\n",
              "      <th>Month</th>\n",
              "      <th>Week</th>\n",
              "      <th>ID</th>\n",
              "    </tr>\n",
              "    <tr>\n",
              "      <th>Date</th>\n",
              "      <th></th>\n",
              "      <th></th>\n",
              "      <th></th>\n",
              "      <th></th>\n",
              "      <th></th>\n",
              "      <th></th>\n",
              "      <th></th>\n",
              "      <th></th>\n",
              "      <th></th>\n",
              "      <th></th>\n",
              "      <th></th>\n",
              "      <th></th>\n",
              "      <th></th>\n",
              "      <th></th>\n",
              "      <th></th>\n",
              "      <th></th>\n",
              "      <th></th>\n",
              "      <th></th>\n",
              "      <th></th>\n",
              "      <th></th>\n",
              "    </tr>\n",
              "  </thead>\n",
              "  <tbody>\n",
              "    <tr>\n",
              "      <th>2010-02-05</th>\n",
              "      <td>10</td>\n",
              "      <td>13</td>\n",
              "      <td>2010-02-05</td>\n",
              "      <td>74020.63</td>\n",
              "      <td>False</td>\n",
              "      <td>54.34</td>\n",
              "      <td>2.962</td>\n",
              "      <td>NaN</td>\n",
              "      <td>NaN</td>\n",
              "      <td>NaN</td>\n",
              "      <td>NaN</td>\n",
              "      <td>NaN</td>\n",
              "      <td>126.442065</td>\n",
              "      <td>9.765</td>\n",
              "      <td>B</td>\n",
              "      <td>126512</td>\n",
              "      <td>2010</td>\n",
              "      <td>2</td>\n",
              "      <td>5</td>\n",
              "      <td>10_13</td>\n",
              "    </tr>\n",
              "    <tr>\n",
              "      <th>2010-02-12</th>\n",
              "      <td>10</td>\n",
              "      <td>13</td>\n",
              "      <td>2010-02-12</td>\n",
              "      <td>69145.42</td>\n",
              "      <td>True</td>\n",
              "      <td>49.96</td>\n",
              "      <td>2.828</td>\n",
              "      <td>NaN</td>\n",
              "      <td>NaN</td>\n",
              "      <td>NaN</td>\n",
              "      <td>NaN</td>\n",
              "      <td>NaN</td>\n",
              "      <td>126.496258</td>\n",
              "      <td>9.765</td>\n",
              "      <td>B</td>\n",
              "      <td>126512</td>\n",
              "      <td>2010</td>\n",
              "      <td>2</td>\n",
              "      <td>6</td>\n",
              "      <td>10_13</td>\n",
              "    </tr>\n",
              "    <tr>\n",
              "      <th>2010-02-19</th>\n",
              "      <td>10</td>\n",
              "      <td>13</td>\n",
              "      <td>2010-02-19</td>\n",
              "      <td>68060.96</td>\n",
              "      <td>False</td>\n",
              "      <td>58.22</td>\n",
              "      <td>2.915</td>\n",
              "      <td>NaN</td>\n",
              "      <td>NaN</td>\n",
              "      <td>NaN</td>\n",
              "      <td>NaN</td>\n",
              "      <td>NaN</td>\n",
              "      <td>126.526286</td>\n",
              "      <td>9.765</td>\n",
              "      <td>B</td>\n",
              "      <td>126512</td>\n",
              "      <td>2010</td>\n",
              "      <td>2</td>\n",
              "      <td>7</td>\n",
              "      <td>10_13</td>\n",
              "    </tr>\n",
              "    <tr>\n",
              "      <th>2010-02-26</th>\n",
              "      <td>10</td>\n",
              "      <td>13</td>\n",
              "      <td>2010-02-26</td>\n",
              "      <td>71517.99</td>\n",
              "      <td>False</td>\n",
              "      <td>52.77</td>\n",
              "      <td>2.825</td>\n",
              "      <td>NaN</td>\n",
              "      <td>NaN</td>\n",
              "      <td>NaN</td>\n",
              "      <td>NaN</td>\n",
              "      <td>NaN</td>\n",
              "      <td>126.552286</td>\n",
              "      <td>9.765</td>\n",
              "      <td>B</td>\n",
              "      <td>126512</td>\n",
              "      <td>2010</td>\n",
              "      <td>2</td>\n",
              "      <td>8</td>\n",
              "      <td>10_13</td>\n",
              "    </tr>\n",
              "    <tr>\n",
              "      <th>2010-03-05</th>\n",
              "      <td>10</td>\n",
              "      <td>13</td>\n",
              "      <td>2010-03-05</td>\n",
              "      <td>70279.43</td>\n",
              "      <td>False</td>\n",
              "      <td>55.92</td>\n",
              "      <td>2.877</td>\n",
              "      <td>NaN</td>\n",
              "      <td>NaN</td>\n",
              "      <td>NaN</td>\n",
              "      <td>NaN</td>\n",
              "      <td>NaN</td>\n",
              "      <td>126.578286</td>\n",
              "      <td>9.765</td>\n",
              "      <td>B</td>\n",
              "      <td>126512</td>\n",
              "      <td>2010</td>\n",
              "      <td>3</td>\n",
              "      <td>9</td>\n",
              "      <td>10_13</td>\n",
              "    </tr>\n",
              "  </tbody>\n",
              "</table>\n",
              "</div>\n",
              "      <button class=\"colab-df-convert\" onclick=\"convertToInteractive('df-8bf44701-456e-474f-ba13-ccb8af41d793')\"\n",
              "              title=\"Convert this dataframe to an interactive table.\"\n",
              "              style=\"display:none;\">\n",
              "        \n",
              "  <svg xmlns=\"http://www.w3.org/2000/svg\" height=\"24px\"viewBox=\"0 0 24 24\"\n",
              "       width=\"24px\">\n",
              "    <path d=\"M0 0h24v24H0V0z\" fill=\"none\"/>\n",
              "    <path d=\"M18.56 5.44l.94 2.06.94-2.06 2.06-.94-2.06-.94-.94-2.06-.94 2.06-2.06.94zm-11 1L8.5 8.5l.94-2.06 2.06-.94-2.06-.94L8.5 2.5l-.94 2.06-2.06.94zm10 10l.94 2.06.94-2.06 2.06-.94-2.06-.94-.94-2.06-.94 2.06-2.06.94z\"/><path d=\"M17.41 7.96l-1.37-1.37c-.4-.4-.92-.59-1.43-.59-.52 0-1.04.2-1.43.59L10.3 9.45l-7.72 7.72c-.78.78-.78 2.05 0 2.83L4 21.41c.39.39.9.59 1.41.59.51 0 1.02-.2 1.41-.59l7.78-7.78 2.81-2.81c.8-.78.8-2.07 0-2.86zM5.41 20L4 18.59l7.72-7.72 1.47 1.35L5.41 20z\"/>\n",
              "  </svg>\n",
              "      </button>\n",
              "      \n",
              "  <style>\n",
              "    .colab-df-container {\n",
              "      display:flex;\n",
              "      flex-wrap:wrap;\n",
              "      gap: 12px;\n",
              "    }\n",
              "\n",
              "    .colab-df-convert {\n",
              "      background-color: #E8F0FE;\n",
              "      border: none;\n",
              "      border-radius: 50%;\n",
              "      cursor: pointer;\n",
              "      display: none;\n",
              "      fill: #1967D2;\n",
              "      height: 32px;\n",
              "      padding: 0 0 0 0;\n",
              "      width: 32px;\n",
              "    }\n",
              "\n",
              "    .colab-df-convert:hover {\n",
              "      background-color: #E2EBFA;\n",
              "      box-shadow: 0px 1px 2px rgba(60, 64, 67, 0.3), 0px 1px 3px 1px rgba(60, 64, 67, 0.15);\n",
              "      fill: #174EA6;\n",
              "    }\n",
              "\n",
              "    [theme=dark] .colab-df-convert {\n",
              "      background-color: #3B4455;\n",
              "      fill: #D2E3FC;\n",
              "    }\n",
              "\n",
              "    [theme=dark] .colab-df-convert:hover {\n",
              "      background-color: #434B5C;\n",
              "      box-shadow: 0px 1px 3px 1px rgba(0, 0, 0, 0.15);\n",
              "      filter: drop-shadow(0px 1px 2px rgba(0, 0, 0, 0.3));\n",
              "      fill: #FFFFFF;\n",
              "    }\n",
              "  </style>\n",
              "\n",
              "      <script>\n",
              "        const buttonEl =\n",
              "          document.querySelector('#df-8bf44701-456e-474f-ba13-ccb8af41d793 button.colab-df-convert');\n",
              "        buttonEl.style.display =\n",
              "          google.colab.kernel.accessAllowed ? 'block' : 'none';\n",
              "\n",
              "        async function convertToInteractive(key) {\n",
              "          const element = document.querySelector('#df-8bf44701-456e-474f-ba13-ccb8af41d793');\n",
              "          const dataTable =\n",
              "            await google.colab.kernel.invokeFunction('convertToInteractive',\n",
              "                                                     [key], {});\n",
              "          if (!dataTable) return;\n",
              "\n",
              "          const docLinkHtml = 'Like what you see? Visit the ' +\n",
              "            '<a target=\"_blank\" href=https://colab.research.google.com/notebooks/data_table.ipynb>data table notebook</a>'\n",
              "            + ' to learn more about interactive tables.';\n",
              "          element.innerHTML = '';\n",
              "          dataTable['output_type'] = 'display_data';\n",
              "          await google.colab.output.renderOutput(dataTable, element);\n",
              "          const docLink = document.createElement('div');\n",
              "          docLink.innerHTML = docLinkHtml;\n",
              "          element.appendChild(docLink);\n",
              "        }\n",
              "      </script>\n",
              "    </div>\n",
              "  </div>\n",
              "  "
            ]
          },
          "metadata": {},
          "execution_count": 34
        }
      ]
    },
    {
      "cell_type": "code",
      "source": [
        "# Date can't be used in the model\n",
        "df = df.drop('Date', axis=1)"
      ],
      "metadata": {
        "id": "gUU5PJbyBN6d"
      },
      "execution_count": 35,
      "outputs": []
    },
    {
      "cell_type": "markdown",
      "source": [
        "### **Creating new features**"
      ],
      "metadata": {
        "id": "oiKd7fleZk0F"
      }
    },
    {
      "cell_type": "markdown",
      "source": [
        "#### **Sales Next Week**\n",
        "\n",
        "- Create a new column called 'Sales_Next_Week' that contains the value of 'Weekly_Sales' shifted by one row within each group defined by the 'ID' column this effectively assigns the sales value for the next week to the current week's row."
      ],
      "metadata": {
        "id": "I_PjyXK7P9m9"
      }
    },
    {
      "cell_type": "code",
      "source": [
        "df['Sales_Next_Week'] = df.groupby(\"ID\")['Weekly_Sales'].shift(-1)"
      ],
      "metadata": {
        "id": "f0RfheS3PuBc"
      },
      "execution_count": 36,
      "outputs": []
    },
    {
      "cell_type": "code",
      "source": [
        "df[['ID', 'Weekly_Sales', 'Sales_Next_Week']].head()"
      ],
      "metadata": {
        "colab": {
          "base_uri": "https://localhost:8080/",
          "height": 237
        },
        "id": "b3JdSxsWQFTn",
        "outputId": "143076fe-a82d-480a-e0a4-7a6c0122c205"
      },
      "execution_count": 37,
      "outputs": [
        {
          "output_type": "execute_result",
          "data": {
            "text/plain": [
              "               ID  Weekly_Sales  Sales_Next_Week\n",
              "Date                                            \n",
              "2010-02-05  10_13      74020.63         69145.42\n",
              "2010-02-12  10_13      69145.42         68060.96\n",
              "2010-02-19  10_13      68060.96         71517.99\n",
              "2010-02-26  10_13      71517.99         70279.43\n",
              "2010-03-05  10_13      70279.43         67184.64"
            ],
            "text/html": [
              "\n",
              "  <div id=\"df-b0558c1e-6be4-4956-ac2d-512a432da963\">\n",
              "    <div class=\"colab-df-container\">\n",
              "      <div>\n",
              "<style scoped>\n",
              "    .dataframe tbody tr th:only-of-type {\n",
              "        vertical-align: middle;\n",
              "    }\n",
              "\n",
              "    .dataframe tbody tr th {\n",
              "        vertical-align: top;\n",
              "    }\n",
              "\n",
              "    .dataframe thead th {\n",
              "        text-align: right;\n",
              "    }\n",
              "</style>\n",
              "<table border=\"1\" class=\"dataframe\">\n",
              "  <thead>\n",
              "    <tr style=\"text-align: right;\">\n",
              "      <th></th>\n",
              "      <th>ID</th>\n",
              "      <th>Weekly_Sales</th>\n",
              "      <th>Sales_Next_Week</th>\n",
              "    </tr>\n",
              "    <tr>\n",
              "      <th>Date</th>\n",
              "      <th></th>\n",
              "      <th></th>\n",
              "      <th></th>\n",
              "    </tr>\n",
              "  </thead>\n",
              "  <tbody>\n",
              "    <tr>\n",
              "      <th>2010-02-05</th>\n",
              "      <td>10_13</td>\n",
              "      <td>74020.63</td>\n",
              "      <td>69145.42</td>\n",
              "    </tr>\n",
              "    <tr>\n",
              "      <th>2010-02-12</th>\n",
              "      <td>10_13</td>\n",
              "      <td>69145.42</td>\n",
              "      <td>68060.96</td>\n",
              "    </tr>\n",
              "    <tr>\n",
              "      <th>2010-02-19</th>\n",
              "      <td>10_13</td>\n",
              "      <td>68060.96</td>\n",
              "      <td>71517.99</td>\n",
              "    </tr>\n",
              "    <tr>\n",
              "      <th>2010-02-26</th>\n",
              "      <td>10_13</td>\n",
              "      <td>71517.99</td>\n",
              "      <td>70279.43</td>\n",
              "    </tr>\n",
              "    <tr>\n",
              "      <th>2010-03-05</th>\n",
              "      <td>10_13</td>\n",
              "      <td>70279.43</td>\n",
              "      <td>67184.64</td>\n",
              "    </tr>\n",
              "  </tbody>\n",
              "</table>\n",
              "</div>\n",
              "      <button class=\"colab-df-convert\" onclick=\"convertToInteractive('df-b0558c1e-6be4-4956-ac2d-512a432da963')\"\n",
              "              title=\"Convert this dataframe to an interactive table.\"\n",
              "              style=\"display:none;\">\n",
              "        \n",
              "  <svg xmlns=\"http://www.w3.org/2000/svg\" height=\"24px\"viewBox=\"0 0 24 24\"\n",
              "       width=\"24px\">\n",
              "    <path d=\"M0 0h24v24H0V0z\" fill=\"none\"/>\n",
              "    <path d=\"M18.56 5.44l.94 2.06.94-2.06 2.06-.94-2.06-.94-.94-2.06-.94 2.06-2.06.94zm-11 1L8.5 8.5l.94-2.06 2.06-.94-2.06-.94L8.5 2.5l-.94 2.06-2.06.94zm10 10l.94 2.06.94-2.06 2.06-.94-2.06-.94-.94-2.06-.94 2.06-2.06.94z\"/><path d=\"M17.41 7.96l-1.37-1.37c-.4-.4-.92-.59-1.43-.59-.52 0-1.04.2-1.43.59L10.3 9.45l-7.72 7.72c-.78.78-.78 2.05 0 2.83L4 21.41c.39.39.9.59 1.41.59.51 0 1.02-.2 1.41-.59l7.78-7.78 2.81-2.81c.8-.78.8-2.07 0-2.86zM5.41 20L4 18.59l7.72-7.72 1.47 1.35L5.41 20z\"/>\n",
              "  </svg>\n",
              "      </button>\n",
              "      \n",
              "  <style>\n",
              "    .colab-df-container {\n",
              "      display:flex;\n",
              "      flex-wrap:wrap;\n",
              "      gap: 12px;\n",
              "    }\n",
              "\n",
              "    .colab-df-convert {\n",
              "      background-color: #E8F0FE;\n",
              "      border: none;\n",
              "      border-radius: 50%;\n",
              "      cursor: pointer;\n",
              "      display: none;\n",
              "      fill: #1967D2;\n",
              "      height: 32px;\n",
              "      padding: 0 0 0 0;\n",
              "      width: 32px;\n",
              "    }\n",
              "\n",
              "    .colab-df-convert:hover {\n",
              "      background-color: #E2EBFA;\n",
              "      box-shadow: 0px 1px 2px rgba(60, 64, 67, 0.3), 0px 1px 3px 1px rgba(60, 64, 67, 0.15);\n",
              "      fill: #174EA6;\n",
              "    }\n",
              "\n",
              "    [theme=dark] .colab-df-convert {\n",
              "      background-color: #3B4455;\n",
              "      fill: #D2E3FC;\n",
              "    }\n",
              "\n",
              "    [theme=dark] .colab-df-convert:hover {\n",
              "      background-color: #434B5C;\n",
              "      box-shadow: 0px 1px 3px 1px rgba(0, 0, 0, 0.15);\n",
              "      filter: drop-shadow(0px 1px 2px rgba(0, 0, 0, 0.3));\n",
              "      fill: #FFFFFF;\n",
              "    }\n",
              "  </style>\n",
              "\n",
              "      <script>\n",
              "        const buttonEl =\n",
              "          document.querySelector('#df-b0558c1e-6be4-4956-ac2d-512a432da963 button.colab-df-convert');\n",
              "        buttonEl.style.display =\n",
              "          google.colab.kernel.accessAllowed ? 'block' : 'none';\n",
              "\n",
              "        async function convertToInteractive(key) {\n",
              "          const element = document.querySelector('#df-b0558c1e-6be4-4956-ac2d-512a432da963');\n",
              "          const dataTable =\n",
              "            await google.colab.kernel.invokeFunction('convertToInteractive',\n",
              "                                                     [key], {});\n",
              "          if (!dataTable) return;\n",
              "\n",
              "          const docLinkHtml = 'Like what you see? Visit the ' +\n",
              "            '<a target=\"_blank\" href=https://colab.research.google.com/notebooks/data_table.ipynb>data table notebook</a>'\n",
              "            + ' to learn more about interactive tables.';\n",
              "          element.innerHTML = '';\n",
              "          dataTable['output_type'] = 'display_data';\n",
              "          await google.colab.output.renderOutput(dataTable, element);\n",
              "          const docLink = document.createElement('div');\n",
              "          docLink.innerHTML = docLinkHtml;\n",
              "          element.appendChild(docLink);\n",
              "        }\n",
              "      </script>\n",
              "    </div>\n",
              "  </div>\n",
              "  "
            ]
          },
          "metadata": {},
          "execution_count": 37
        }
      ]
    },
    {
      "cell_type": "markdown",
      "source": [
        "#### **Weekly Sales Difference**\n",
        "\n",
        "- Create a new column called 'Diff_Weekly_Sales' that contains the difference between the current week's 'Weekly_Sales' and the previous week's 'Weekly_Sales' value within each group defined by the 'ID' column."
      ],
      "metadata": {
        "id": "-N82k2_c-ynV"
      }
    },
    {
      "cell_type": "code",
      "execution_count": 38,
      "metadata": {
        "id": "BGGjQsZ_Koez"
      },
      "outputs": [],
      "source": [
        "#Calculating the difference in percentage between the actual week and the next week sales\n",
        "df['Diff_Weekly_Sales'] = (df.groupby(['ID'])['Weekly_Sales'].diff() / df['Weekly_Sales']) * 100"
      ]
    },
    {
      "cell_type": "code",
      "source": [
        "df[['ID', 'Weekly_Sales', 'Diff_Weekly_Sales']].head()"
      ],
      "metadata": {
        "colab": {
          "base_uri": "https://localhost:8080/",
          "height": 237
        },
        "id": "3l4QNzI7Ems3",
        "outputId": "0ca8aaa6-ebc3-4282-b6f1-49e6ccead423"
      },
      "execution_count": 39,
      "outputs": [
        {
          "output_type": "execute_result",
          "data": {
            "text/plain": [
              "               ID  Weekly_Sales  Diff_Weekly_Sales\n",
              "Date                                              \n",
              "2010-02-05  10_13      74020.63                NaN\n",
              "2010-02-12  10_13      69145.42          -7.050662\n",
              "2010-02-19  10_13      68060.96          -1.593366\n",
              "2010-02-26  10_13      71517.99           4.833791\n",
              "2010-03-05  10_13      70279.43          -1.762336"
            ],
            "text/html": [
              "\n",
              "  <div id=\"df-1354a3d2-8fdb-44dd-a577-ff51bcb229af\">\n",
              "    <div class=\"colab-df-container\">\n",
              "      <div>\n",
              "<style scoped>\n",
              "    .dataframe tbody tr th:only-of-type {\n",
              "        vertical-align: middle;\n",
              "    }\n",
              "\n",
              "    .dataframe tbody tr th {\n",
              "        vertical-align: top;\n",
              "    }\n",
              "\n",
              "    .dataframe thead th {\n",
              "        text-align: right;\n",
              "    }\n",
              "</style>\n",
              "<table border=\"1\" class=\"dataframe\">\n",
              "  <thead>\n",
              "    <tr style=\"text-align: right;\">\n",
              "      <th></th>\n",
              "      <th>ID</th>\n",
              "      <th>Weekly_Sales</th>\n",
              "      <th>Diff_Weekly_Sales</th>\n",
              "    </tr>\n",
              "    <tr>\n",
              "      <th>Date</th>\n",
              "      <th></th>\n",
              "      <th></th>\n",
              "      <th></th>\n",
              "    </tr>\n",
              "  </thead>\n",
              "  <tbody>\n",
              "    <tr>\n",
              "      <th>2010-02-05</th>\n",
              "      <td>10_13</td>\n",
              "      <td>74020.63</td>\n",
              "      <td>NaN</td>\n",
              "    </tr>\n",
              "    <tr>\n",
              "      <th>2010-02-12</th>\n",
              "      <td>10_13</td>\n",
              "      <td>69145.42</td>\n",
              "      <td>-7.050662</td>\n",
              "    </tr>\n",
              "    <tr>\n",
              "      <th>2010-02-19</th>\n",
              "      <td>10_13</td>\n",
              "      <td>68060.96</td>\n",
              "      <td>-1.593366</td>\n",
              "    </tr>\n",
              "    <tr>\n",
              "      <th>2010-02-26</th>\n",
              "      <td>10_13</td>\n",
              "      <td>71517.99</td>\n",
              "      <td>4.833791</td>\n",
              "    </tr>\n",
              "    <tr>\n",
              "      <th>2010-03-05</th>\n",
              "      <td>10_13</td>\n",
              "      <td>70279.43</td>\n",
              "      <td>-1.762336</td>\n",
              "    </tr>\n",
              "  </tbody>\n",
              "</table>\n",
              "</div>\n",
              "      <button class=\"colab-df-convert\" onclick=\"convertToInteractive('df-1354a3d2-8fdb-44dd-a577-ff51bcb229af')\"\n",
              "              title=\"Convert this dataframe to an interactive table.\"\n",
              "              style=\"display:none;\">\n",
              "        \n",
              "  <svg xmlns=\"http://www.w3.org/2000/svg\" height=\"24px\"viewBox=\"0 0 24 24\"\n",
              "       width=\"24px\">\n",
              "    <path d=\"M0 0h24v24H0V0z\" fill=\"none\"/>\n",
              "    <path d=\"M18.56 5.44l.94 2.06.94-2.06 2.06-.94-2.06-.94-.94-2.06-.94 2.06-2.06.94zm-11 1L8.5 8.5l.94-2.06 2.06-.94-2.06-.94L8.5 2.5l-.94 2.06-2.06.94zm10 10l.94 2.06.94-2.06 2.06-.94-2.06-.94-.94-2.06-.94 2.06-2.06.94z\"/><path d=\"M17.41 7.96l-1.37-1.37c-.4-.4-.92-.59-1.43-.59-.52 0-1.04.2-1.43.59L10.3 9.45l-7.72 7.72c-.78.78-.78 2.05 0 2.83L4 21.41c.39.39.9.59 1.41.59.51 0 1.02-.2 1.41-.59l7.78-7.78 2.81-2.81c.8-.78.8-2.07 0-2.86zM5.41 20L4 18.59l7.72-7.72 1.47 1.35L5.41 20z\"/>\n",
              "  </svg>\n",
              "      </button>\n",
              "      \n",
              "  <style>\n",
              "    .colab-df-container {\n",
              "      display:flex;\n",
              "      flex-wrap:wrap;\n",
              "      gap: 12px;\n",
              "    }\n",
              "\n",
              "    .colab-df-convert {\n",
              "      background-color: #E8F0FE;\n",
              "      border: none;\n",
              "      border-radius: 50%;\n",
              "      cursor: pointer;\n",
              "      display: none;\n",
              "      fill: #1967D2;\n",
              "      height: 32px;\n",
              "      padding: 0 0 0 0;\n",
              "      width: 32px;\n",
              "    }\n",
              "\n",
              "    .colab-df-convert:hover {\n",
              "      background-color: #E2EBFA;\n",
              "      box-shadow: 0px 1px 2px rgba(60, 64, 67, 0.3), 0px 1px 3px 1px rgba(60, 64, 67, 0.15);\n",
              "      fill: #174EA6;\n",
              "    }\n",
              "\n",
              "    [theme=dark] .colab-df-convert {\n",
              "      background-color: #3B4455;\n",
              "      fill: #D2E3FC;\n",
              "    }\n",
              "\n",
              "    [theme=dark] .colab-df-convert:hover {\n",
              "      background-color: #434B5C;\n",
              "      box-shadow: 0px 1px 3px 1px rgba(0, 0, 0, 0.15);\n",
              "      filter: drop-shadow(0px 1px 2px rgba(0, 0, 0, 0.3));\n",
              "      fill: #FFFFFF;\n",
              "    }\n",
              "  </style>\n",
              "\n",
              "      <script>\n",
              "        const buttonEl =\n",
              "          document.querySelector('#df-1354a3d2-8fdb-44dd-a577-ff51bcb229af button.colab-df-convert');\n",
              "        buttonEl.style.display =\n",
              "          google.colab.kernel.accessAllowed ? 'block' : 'none';\n",
              "\n",
              "        async function convertToInteractive(key) {\n",
              "          const element = document.querySelector('#df-1354a3d2-8fdb-44dd-a577-ff51bcb229af');\n",
              "          const dataTable =\n",
              "            await google.colab.kernel.invokeFunction('convertToInteractive',\n",
              "                                                     [key], {});\n",
              "          if (!dataTable) return;\n",
              "\n",
              "          const docLinkHtml = 'Like what you see? Visit the ' +\n",
              "            '<a target=\"_blank\" href=https://colab.research.google.com/notebooks/data_table.ipynb>data table notebook</a>'\n",
              "            + ' to learn more about interactive tables.';\n",
              "          element.innerHTML = '';\n",
              "          dataTable['output_type'] = 'display_data';\n",
              "          await google.colab.output.renderOutput(dataTable, element);\n",
              "          const docLink = document.createElement('div');\n",
              "          docLink.innerHTML = docLinkHtml;\n",
              "          element.appendChild(docLink);\n",
              "        }\n",
              "      </script>\n",
              "    </div>\n",
              "  </div>\n",
              "  "
            ]
          },
          "metadata": {},
          "execution_count": 39
        }
      ]
    },
    {
      "cell_type": "markdown",
      "source": [
        "##### **Feature Validation**\n",
        "\n",
        "- Checking if the created variable does what it needs to."
      ],
      "metadata": {
        "id": "oj6IB1Z1Ix9_"
      }
    },
    {
      "cell_type": "code",
      "source": [
        "((df['Weekly_Sales'][1] - df['Weekly_Sales'][0]) /df['Weekly_Sales'][1]) * 100"
      ],
      "metadata": {
        "colab": {
          "base_uri": "https://localhost:8080/"
        },
        "id": "WBGOKHAhFV9Y",
        "outputId": "5f00ddcc-a883-4652-fc1c-8af9012cd6cb"
      },
      "execution_count": 40,
      "outputs": [
        {
          "output_type": "execute_result",
          "data": {
            "text/plain": [
              "-7.05066221305765"
            ]
          },
          "metadata": {},
          "execution_count": 40
        }
      ]
    },
    {
      "cell_type": "code",
      "source": [
        "((df['Weekly_Sales'][100] - df['Weekly_Sales'][99]) / df['Weekly_Sales'][100]) * 100"
      ],
      "metadata": {
        "colab": {
          "base_uri": "https://localhost:8080/"
        },
        "id": "Vx-qWU9zFHzY",
        "outputId": "bf1eeb9a-68c2-42e2-8266-338d89048f5a"
      },
      "execution_count": 41,
      "outputs": [
        {
          "output_type": "execute_result",
          "data": {
            "text/plain": [
              "17.51943138572091"
            ]
          },
          "metadata": {},
          "execution_count": 41
        }
      ]
    },
    {
      "cell_type": "code",
      "source": [
        "df['Diff_Weekly_Sales'][100]"
      ],
      "metadata": {
        "colab": {
          "base_uri": "https://localhost:8080/"
        },
        "id": "Xvxef2sfHkaf",
        "outputId": "23c5f393-f631-4399-97c0-84d4983fd109"
      },
      "execution_count": 42,
      "outputs": [
        {
          "output_type": "execute_result",
          "data": {
            "text/plain": [
              "17.51943138572091"
            ]
          },
          "metadata": {},
          "execution_count": 42
        }
      ]
    },
    {
      "cell_type": "markdown",
      "source": [
        "**DDiff_Weekly_Sales calculation:** Actual Week Sales - Last Week Sales"
      ],
      "metadata": {
        "id": "GHyLLU1dnGhQ"
      }
    },
    {
      "cell_type": "markdown",
      "source": [
        "#### **Average Last Four Weeks Sales**\n",
        "\n",
        "- Create a new column called 'AVG_Last4Weeks_Sales' that contains the rolling average of the previous four weeks' 'Weekly_Sales' values within each group defined by the 'ID' column;\n",
        "- The rolling average is calculated using the 'rolling' method with a window size of 4;\n",
        "- We then reset the index to the original order and drop the redundant index created by the rolling method."
      ],
      "metadata": {
        "id": "rIE3ZcpdtYs1"
      }
    },
    {
      "cell_type": "code",
      "execution_count": 43,
      "metadata": {
        "id": "tlwGV9-thn1Q"
      },
      "outputs": [],
      "source": [
        "# Calculating the month sales per department\n",
        "df['AVG_Last4Weeks_Sales'] = df.groupby('ID')['Weekly_Sales'].rolling(4).mean().reset_index(level=0,drop=True)"
      ]
    },
    {
      "cell_type": "markdown",
      "source": [
        "**AVG_Month_Sales calculation:** Average of the Weekly_Sales of the last four weeks "
      ],
      "metadata": {
        "id": "4OMPWx5fn5Xl"
      }
    },
    {
      "cell_type": "code",
      "source": [
        "df[['ID', 'Weekly_Sales', 'AVG_Last4Weeks_Sales']].head()"
      ],
      "metadata": {
        "colab": {
          "base_uri": "https://localhost:8080/",
          "height": 237
        },
        "id": "nZapDAkIICG7",
        "outputId": "76bfc007-2236-4448-f691-50914d1c2133"
      },
      "execution_count": 44,
      "outputs": [
        {
          "output_type": "execute_result",
          "data": {
            "text/plain": [
              "               ID  Weekly_Sales  AVG_Last4Weeks_Sales\n",
              "Date                                                 \n",
              "2010-02-05  10_13      74020.63                   NaN\n",
              "2010-02-12  10_13      69145.42                   NaN\n",
              "2010-02-19  10_13      68060.96                   NaN\n",
              "2010-02-26  10_13      71517.99              70686.25\n",
              "2010-03-05  10_13      70279.43              69750.95"
            ],
            "text/html": [
              "\n",
              "  <div id=\"df-67d87cb4-e78f-485d-b932-8cd2f0195308\">\n",
              "    <div class=\"colab-df-container\">\n",
              "      <div>\n",
              "<style scoped>\n",
              "    .dataframe tbody tr th:only-of-type {\n",
              "        vertical-align: middle;\n",
              "    }\n",
              "\n",
              "    .dataframe tbody tr th {\n",
              "        vertical-align: top;\n",
              "    }\n",
              "\n",
              "    .dataframe thead th {\n",
              "        text-align: right;\n",
              "    }\n",
              "</style>\n",
              "<table border=\"1\" class=\"dataframe\">\n",
              "  <thead>\n",
              "    <tr style=\"text-align: right;\">\n",
              "      <th></th>\n",
              "      <th>ID</th>\n",
              "      <th>Weekly_Sales</th>\n",
              "      <th>AVG_Last4Weeks_Sales</th>\n",
              "    </tr>\n",
              "    <tr>\n",
              "      <th>Date</th>\n",
              "      <th></th>\n",
              "      <th></th>\n",
              "      <th></th>\n",
              "    </tr>\n",
              "  </thead>\n",
              "  <tbody>\n",
              "    <tr>\n",
              "      <th>2010-02-05</th>\n",
              "      <td>10_13</td>\n",
              "      <td>74020.63</td>\n",
              "      <td>NaN</td>\n",
              "    </tr>\n",
              "    <tr>\n",
              "      <th>2010-02-12</th>\n",
              "      <td>10_13</td>\n",
              "      <td>69145.42</td>\n",
              "      <td>NaN</td>\n",
              "    </tr>\n",
              "    <tr>\n",
              "      <th>2010-02-19</th>\n",
              "      <td>10_13</td>\n",
              "      <td>68060.96</td>\n",
              "      <td>NaN</td>\n",
              "    </tr>\n",
              "    <tr>\n",
              "      <th>2010-02-26</th>\n",
              "      <td>10_13</td>\n",
              "      <td>71517.99</td>\n",
              "      <td>70686.25</td>\n",
              "    </tr>\n",
              "    <tr>\n",
              "      <th>2010-03-05</th>\n",
              "      <td>10_13</td>\n",
              "      <td>70279.43</td>\n",
              "      <td>69750.95</td>\n",
              "    </tr>\n",
              "  </tbody>\n",
              "</table>\n",
              "</div>\n",
              "      <button class=\"colab-df-convert\" onclick=\"convertToInteractive('df-67d87cb4-e78f-485d-b932-8cd2f0195308')\"\n",
              "              title=\"Convert this dataframe to an interactive table.\"\n",
              "              style=\"display:none;\">\n",
              "        \n",
              "  <svg xmlns=\"http://www.w3.org/2000/svg\" height=\"24px\"viewBox=\"0 0 24 24\"\n",
              "       width=\"24px\">\n",
              "    <path d=\"M0 0h24v24H0V0z\" fill=\"none\"/>\n",
              "    <path d=\"M18.56 5.44l.94 2.06.94-2.06 2.06-.94-2.06-.94-.94-2.06-.94 2.06-2.06.94zm-11 1L8.5 8.5l.94-2.06 2.06-.94-2.06-.94L8.5 2.5l-.94 2.06-2.06.94zm10 10l.94 2.06.94-2.06 2.06-.94-2.06-.94-.94-2.06-.94 2.06-2.06.94z\"/><path d=\"M17.41 7.96l-1.37-1.37c-.4-.4-.92-.59-1.43-.59-.52 0-1.04.2-1.43.59L10.3 9.45l-7.72 7.72c-.78.78-.78 2.05 0 2.83L4 21.41c.39.39.9.59 1.41.59.51 0 1.02-.2 1.41-.59l7.78-7.78 2.81-2.81c.8-.78.8-2.07 0-2.86zM5.41 20L4 18.59l7.72-7.72 1.47 1.35L5.41 20z\"/>\n",
              "  </svg>\n",
              "      </button>\n",
              "      \n",
              "  <style>\n",
              "    .colab-df-container {\n",
              "      display:flex;\n",
              "      flex-wrap:wrap;\n",
              "      gap: 12px;\n",
              "    }\n",
              "\n",
              "    .colab-df-convert {\n",
              "      background-color: #E8F0FE;\n",
              "      border: none;\n",
              "      border-radius: 50%;\n",
              "      cursor: pointer;\n",
              "      display: none;\n",
              "      fill: #1967D2;\n",
              "      height: 32px;\n",
              "      padding: 0 0 0 0;\n",
              "      width: 32px;\n",
              "    }\n",
              "\n",
              "    .colab-df-convert:hover {\n",
              "      background-color: #E2EBFA;\n",
              "      box-shadow: 0px 1px 2px rgba(60, 64, 67, 0.3), 0px 1px 3px 1px rgba(60, 64, 67, 0.15);\n",
              "      fill: #174EA6;\n",
              "    }\n",
              "\n",
              "    [theme=dark] .colab-df-convert {\n",
              "      background-color: #3B4455;\n",
              "      fill: #D2E3FC;\n",
              "    }\n",
              "\n",
              "    [theme=dark] .colab-df-convert:hover {\n",
              "      background-color: #434B5C;\n",
              "      box-shadow: 0px 1px 3px 1px rgba(0, 0, 0, 0.15);\n",
              "      filter: drop-shadow(0px 1px 2px rgba(0, 0, 0, 0.3));\n",
              "      fill: #FFFFFF;\n",
              "    }\n",
              "  </style>\n",
              "\n",
              "      <script>\n",
              "        const buttonEl =\n",
              "          document.querySelector('#df-67d87cb4-e78f-485d-b932-8cd2f0195308 button.colab-df-convert');\n",
              "        buttonEl.style.display =\n",
              "          google.colab.kernel.accessAllowed ? 'block' : 'none';\n",
              "\n",
              "        async function convertToInteractive(key) {\n",
              "          const element = document.querySelector('#df-67d87cb4-e78f-485d-b932-8cd2f0195308');\n",
              "          const dataTable =\n",
              "            await google.colab.kernel.invokeFunction('convertToInteractive',\n",
              "                                                     [key], {});\n",
              "          if (!dataTable) return;\n",
              "\n",
              "          const docLinkHtml = 'Like what you see? Visit the ' +\n",
              "            '<a target=\"_blank\" href=https://colab.research.google.com/notebooks/data_table.ipynb>data table notebook</a>'\n",
              "            + ' to learn more about interactive tables.';\n",
              "          element.innerHTML = '';\n",
              "          dataTable['output_type'] = 'display_data';\n",
              "          await google.colab.output.renderOutput(dataTable, element);\n",
              "          const docLink = document.createElement('div');\n",
              "          docLink.innerHTML = docLinkHtml;\n",
              "          element.appendChild(docLink);\n",
              "        }\n",
              "      </script>\n",
              "    </div>\n",
              "  </div>\n",
              "  "
            ]
          },
          "metadata": {},
          "execution_count": 44
        }
      ]
    },
    {
      "cell_type": "markdown",
      "source": [
        "##### **Feature Validation**\n",
        "- Checking if the created variable does what it needs to."
      ],
      "metadata": {
        "id": "sjTXiibIIsoc"
      }
    },
    {
      "cell_type": "code",
      "source": [
        "(df['Weekly_Sales'][0] + df['Weekly_Sales'][1] + df['Weekly_Sales'][2] + df['Weekly_Sales'][3]) / 4"
      ],
      "metadata": {
        "colab": {
          "base_uri": "https://localhost:8080/"
        },
        "id": "7fsxH4dqIGVh",
        "outputId": "0a2a95a4-056a-4a0d-cb77-aeb03210edef"
      },
      "execution_count": 45,
      "outputs": [
        {
          "output_type": "execute_result",
          "data": {
            "text/plain": [
              "70686.25"
            ]
          },
          "metadata": {},
          "execution_count": 45
        }
      ]
    },
    {
      "cell_type": "code",
      "source": [
        "(df['Weekly_Sales'][150] + df['Weekly_Sales'][149] + df['Weekly_Sales'][148] + df['Weekly_Sales'][147]) / 4"
      ],
      "metadata": {
        "colab": {
          "base_uri": "https://localhost:8080/"
        },
        "id": "BZYpGLgjIWsv",
        "outputId": "b1a71977-c0d2-4338-9b86-ac07eaa79429"
      },
      "execution_count": 46,
      "outputs": [
        {
          "output_type": "execute_result",
          "data": {
            "text/plain": [
              "113193.48500000002"
            ]
          },
          "metadata": {},
          "execution_count": 46
        }
      ]
    },
    {
      "cell_type": "code",
      "source": [
        "df['AVG_Last4Weeks_Sales'][150]"
      ],
      "metadata": {
        "colab": {
          "base_uri": "https://localhost:8080/"
        },
        "id": "0Ti4sfg1IYEL",
        "outputId": "e640f6d0-8b08-4904-9941-2f41de9aa042"
      },
      "execution_count": 47,
      "outputs": [
        {
          "output_type": "execute_result",
          "data": {
            "text/plain": [
              "113193.485"
            ]
          },
          "metadata": {},
          "execution_count": 47
        }
      ]
    },
    {
      "cell_type": "markdown",
      "source": [
        "### **Handling Missing Data**\n",
        "\n",
        "The features:\n",
        "- Sales_Next_Week\n",
        "- AVG_Last4Weeks_Sales\n",
        "- Diff_Weekly_Sales\n",
        "\n",
        "\n",
        "They will have missing values ​​as they use previous rows to be calculated. Knowing that in the first timestamp we have no previous values, so take np.nan.\n",
        "\n",
        "So to fix that, let's fill it in with the average value of each column."
      ],
      "metadata": {
        "id": "nYTcHTdBZt7R"
      }
    },
    {
      "cell_type": "code",
      "source": [
        "mkdown = ['MarkDown1', 'MarkDown2', 'MarkDown3', 'MarkDown4', 'MarkDown5']\n",
        "# fill NaN values with 0\n",
        "df[mkdown] = df[mkdown].fillna(0)"
      ],
      "metadata": {
        "id": "hS8FDBdYZi9A"
      },
      "execution_count": 48,
      "outputs": []
    },
    {
      "cell_type": "code",
      "execution_count": 49,
      "metadata": {
        "id": "7uxHUniWljy3"
      },
      "outputs": [],
      "source": [
        "# Filling with the mean value for Sales Next Week and Average Last Fours Weeks Sales\n",
        "next_and_month = ['Sales_Next_Week', 'AVG_Last4Weeks_Sales', 'Diff_Weekly_Sales']\n",
        "df[next_and_month] = df[next_and_month].fillna(df[next_and_month].mean())"
      ]
    },
    {
      "cell_type": "code",
      "source": [
        "# We can't use ID in the model\n",
        "df = df.drop(['Store', 'Dept', 'ID'],axis=1)"
      ],
      "metadata": {
        "id": "d67bPYtbOOqA"
      },
      "execution_count": 50,
      "outputs": []
    },
    {
      "cell_type": "markdown",
      "metadata": {
        "id": "tSJZk6OH74V4"
      },
      "source": [
        "### **Feature Encoding**\n",
        "\n",
        "Converting categorical or text data into numerical values that machine learning algorithms can use to make predictions"
      ]
    },
    {
      "cell_type": "code",
      "execution_count": 51,
      "metadata": {
        "id": "ipi0NFOXo8jG"
      },
      "outputs": [],
      "source": [
        "# Finding all the categorical features\n",
        "categorical_cols = [col for col in df.select_dtypes(include=['category', 'object','bool']).columns]"
      ]
    },
    {
      "cell_type": "code",
      "source": [
        "categorical_cols"
      ],
      "metadata": {
        "colab": {
          "base_uri": "https://localhost:8080/"
        },
        "id": "e9P6wghYwPJ6",
        "outputId": "ce8cb0ea-0986-40c8-c15e-e8c50e7c13b6"
      },
      "execution_count": 52,
      "outputs": [
        {
          "output_type": "execute_result",
          "data": {
            "text/plain": [
              "['IsHoliday_x', 'Type']"
            ]
          },
          "metadata": {},
          "execution_count": 52
        }
      ]
    },
    {
      "cell_type": "code",
      "execution_count": 53,
      "metadata": {
        "id": "RSNsu1LPo_KK"
      },
      "outputs": [],
      "source": [
        "# Encoding the categorical features\n",
        "df = pd.get_dummies(df,columns=categorical_cols)"
      ]
    },
    {
      "cell_type": "code",
      "execution_count": 54,
      "metadata": {
        "id": "dxki6Kz6LKXw",
        "colab": {
          "base_uri": "https://localhost:8080/",
          "height": 0
        },
        "outputId": "35f0b103-5686-42af-def2-14979d9bb27f"
      },
      "outputs": [
        {
          "output_type": "execute_result",
          "data": {
            "text/plain": [
              "            Weekly_Sales  Temperature  Fuel_Price  MarkDown1  MarkDown2  \\\n",
              "Date                                                                      \n",
              "2010-02-05      74020.63        54.34       2.962        0.0        0.0   \n",
              "2010-02-12      69145.42        49.96       2.828        0.0        0.0   \n",
              "2010-02-19      68060.96        58.22       2.915        0.0        0.0   \n",
              "2010-02-26      71517.99        52.77       2.825        0.0        0.0   \n",
              "2010-03-05      70279.43        55.92       2.877        0.0        0.0   \n",
              "\n",
              "            MarkDown3  MarkDown4  MarkDown5         CPI  Unemployment  ...  \\\n",
              "Date                                                                   ...   \n",
              "2010-02-05        0.0        0.0        0.0  126.442065         9.765  ...   \n",
              "2010-02-12        0.0        0.0        0.0  126.496258         9.765  ...   \n",
              "2010-02-19        0.0        0.0        0.0  126.526286         9.765  ...   \n",
              "2010-02-26        0.0        0.0        0.0  126.552286         9.765  ...   \n",
              "2010-03-05        0.0        0.0        0.0  126.578286         9.765  ...   \n",
              "\n",
              "            Month  Week  Sales_Next_Week  Diff_Weekly_Sales  \\\n",
              "Date                                                          \n",
              "2010-02-05      2     5         69145.42          -1.626246   \n",
              "2010-02-12      2     6         68060.96          -7.050662   \n",
              "2010-02-19      2     7         71517.99          -1.593366   \n",
              "2010-02-26      2     8         70279.43           4.833791   \n",
              "2010-03-05      3     9         67184.64          -1.762336   \n",
              "\n",
              "            AVG_Last4Weeks_Sales  IsHoliday_x_False  IsHoliday_x_True  Type_A  \\\n",
              "Date                                                                            \n",
              "2010-02-05          48457.182518                  1                 0       0   \n",
              "2010-02-12          48457.182518                  0                 1       0   \n",
              "2010-02-19          48457.182518                  1                 0       0   \n",
              "2010-02-26          70686.250000                  1                 0       0   \n",
              "2010-03-05          69750.950000                  1                 0       0   \n",
              "\n",
              "            Type_B  Type_C  \n",
              "Date                        \n",
              "2010-02-05       1       0  \n",
              "2010-02-12       1       0  \n",
              "2010-02-19       1       0  \n",
              "2010-02-26       1       0  \n",
              "2010-03-05       1       0  \n",
              "\n",
              "[5 rows x 22 columns]"
            ],
            "text/html": [
              "\n",
              "  <div id=\"df-c97f9f6a-cc6d-491c-819c-9412f8622cda\">\n",
              "    <div class=\"colab-df-container\">\n",
              "      <div>\n",
              "<style scoped>\n",
              "    .dataframe tbody tr th:only-of-type {\n",
              "        vertical-align: middle;\n",
              "    }\n",
              "\n",
              "    .dataframe tbody tr th {\n",
              "        vertical-align: top;\n",
              "    }\n",
              "\n",
              "    .dataframe thead th {\n",
              "        text-align: right;\n",
              "    }\n",
              "</style>\n",
              "<table border=\"1\" class=\"dataframe\">\n",
              "  <thead>\n",
              "    <tr style=\"text-align: right;\">\n",
              "      <th></th>\n",
              "      <th>Weekly_Sales</th>\n",
              "      <th>Temperature</th>\n",
              "      <th>Fuel_Price</th>\n",
              "      <th>MarkDown1</th>\n",
              "      <th>MarkDown2</th>\n",
              "      <th>MarkDown3</th>\n",
              "      <th>MarkDown4</th>\n",
              "      <th>MarkDown5</th>\n",
              "      <th>CPI</th>\n",
              "      <th>Unemployment</th>\n",
              "      <th>...</th>\n",
              "      <th>Month</th>\n",
              "      <th>Week</th>\n",
              "      <th>Sales_Next_Week</th>\n",
              "      <th>Diff_Weekly_Sales</th>\n",
              "      <th>AVG_Last4Weeks_Sales</th>\n",
              "      <th>IsHoliday_x_False</th>\n",
              "      <th>IsHoliday_x_True</th>\n",
              "      <th>Type_A</th>\n",
              "      <th>Type_B</th>\n",
              "      <th>Type_C</th>\n",
              "    </tr>\n",
              "    <tr>\n",
              "      <th>Date</th>\n",
              "      <th></th>\n",
              "      <th></th>\n",
              "      <th></th>\n",
              "      <th></th>\n",
              "      <th></th>\n",
              "      <th></th>\n",
              "      <th></th>\n",
              "      <th></th>\n",
              "      <th></th>\n",
              "      <th></th>\n",
              "      <th></th>\n",
              "      <th></th>\n",
              "      <th></th>\n",
              "      <th></th>\n",
              "      <th></th>\n",
              "      <th></th>\n",
              "      <th></th>\n",
              "      <th></th>\n",
              "      <th></th>\n",
              "      <th></th>\n",
              "      <th></th>\n",
              "    </tr>\n",
              "  </thead>\n",
              "  <tbody>\n",
              "    <tr>\n",
              "      <th>2010-02-05</th>\n",
              "      <td>74020.63</td>\n",
              "      <td>54.34</td>\n",
              "      <td>2.962</td>\n",
              "      <td>0.0</td>\n",
              "      <td>0.0</td>\n",
              "      <td>0.0</td>\n",
              "      <td>0.0</td>\n",
              "      <td>0.0</td>\n",
              "      <td>126.442065</td>\n",
              "      <td>9.765</td>\n",
              "      <td>...</td>\n",
              "      <td>2</td>\n",
              "      <td>5</td>\n",
              "      <td>69145.42</td>\n",
              "      <td>-1.626246</td>\n",
              "      <td>48457.182518</td>\n",
              "      <td>1</td>\n",
              "      <td>0</td>\n",
              "      <td>0</td>\n",
              "      <td>1</td>\n",
              "      <td>0</td>\n",
              "    </tr>\n",
              "    <tr>\n",
              "      <th>2010-02-12</th>\n",
              "      <td>69145.42</td>\n",
              "      <td>49.96</td>\n",
              "      <td>2.828</td>\n",
              "      <td>0.0</td>\n",
              "      <td>0.0</td>\n",
              "      <td>0.0</td>\n",
              "      <td>0.0</td>\n",
              "      <td>0.0</td>\n",
              "      <td>126.496258</td>\n",
              "      <td>9.765</td>\n",
              "      <td>...</td>\n",
              "      <td>2</td>\n",
              "      <td>6</td>\n",
              "      <td>68060.96</td>\n",
              "      <td>-7.050662</td>\n",
              "      <td>48457.182518</td>\n",
              "      <td>0</td>\n",
              "      <td>1</td>\n",
              "      <td>0</td>\n",
              "      <td>1</td>\n",
              "      <td>0</td>\n",
              "    </tr>\n",
              "    <tr>\n",
              "      <th>2010-02-19</th>\n",
              "      <td>68060.96</td>\n",
              "      <td>58.22</td>\n",
              "      <td>2.915</td>\n",
              "      <td>0.0</td>\n",
              "      <td>0.0</td>\n",
              "      <td>0.0</td>\n",
              "      <td>0.0</td>\n",
              "      <td>0.0</td>\n",
              "      <td>126.526286</td>\n",
              "      <td>9.765</td>\n",
              "      <td>...</td>\n",
              "      <td>2</td>\n",
              "      <td>7</td>\n",
              "      <td>71517.99</td>\n",
              "      <td>-1.593366</td>\n",
              "      <td>48457.182518</td>\n",
              "      <td>1</td>\n",
              "      <td>0</td>\n",
              "      <td>0</td>\n",
              "      <td>1</td>\n",
              "      <td>0</td>\n",
              "    </tr>\n",
              "    <tr>\n",
              "      <th>2010-02-26</th>\n",
              "      <td>71517.99</td>\n",
              "      <td>52.77</td>\n",
              "      <td>2.825</td>\n",
              "      <td>0.0</td>\n",
              "      <td>0.0</td>\n",
              "      <td>0.0</td>\n",
              "      <td>0.0</td>\n",
              "      <td>0.0</td>\n",
              "      <td>126.552286</td>\n",
              "      <td>9.765</td>\n",
              "      <td>...</td>\n",
              "      <td>2</td>\n",
              "      <td>8</td>\n",
              "      <td>70279.43</td>\n",
              "      <td>4.833791</td>\n",
              "      <td>70686.250000</td>\n",
              "      <td>1</td>\n",
              "      <td>0</td>\n",
              "      <td>0</td>\n",
              "      <td>1</td>\n",
              "      <td>0</td>\n",
              "    </tr>\n",
              "    <tr>\n",
              "      <th>2010-03-05</th>\n",
              "      <td>70279.43</td>\n",
              "      <td>55.92</td>\n",
              "      <td>2.877</td>\n",
              "      <td>0.0</td>\n",
              "      <td>0.0</td>\n",
              "      <td>0.0</td>\n",
              "      <td>0.0</td>\n",
              "      <td>0.0</td>\n",
              "      <td>126.578286</td>\n",
              "      <td>9.765</td>\n",
              "      <td>...</td>\n",
              "      <td>3</td>\n",
              "      <td>9</td>\n",
              "      <td>67184.64</td>\n",
              "      <td>-1.762336</td>\n",
              "      <td>69750.950000</td>\n",
              "      <td>1</td>\n",
              "      <td>0</td>\n",
              "      <td>0</td>\n",
              "      <td>1</td>\n",
              "      <td>0</td>\n",
              "    </tr>\n",
              "  </tbody>\n",
              "</table>\n",
              "<p>5 rows × 22 columns</p>\n",
              "</div>\n",
              "      <button class=\"colab-df-convert\" onclick=\"convertToInteractive('df-c97f9f6a-cc6d-491c-819c-9412f8622cda')\"\n",
              "              title=\"Convert this dataframe to an interactive table.\"\n",
              "              style=\"display:none;\">\n",
              "        \n",
              "  <svg xmlns=\"http://www.w3.org/2000/svg\" height=\"24px\"viewBox=\"0 0 24 24\"\n",
              "       width=\"24px\">\n",
              "    <path d=\"M0 0h24v24H0V0z\" fill=\"none\"/>\n",
              "    <path d=\"M18.56 5.44l.94 2.06.94-2.06 2.06-.94-2.06-.94-.94-2.06-.94 2.06-2.06.94zm-11 1L8.5 8.5l.94-2.06 2.06-.94-2.06-.94L8.5 2.5l-.94 2.06-2.06.94zm10 10l.94 2.06.94-2.06 2.06-.94-2.06-.94-.94-2.06-.94 2.06-2.06.94z\"/><path d=\"M17.41 7.96l-1.37-1.37c-.4-.4-.92-.59-1.43-.59-.52 0-1.04.2-1.43.59L10.3 9.45l-7.72 7.72c-.78.78-.78 2.05 0 2.83L4 21.41c.39.39.9.59 1.41.59.51 0 1.02-.2 1.41-.59l7.78-7.78 2.81-2.81c.8-.78.8-2.07 0-2.86zM5.41 20L4 18.59l7.72-7.72 1.47 1.35L5.41 20z\"/>\n",
              "  </svg>\n",
              "      </button>\n",
              "      \n",
              "  <style>\n",
              "    .colab-df-container {\n",
              "      display:flex;\n",
              "      flex-wrap:wrap;\n",
              "      gap: 12px;\n",
              "    }\n",
              "\n",
              "    .colab-df-convert {\n",
              "      background-color: #E8F0FE;\n",
              "      border: none;\n",
              "      border-radius: 50%;\n",
              "      cursor: pointer;\n",
              "      display: none;\n",
              "      fill: #1967D2;\n",
              "      height: 32px;\n",
              "      padding: 0 0 0 0;\n",
              "      width: 32px;\n",
              "    }\n",
              "\n",
              "    .colab-df-convert:hover {\n",
              "      background-color: #E2EBFA;\n",
              "      box-shadow: 0px 1px 2px rgba(60, 64, 67, 0.3), 0px 1px 3px 1px rgba(60, 64, 67, 0.15);\n",
              "      fill: #174EA6;\n",
              "    }\n",
              "\n",
              "    [theme=dark] .colab-df-convert {\n",
              "      background-color: #3B4455;\n",
              "      fill: #D2E3FC;\n",
              "    }\n",
              "\n",
              "    [theme=dark] .colab-df-convert:hover {\n",
              "      background-color: #434B5C;\n",
              "      box-shadow: 0px 1px 3px 1px rgba(0, 0, 0, 0.15);\n",
              "      filter: drop-shadow(0px 1px 2px rgba(0, 0, 0, 0.3));\n",
              "      fill: #FFFFFF;\n",
              "    }\n",
              "  </style>\n",
              "\n",
              "      <script>\n",
              "        const buttonEl =\n",
              "          document.querySelector('#df-c97f9f6a-cc6d-491c-819c-9412f8622cda button.colab-df-convert');\n",
              "        buttonEl.style.display =\n",
              "          google.colab.kernel.accessAllowed ? 'block' : 'none';\n",
              "\n",
              "        async function convertToInteractive(key) {\n",
              "          const element = document.querySelector('#df-c97f9f6a-cc6d-491c-819c-9412f8622cda');\n",
              "          const dataTable =\n",
              "            await google.colab.kernel.invokeFunction('convertToInteractive',\n",
              "                                                     [key], {});\n",
              "          if (!dataTable) return;\n",
              "\n",
              "          const docLinkHtml = 'Like what you see? Visit the ' +\n",
              "            '<a target=\"_blank\" href=https://colab.research.google.com/notebooks/data_table.ipynb>data table notebook</a>'\n",
              "            + ' to learn more about interactive tables.';\n",
              "          element.innerHTML = '';\n",
              "          dataTable['output_type'] = 'display_data';\n",
              "          await google.colab.output.renderOutput(dataTable, element);\n",
              "          const docLink = document.createElement('div');\n",
              "          docLink.innerHTML = docLinkHtml;\n",
              "          element.appendChild(docLink);\n",
              "        }\n",
              "      </script>\n",
              "    </div>\n",
              "  </div>\n",
              "  "
            ]
          },
          "metadata": {},
          "execution_count": 54
        }
      ],
      "source": [
        "df.head()"
      ]
    },
    {
      "cell_type": "markdown",
      "metadata": {
        "id": "3xVcHQMY6FRD"
      },
      "source": [
        "### **Correlation with Next Week Sales**"
      ]
    },
    {
      "cell_type": "code",
      "execution_count": 55,
      "metadata": {
        "id": "Bvmo-GrFHwww",
        "colab": {
          "base_uri": "https://localhost:8080/",
          "height": 0
        },
        "outputId": "6b915c2a-672f-486c-cc71-c22a700af08b"
      },
      "outputs": [
        {
          "output_type": "display_data",
          "data": {
            "text/html": [
              "<html>\n",
              "<head><meta charset=\"utf-8\" /></head>\n",
              "<body>\n",
              "    <div>            <script src=\"https://cdnjs.cloudflare.com/ajax/libs/mathjax/2.7.5/MathJax.js?config=TeX-AMS-MML_SVG\"></script><script type=\"text/javascript\">if (window.MathJax && window.MathJax.Hub && window.MathJax.Hub.Config) {window.MathJax.Hub.Config({SVG: {font: \"STIX-Web\"}});}</script>                <script type=\"text/javascript\">window.PlotlyConfig = {MathJaxConfig: 'local'};</script>\n",
              "        <script src=\"https://cdn.plot.ly/plotly-2.18.2.min.js\"></script>                <div id=\"4e02c14a-dcc8-4ded-bedc-c1f5ee9b7962\" class=\"plotly-graph-div\" style=\"height:525px; width:100%;\"></div>            <script type=\"text/javascript\">                                    window.PLOTLYENV=window.PLOTLYENV || {};                                    if (document.getElementById(\"4e02c14a-dcc8-4ded-bedc-c1f5ee9b7962\")) {                    Plotly.newPlot(                        \"4e02c14a-dcc8-4ded-bedc-c1f5ee9b7962\",                        [{\"alignmentgroup\":\"True\",\"hovertemplate\":\"Features=%{x}<br>Sales_Next_Week=%{y}<extra></extra>\",\"legendgroup\":\"AVG_Last4Weeks_Sales\",\"marker\":{\"color\":\"#636efa\",\"pattern\":{\"shape\":\"\"}},\"name\":\"AVG_Last4Weeks_Sales\",\"offsetgroup\":\"AVG_Last4Weeks_Sales\",\"orientation\":\"v\",\"showlegend\":false,\"textposition\":\"auto\",\"x\":[\"AVG_Last4Weeks_Sales\"],\"xaxis\":\"x\",\"y\":[0.932927484634459],\"yaxis\":\"y\",\"type\":\"bar\"},{\"alignmentgroup\":\"True\",\"hovertemplate\":\"Features=%{x}<br>Sales_Next_Week=%{y}<extra></extra>\",\"legendgroup\":\"Weekly_Sales\",\"marker\":{\"color\":\"#EF553B\",\"pattern\":{\"shape\":\"\"}},\"name\":\"Weekly_Sales\",\"offsetgroup\":\"Weekly_Sales\",\"orientation\":\"v\",\"showlegend\":false,\"textposition\":\"auto\",\"x\":[\"Weekly_Sales\"],\"xaxis\":\"x\",\"y\":[0.9127366153074178],\"yaxis\":\"y\",\"type\":\"bar\"},{\"alignmentgroup\":\"True\",\"hovertemplate\":\"Features=%{x}<br>Sales_Next_Week=%{y}<extra></extra>\",\"legendgroup\":\"Size\",\"marker\":{\"color\":\"#00cc96\",\"pattern\":{\"shape\":\"\"}},\"name\":\"Size\",\"offsetgroup\":\"Size\",\"orientation\":\"v\",\"showlegend\":false,\"textposition\":\"auto\",\"x\":[\"Size\"],\"xaxis\":\"x\",\"y\":[0.550241178701596],\"yaxis\":\"y\",\"type\":\"bar\"},{\"alignmentgroup\":\"True\",\"hovertemplate\":\"Features=%{x}<br>Sales_Next_Week=%{y}<extra></extra>\",\"legendgroup\":\"Type_A\",\"marker\":{\"color\":\"#ab63fa\",\"pattern\":{\"shape\":\"\"}},\"name\":\"Type_A\",\"offsetgroup\":\"Type_A\",\"orientation\":\"v\",\"showlegend\":false,\"textposition\":\"auto\",\"x\":[\"Type_A\"],\"xaxis\":\"x\",\"y\":[0.4358490923528797],\"yaxis\":\"y\",\"type\":\"bar\"},{\"alignmentgroup\":\"True\",\"hovertemplate\":\"Features=%{x}<br>Sales_Next_Week=%{y}<extra></extra>\",\"legendgroup\":\"MarkDown1\",\"marker\":{\"color\":\"#FFA15A\",\"pattern\":{\"shape\":\"\"}},\"name\":\"MarkDown1\",\"offsetgroup\":\"MarkDown1\",\"orientation\":\"v\",\"showlegend\":false,\"textposition\":\"auto\",\"x\":[\"MarkDown1\"],\"xaxis\":\"x\",\"y\":[0.13200306235607714],\"yaxis\":\"y\",\"type\":\"bar\"},{\"alignmentgroup\":\"True\",\"hovertemplate\":\"Features=%{x}<br>Sales_Next_Week=%{y}<extra></extra>\",\"legendgroup\":\"MarkDown5\",\"marker\":{\"color\":\"#19d3f3\",\"pattern\":{\"shape\":\"\"}},\"name\":\"MarkDown5\",\"offsetgroup\":\"MarkDown5\",\"orientation\":\"v\",\"showlegend\":false,\"textposition\":\"auto\",\"x\":[\"MarkDown5\"],\"xaxis\":\"x\",\"y\":[0.12241555229005244],\"yaxis\":\"y\",\"type\":\"bar\"},{\"alignmentgroup\":\"True\",\"hovertemplate\":\"Features=%{x}<br>Sales_Next_Week=%{y}<extra></extra>\",\"legendgroup\":\"MarkDown4\",\"marker\":{\"color\":\"#FF6692\",\"pattern\":{\"shape\":\"\"}},\"name\":\"MarkDown4\",\"offsetgroup\":\"MarkDown4\",\"orientation\":\"v\",\"showlegend\":false,\"textposition\":\"auto\",\"x\":[\"MarkDown4\"],\"xaxis\":\"x\",\"y\":[0.10607705400172482],\"yaxis\":\"y\",\"type\":\"bar\"},{\"alignmentgroup\":\"True\",\"hovertemplate\":\"Features=%{x}<br>Sales_Next_Week=%{y}<extra></extra>\",\"legendgroup\":\"MarkDown2\",\"marker\":{\"color\":\"#B6E880\",\"pattern\":{\"shape\":\"\"}},\"name\":\"MarkDown2\",\"offsetgroup\":\"MarkDown2\",\"orientation\":\"v\",\"showlegend\":false,\"textposition\":\"auto\",\"x\":[\"MarkDown2\"],\"xaxis\":\"x\",\"y\":[0.06521531422590132],\"yaxis\":\"y\",\"type\":\"bar\"},{\"alignmentgroup\":\"True\",\"hovertemplate\":\"Features=%{x}<br>Sales_Next_Week=%{y}<extra></extra>\",\"legendgroup\":\"MarkDown3\",\"marker\":{\"color\":\"#FF97FF\",\"pattern\":{\"shape\":\"\"}},\"name\":\"MarkDown3\",\"offsetgroup\":\"MarkDown3\",\"orientation\":\"v\",\"showlegend\":false,\"textposition\":\"auto\",\"x\":[\"MarkDown3\"],\"xaxis\":\"x\",\"y\":[0.027560228798919964],\"yaxis\":\"y\",\"type\":\"bar\"},{\"alignmentgroup\":\"True\",\"hovertemplate\":\"Features=%{x}<br>Sales_Next_Week=%{y}<extra></extra>\",\"legendgroup\":\"Week\",\"marker\":{\"color\":\"#FECB52\",\"pattern\":{\"shape\":\"\"}},\"name\":\"Week\",\"offsetgroup\":\"Week\",\"orientation\":\"v\",\"showlegend\":false,\"textposition\":\"auto\",\"x\":[\"Week\"],\"xaxis\":\"x\",\"y\":[0.018699824931837913],\"yaxis\":\"y\",\"type\":\"bar\"},{\"alignmentgroup\":\"True\",\"hovertemplate\":\"Features=%{x}<br>Sales_Next_Week=%{y}<extra></extra>\",\"legendgroup\":\"Month\",\"marker\":{\"color\":\"#636efa\",\"pattern\":{\"shape\":\"\"}},\"name\":\"Month\",\"offsetgroup\":\"Month\",\"orientation\":\"v\",\"showlegend\":false,\"textposition\":\"auto\",\"x\":[\"Month\"],\"xaxis\":\"x\",\"y\":[0.018531375001958967],\"yaxis\":\"y\",\"type\":\"bar\"},{\"alignmentgroup\":\"True\",\"hovertemplate\":\"Features=%{x}<br>Sales_Next_Week=%{y}<extra></extra>\",\"legendgroup\":\"Fuel_Price\",\"marker\":{\"color\":\"#EF553B\",\"pattern\":{\"shape\":\"\"}},\"name\":\"Fuel_Price\",\"offsetgroup\":\"Fuel_Price\",\"orientation\":\"v\",\"showlegend\":false,\"textposition\":\"auto\",\"x\":[\"Fuel_Price\"],\"xaxis\":\"x\",\"y\":[0.00951570298645778],\"yaxis\":\"y\",\"type\":\"bar\"},{\"alignmentgroup\":\"True\",\"hovertemplate\":\"Features=%{x}<br>Sales_Next_Week=%{y}<extra></extra>\",\"legendgroup\":\"Year\",\"marker\":{\"color\":\"#00cc96\",\"pattern\":{\"shape\":\"\"}},\"name\":\"Year\",\"offsetgroup\":\"Year\",\"orientation\":\"v\",\"showlegend\":false,\"textposition\":\"auto\",\"x\":[\"Year\"],\"xaxis\":\"x\",\"y\":[0.009133178056742654],\"yaxis\":\"y\",\"type\":\"bar\"},{\"alignmentgroup\":\"True\",\"hovertemplate\":\"Features=%{x}<br>Sales_Next_Week=%{y}<extra></extra>\",\"legendgroup\":\"Diff_Weekly_Sales\",\"marker\":{\"color\":\"#ab63fa\",\"pattern\":{\"shape\":\"\"}},\"name\":\"Diff_Weekly_Sales\",\"offsetgroup\":\"Diff_Weekly_Sales\",\"orientation\":\"v\",\"showlegend\":false,\"textposition\":\"auto\",\"x\":[\"Diff_Weekly_Sales\"],\"xaxis\":\"x\",\"y\":[0.008198223014176416],\"yaxis\":\"y\",\"type\":\"bar\"},{\"alignmentgroup\":\"True\",\"hovertemplate\":\"Features=%{x}<br>Sales_Next_Week=%{y}<extra></extra>\",\"legendgroup\":\"IsHoliday_x_True\",\"marker\":{\"color\":\"#FFA15A\",\"pattern\":{\"shape\":\"\"}},\"name\":\"IsHoliday_x_True\",\"offsetgroup\":\"IsHoliday_x_True\",\"orientation\":\"v\",\"showlegend\":false,\"textposition\":\"auto\",\"x\":[\"IsHoliday_x_True\"],\"xaxis\":\"x\",\"y\":[0.004000961948619578],\"yaxis\":\"y\",\"type\":\"bar\"},{\"alignmentgroup\":\"True\",\"hovertemplate\":\"Features=%{x}<br>Sales_Next_Week=%{y}<extra></extra>\",\"legendgroup\":\"IsHoliday_x_False\",\"marker\":{\"color\":\"#19d3f3\",\"pattern\":{\"shape\":\"\"}},\"name\":\"IsHoliday_x_False\",\"offsetgroup\":\"IsHoliday_x_False\",\"orientation\":\"v\",\"showlegend\":false,\"textposition\":\"auto\",\"x\":[\"IsHoliday_x_False\"],\"xaxis\":\"x\",\"y\":[-0.004000961948620189],\"yaxis\":\"y\",\"type\":\"bar\"},{\"alignmentgroup\":\"True\",\"hovertemplate\":\"Features=%{x}<br>Sales_Next_Week=%{y}<extra></extra>\",\"legendgroup\":\"CPI\",\"marker\":{\"color\":\"#FF6692\",\"pattern\":{\"shape\":\"\"}},\"name\":\"CPI\",\"offsetgroup\":\"CPI\",\"orientation\":\"v\",\"showlegend\":false,\"textposition\":\"auto\",\"x\":[\"CPI\"],\"xaxis\":\"x\",\"y\":[-0.022792847068930568],\"yaxis\":\"y\",\"type\":\"bar\"},{\"alignmentgroup\":\"True\",\"hovertemplate\":\"Features=%{x}<br>Sales_Next_Week=%{y}<extra></extra>\",\"legendgroup\":\"Temperature\",\"marker\":{\"color\":\"#B6E880\",\"pattern\":{\"shape\":\"\"}},\"name\":\"Temperature\",\"offsetgroup\":\"Temperature\",\"orientation\":\"v\",\"showlegend\":false,\"textposition\":\"auto\",\"x\":[\"Temperature\"],\"xaxis\":\"x\",\"y\":[-0.031932518153450225],\"yaxis\":\"y\",\"type\":\"bar\"},{\"alignmentgroup\":\"True\",\"hovertemplate\":\"Features=%{x}<br>Sales_Next_Week=%{y}<extra></extra>\",\"legendgroup\":\"Unemployment\",\"marker\":{\"color\":\"#FF97FF\",\"pattern\":{\"shape\":\"\"}},\"name\":\"Unemployment\",\"offsetgroup\":\"Unemployment\",\"orientation\":\"v\",\"showlegend\":false,\"textposition\":\"auto\",\"x\":[\"Unemployment\"],\"xaxis\":\"x\",\"y\":[-0.062095313247096946],\"yaxis\":\"y\",\"type\":\"bar\"},{\"alignmentgroup\":\"True\",\"hovertemplate\":\"Features=%{x}<br>Sales_Next_Week=%{y}<extra></extra>\",\"legendgroup\":\"Type_C\",\"marker\":{\"color\":\"#FECB52\",\"pattern\":{\"shape\":\"\"}},\"name\":\"Type_C\",\"offsetgroup\":\"Type_C\",\"orientation\":\"v\",\"showlegend\":false,\"textposition\":\"auto\",\"x\":[\"Type_C\"],\"xaxis\":\"x\",\"y\":[-0.2012574034405757],\"yaxis\":\"y\",\"type\":\"bar\"},{\"alignmentgroup\":\"True\",\"hovertemplate\":\"Features=%{x}<br>Sales_Next_Week=%{y}<extra></extra>\",\"legendgroup\":\"Type_B\",\"marker\":{\"color\":\"#636efa\",\"pattern\":{\"shape\":\"\"}},\"name\":\"Type_B\",\"offsetgroup\":\"Type_B\",\"orientation\":\"v\",\"showlegend\":false,\"textposition\":\"auto\",\"x\":[\"Type_B\"],\"xaxis\":\"x\",\"y\":[-0.30835224381532117],\"yaxis\":\"y\",\"type\":\"bar\"}],                        {\"template\":{\"data\":{\"histogram2dcontour\":[{\"type\":\"histogram2dcontour\",\"colorbar\":{\"outlinewidth\":0,\"ticks\":\"\"},\"colorscale\":[[0.0,\"#0d0887\"],[0.1111111111111111,\"#46039f\"],[0.2222222222222222,\"#7201a8\"],[0.3333333333333333,\"#9c179e\"],[0.4444444444444444,\"#bd3786\"],[0.5555555555555556,\"#d8576b\"],[0.6666666666666666,\"#ed7953\"],[0.7777777777777778,\"#fb9f3a\"],[0.8888888888888888,\"#fdca26\"],[1.0,\"#f0f921\"]]}],\"choropleth\":[{\"type\":\"choropleth\",\"colorbar\":{\"outlinewidth\":0,\"ticks\":\"\"}}],\"histogram2d\":[{\"type\":\"histogram2d\",\"colorbar\":{\"outlinewidth\":0,\"ticks\":\"\"},\"colorscale\":[[0.0,\"#0d0887\"],[0.1111111111111111,\"#46039f\"],[0.2222222222222222,\"#7201a8\"],[0.3333333333333333,\"#9c179e\"],[0.4444444444444444,\"#bd3786\"],[0.5555555555555556,\"#d8576b\"],[0.6666666666666666,\"#ed7953\"],[0.7777777777777778,\"#fb9f3a\"],[0.8888888888888888,\"#fdca26\"],[1.0,\"#f0f921\"]]}],\"heatmap\":[{\"type\":\"heatmap\",\"colorbar\":{\"outlinewidth\":0,\"ticks\":\"\"},\"colorscale\":[[0.0,\"#0d0887\"],[0.1111111111111111,\"#46039f\"],[0.2222222222222222,\"#7201a8\"],[0.3333333333333333,\"#9c179e\"],[0.4444444444444444,\"#bd3786\"],[0.5555555555555556,\"#d8576b\"],[0.6666666666666666,\"#ed7953\"],[0.7777777777777778,\"#fb9f3a\"],[0.8888888888888888,\"#fdca26\"],[1.0,\"#f0f921\"]]}],\"heatmapgl\":[{\"type\":\"heatmapgl\",\"colorbar\":{\"outlinewidth\":0,\"ticks\":\"\"},\"colorscale\":[[0.0,\"#0d0887\"],[0.1111111111111111,\"#46039f\"],[0.2222222222222222,\"#7201a8\"],[0.3333333333333333,\"#9c179e\"],[0.4444444444444444,\"#bd3786\"],[0.5555555555555556,\"#d8576b\"],[0.6666666666666666,\"#ed7953\"],[0.7777777777777778,\"#fb9f3a\"],[0.8888888888888888,\"#fdca26\"],[1.0,\"#f0f921\"]]}],\"contourcarpet\":[{\"type\":\"contourcarpet\",\"colorbar\":{\"outlinewidth\":0,\"ticks\":\"\"}}],\"contour\":[{\"type\":\"contour\",\"colorbar\":{\"outlinewidth\":0,\"ticks\":\"\"},\"colorscale\":[[0.0,\"#0d0887\"],[0.1111111111111111,\"#46039f\"],[0.2222222222222222,\"#7201a8\"],[0.3333333333333333,\"#9c179e\"],[0.4444444444444444,\"#bd3786\"],[0.5555555555555556,\"#d8576b\"],[0.6666666666666666,\"#ed7953\"],[0.7777777777777778,\"#fb9f3a\"],[0.8888888888888888,\"#fdca26\"],[1.0,\"#f0f921\"]]}],\"surface\":[{\"type\":\"surface\",\"colorbar\":{\"outlinewidth\":0,\"ticks\":\"\"},\"colorscale\":[[0.0,\"#0d0887\"],[0.1111111111111111,\"#46039f\"],[0.2222222222222222,\"#7201a8\"],[0.3333333333333333,\"#9c179e\"],[0.4444444444444444,\"#bd3786\"],[0.5555555555555556,\"#d8576b\"],[0.6666666666666666,\"#ed7953\"],[0.7777777777777778,\"#fb9f3a\"],[0.8888888888888888,\"#fdca26\"],[1.0,\"#f0f921\"]]}],\"mesh3d\":[{\"type\":\"mesh3d\",\"colorbar\":{\"outlinewidth\":0,\"ticks\":\"\"}}],\"scatter\":[{\"fillpattern\":{\"fillmode\":\"overlay\",\"size\":10,\"solidity\":0.2},\"type\":\"scatter\"}],\"parcoords\":[{\"type\":\"parcoords\",\"line\":{\"colorbar\":{\"outlinewidth\":0,\"ticks\":\"\"}}}],\"scatterpolargl\":[{\"type\":\"scatterpolargl\",\"marker\":{\"colorbar\":{\"outlinewidth\":0,\"ticks\":\"\"}}}],\"bar\":[{\"error_x\":{\"color\":\"#2a3f5f\"},\"error_y\":{\"color\":\"#2a3f5f\"},\"marker\":{\"line\":{\"color\":\"#E5ECF6\",\"width\":0.5},\"pattern\":{\"fillmode\":\"overlay\",\"size\":10,\"solidity\":0.2}},\"type\":\"bar\"}],\"scattergeo\":[{\"type\":\"scattergeo\",\"marker\":{\"colorbar\":{\"outlinewidth\":0,\"ticks\":\"\"}}}],\"scatterpolar\":[{\"type\":\"scatterpolar\",\"marker\":{\"colorbar\":{\"outlinewidth\":0,\"ticks\":\"\"}}}],\"histogram\":[{\"marker\":{\"pattern\":{\"fillmode\":\"overlay\",\"size\":10,\"solidity\":0.2}},\"type\":\"histogram\"}],\"scattergl\":[{\"type\":\"scattergl\",\"marker\":{\"colorbar\":{\"outlinewidth\":0,\"ticks\":\"\"}}}],\"scatter3d\":[{\"type\":\"scatter3d\",\"line\":{\"colorbar\":{\"outlinewidth\":0,\"ticks\":\"\"}},\"marker\":{\"colorbar\":{\"outlinewidth\":0,\"ticks\":\"\"}}}],\"scattermapbox\":[{\"type\":\"scattermapbox\",\"marker\":{\"colorbar\":{\"outlinewidth\":0,\"ticks\":\"\"}}}],\"scatterternary\":[{\"type\":\"scatterternary\",\"marker\":{\"colorbar\":{\"outlinewidth\":0,\"ticks\":\"\"}}}],\"scattercarpet\":[{\"type\":\"scattercarpet\",\"marker\":{\"colorbar\":{\"outlinewidth\":0,\"ticks\":\"\"}}}],\"carpet\":[{\"aaxis\":{\"endlinecolor\":\"#2a3f5f\",\"gridcolor\":\"white\",\"linecolor\":\"white\",\"minorgridcolor\":\"white\",\"startlinecolor\":\"#2a3f5f\"},\"baxis\":{\"endlinecolor\":\"#2a3f5f\",\"gridcolor\":\"white\",\"linecolor\":\"white\",\"minorgridcolor\":\"white\",\"startlinecolor\":\"#2a3f5f\"},\"type\":\"carpet\"}],\"table\":[{\"cells\":{\"fill\":{\"color\":\"#EBF0F8\"},\"line\":{\"color\":\"white\"}},\"header\":{\"fill\":{\"color\":\"#C8D4E3\"},\"line\":{\"color\":\"white\"}},\"type\":\"table\"}],\"barpolar\":[{\"marker\":{\"line\":{\"color\":\"#E5ECF6\",\"width\":0.5},\"pattern\":{\"fillmode\":\"overlay\",\"size\":10,\"solidity\":0.2}},\"type\":\"barpolar\"}],\"pie\":[{\"automargin\":true,\"type\":\"pie\"}]},\"layout\":{\"autotypenumbers\":\"strict\",\"colorway\":[\"#636efa\",\"#EF553B\",\"#00cc96\",\"#ab63fa\",\"#FFA15A\",\"#19d3f3\",\"#FF6692\",\"#B6E880\",\"#FF97FF\",\"#FECB52\"],\"font\":{\"color\":\"#2a3f5f\"},\"hovermode\":\"closest\",\"hoverlabel\":{\"align\":\"left\"},\"paper_bgcolor\":\"white\",\"plot_bgcolor\":\"#E5ECF6\",\"polar\":{\"bgcolor\":\"#E5ECF6\",\"angularaxis\":{\"gridcolor\":\"white\",\"linecolor\":\"white\",\"ticks\":\"\"},\"radialaxis\":{\"gridcolor\":\"white\",\"linecolor\":\"white\",\"ticks\":\"\"}},\"ternary\":{\"bgcolor\":\"#E5ECF6\",\"aaxis\":{\"gridcolor\":\"white\",\"linecolor\":\"white\",\"ticks\":\"\"},\"baxis\":{\"gridcolor\":\"white\",\"linecolor\":\"white\",\"ticks\":\"\"},\"caxis\":{\"gridcolor\":\"white\",\"linecolor\":\"white\",\"ticks\":\"\"}},\"coloraxis\":{\"colorbar\":{\"outlinewidth\":0,\"ticks\":\"\"}},\"colorscale\":{\"sequential\":[[0.0,\"#0d0887\"],[0.1111111111111111,\"#46039f\"],[0.2222222222222222,\"#7201a8\"],[0.3333333333333333,\"#9c179e\"],[0.4444444444444444,\"#bd3786\"],[0.5555555555555556,\"#d8576b\"],[0.6666666666666666,\"#ed7953\"],[0.7777777777777778,\"#fb9f3a\"],[0.8888888888888888,\"#fdca26\"],[1.0,\"#f0f921\"]],\"sequentialminus\":[[0.0,\"#0d0887\"],[0.1111111111111111,\"#46039f\"],[0.2222222222222222,\"#7201a8\"],[0.3333333333333333,\"#9c179e\"],[0.4444444444444444,\"#bd3786\"],[0.5555555555555556,\"#d8576b\"],[0.6666666666666666,\"#ed7953\"],[0.7777777777777778,\"#fb9f3a\"],[0.8888888888888888,\"#fdca26\"],[1.0,\"#f0f921\"]],\"diverging\":[[0,\"#8e0152\"],[0.1,\"#c51b7d\"],[0.2,\"#de77ae\"],[0.3,\"#f1b6da\"],[0.4,\"#fde0ef\"],[0.5,\"#f7f7f7\"],[0.6,\"#e6f5d0\"],[0.7,\"#b8e186\"],[0.8,\"#7fbc41\"],[0.9,\"#4d9221\"],[1,\"#276419\"]]},\"xaxis\":{\"gridcolor\":\"white\",\"linecolor\":\"white\",\"ticks\":\"\",\"title\":{\"standoff\":15},\"zerolinecolor\":\"white\",\"automargin\":true,\"zerolinewidth\":2},\"yaxis\":{\"gridcolor\":\"white\",\"linecolor\":\"white\",\"ticks\":\"\",\"title\":{\"standoff\":15},\"zerolinecolor\":\"white\",\"automargin\":true,\"zerolinewidth\":2},\"scene\":{\"xaxis\":{\"backgroundcolor\":\"#E5ECF6\",\"gridcolor\":\"white\",\"linecolor\":\"white\",\"showbackground\":true,\"ticks\":\"\",\"zerolinecolor\":\"white\",\"gridwidth\":2},\"yaxis\":{\"backgroundcolor\":\"#E5ECF6\",\"gridcolor\":\"white\",\"linecolor\":\"white\",\"showbackground\":true,\"ticks\":\"\",\"zerolinecolor\":\"white\",\"gridwidth\":2},\"zaxis\":{\"backgroundcolor\":\"#E5ECF6\",\"gridcolor\":\"white\",\"linecolor\":\"white\",\"showbackground\":true,\"ticks\":\"\",\"zerolinecolor\":\"white\",\"gridwidth\":2}},\"shapedefaults\":{\"line\":{\"color\":\"#2a3f5f\"}},\"annotationdefaults\":{\"arrowcolor\":\"#2a3f5f\",\"arrowhead\":0,\"arrowwidth\":1},\"geo\":{\"bgcolor\":\"white\",\"landcolor\":\"#E5ECF6\",\"subunitcolor\":\"white\",\"showland\":true,\"showlakes\":true,\"lakecolor\":\"white\"},\"title\":{\"x\":0.05},\"mapbox\":{\"style\":\"light\"}}},\"xaxis\":{\"anchor\":\"y\",\"domain\":[0.0,1.0],\"title\":{\"text\":\"Features\"},\"categoryorder\":\"array\",\"categoryarray\":[\"AVG_Last4Weeks_Sales\",\"Weekly_Sales\",\"Size\",\"Type_A\",\"MarkDown1\",\"MarkDown5\",\"MarkDown4\",\"MarkDown2\",\"MarkDown3\",\"Week\",\"Month\",\"Fuel_Price\",\"Year\",\"Diff_Weekly_Sales\",\"IsHoliday_x_True\",\"IsHoliday_x_False\",\"CPI\",\"Temperature\",\"Unemployment\",\"Type_C\",\"Type_B\"]},\"yaxis\":{\"anchor\":\"x\",\"domain\":[0.0,1.0],\"title\":{\"text\":\"Sales_Next_Week\"}},\"legend\":{\"title\":{\"text\":\"Features\"},\"tracegroupgap\":0},\"title\":{\"text\":\"Correlation of variables with next week sales\"},\"barmode\":\"relative\"},                        {\"responsive\": true}                    ).then(function(){\n",
              "                            \n",
              "var gd = document.getElementById('4e02c14a-dcc8-4ded-bedc-c1f5ee9b7962');\n",
              "var x = new MutationObserver(function (mutations, observer) {{\n",
              "        var display = window.getComputedStyle(gd).display;\n",
              "        if (!display || display === 'none') {{\n",
              "            console.log([gd, 'removed!']);\n",
              "            Plotly.purge(gd);\n",
              "            observer.disconnect();\n",
              "        }}\n",
              "}});\n",
              "\n",
              "// Listen for the removal of the full notebook cells\n",
              "var notebookContainer = gd.closest('#notebook-container');\n",
              "if (notebookContainer) {{\n",
              "    x.observe(notebookContainer, {childList: true});\n",
              "}}\n",
              "\n",
              "// Listen for the clearing of the current output cell\n",
              "var outputEl = gd.closest('.output');\n",
              "if (outputEl) {{\n",
              "    x.observe(outputEl, {childList: true});\n",
              "}}\n",
              "\n",
              "                        })                };                            </script>        </div>\n",
              "</body>\n",
              "</html>"
            ]
          },
          "metadata": {}
        }
      ],
      "source": [
        "# Calculate the correlation between variables and weekly sales\n",
        "next_week_correlation_matrix = df.corr().iloc[14,:]\n",
        "\n",
        "# Convert the correlation matrix to a sorted dataframe\n",
        "correlation_df = pd.DataFrame(data=next_week_correlation_matrix, \n",
        "                              index=next_week_correlation_matrix.index)\\\n",
        "                  .sort_values(by='Sales_Next_Week', ascending=False)\n",
        "\n",
        "# Remove the first row (which represents the correlation of weekly sales with itself)\n",
        "correlation_df = correlation_df.iloc[1:]\n",
        "\n",
        "# Plot a bar chart to visualize the correlation between variables and next week sales\n",
        "figure = px.bar(correlation_df, x=correlation_df.index, y='Sales_Next_Week', \n",
        "                color=correlation_df.index, \n",
        "                labels={'index':'Features'}, \n",
        "                title='Correlation of variables with next week sales')\n",
        "\n",
        "# Hide the legend on the chart\n",
        "figure.update_traces(showlegend=False)\n",
        "fig.update_layout(uniformtext_minsize=6, uniformtext_mode='hide')\n",
        "# Display the chart\n",
        "figure.show()"
      ]
    },
    {
      "cell_type": "markdown",
      "source": [
        "**Analysis output:**\n",
        "\n",
        "- The last four weeks and weekly sales have a high correlation with next week's sales;\n",
        "- Size and type are also very important features.\n",
        "\n"
      ],
      "metadata": {
        "id": "9vZClLRNc_m5"
      }
    },
    {
      "cell_type": "markdown",
      "source": [
        "### **Preparing Data**\n",
        "\n",
        "- Sort the dataset for date;\n",
        "- Create the train and test dataset;\n",
        "- Create the train and test variables."
      ],
      "metadata": {
        "id": "frP21N6HkRA_"
      }
    },
    {
      "cell_type": "code",
      "source": [
        "# Sorting only by date\n",
        "df.sort_values(by=['Date'],inplace=True)"
      ],
      "metadata": {
        "id": "YzhcEtXtghvy"
      },
      "execution_count": 56,
      "outputs": []
    },
    {
      "cell_type": "code",
      "source": [
        "# Creating the top five features dataset\n",
        "train = df\n",
        "train['Sales_Next_Week'] = df['Sales_Next_Week']"
      ],
      "metadata": {
        "id": "iYQxV6XPadjl"
      },
      "execution_count": 57,
      "outputs": []
    },
    {
      "cell_type": "code",
      "source": [
        "# Dividing 70% of the timestamp to train and 15% to val and 15% to test\n",
        "train = train.loc[: pd.Timestamp('2012-01-06')]"
      ],
      "metadata": {
        "id": "eZgGGBV24fa9"
      },
      "execution_count": 58,
      "outputs": []
    },
    {
      "cell_type": "code",
      "source": [
        "train"
      ],
      "metadata": {
        "colab": {
          "base_uri": "https://localhost:8080/",
          "height": 692
        },
        "id": "-fW_tV9O4l_v",
        "outputId": "b21105bb-4e58-4572-cfe2-2b47825fbdec"
      },
      "execution_count": 59,
      "outputs": [
        {
          "output_type": "execute_result",
          "data": {
            "text/plain": [
              "            Weekly_Sales  Temperature  Fuel_Price  MarkDown1  MarkDown2  \\\n",
              "Date                                                                      \n",
              "2010-02-05      74020.63        54.34       2.962       0.00       0.00   \n",
              "2010-02-05      53635.06        22.43       2.954       0.00       0.00   \n",
              "2010-02-05      19437.35        19.83       2.954       0.00       0.00   \n",
              "2010-02-05      37611.70        10.53       2.580       0.00       0.00   \n",
              "2010-02-05     119463.15        54.34       2.962       0.00       0.00   \n",
              "...                  ...          ...         ...        ...        ...   \n",
              "2012-01-06      66531.81        50.82       3.157    3220.17   32056.43   \n",
              "2012-01-06      36066.87        36.39       3.158    5998.79   18094.69   \n",
              "2012-01-06     134489.59        33.80       3.080    6809.96   37106.52   \n",
              "2012-01-06      46787.04        50.43       3.599    5155.86   19549.51   \n",
              "2012-01-06        243.91        50.43       3.599       9.61    2765.45   \n",
              "\n",
              "            MarkDown3  MarkDown4  MarkDown5         CPI  Unemployment  ...  \\\n",
              "Date                                                                   ...   \n",
              "2010-02-05       0.00       0.00       0.00  126.442065         9.765  ...   \n",
              "2010-02-05       0.00       0.00       0.00  131.527903         8.326  ...   \n",
              "2010-02-05       0.00       0.00       0.00  131.527903         8.350  ...   \n",
              "2010-02-05       0.00       0.00       0.00  189.381697         9.014  ...   \n",
              "2010-02-05       0.00       0.00       0.00  126.442065         9.765  ...   \n",
              "...               ...        ...        ...         ...           ...  ...   \n",
              "2012-01-06     108.24     985.76    6650.63  221.308802         6.132  ...   \n",
              "2012-01-06     104.92     351.55    2890.32  130.157516         9.653  ...   \n",
              "2012-01-06     179.77    1922.55    7481.58  130.157516         6.104  ...   \n",
              "2012-01-06     218.29     636.73    5218.50  130.157516        12.187  ...   \n",
              "2012-01-06      56.96       0.00     560.58  130.157516        12.187  ...   \n",
              "\n",
              "            Month  Week  Sales_Next_Week  Diff_Weekly_Sales  \\\n",
              "Date                                                          \n",
              "2010-02-05      2     5         69145.42          -1.626246   \n",
              "2010-02-05      2     5         50808.32          -1.626246   \n",
              "2010-02-05      2     5         18775.19          -1.626246   \n",
              "2010-02-05      2     5         36727.96          -1.626246   \n",
              "2010-02-05      2     5        111422.87          -1.626246   \n",
              "...           ...   ...              ...                ...   \n",
              "2012-01-06      1     1         66349.72         -58.992849   \n",
              "2012-01-06      1     1         33764.91           8.834174   \n",
              "2012-01-06      1     1        128818.78           9.978616   \n",
              "2012-01-06      1     1         64353.72          -0.335328   \n",
              "2012-01-06      1     1           106.19          39.838465   \n",
              "\n",
              "            AVG_Last4Weeks_Sales  IsHoliday_x_False  IsHoliday_x_True  Type_A  \\\n",
              "Date                                                                            \n",
              "2010-02-05          48457.182518                  1                 0       0   \n",
              "2010-02-05          48457.182518                  1                 0       1   \n",
              "2010-02-05          48457.182518                  1                 0       0   \n",
              "2010-02-05          48457.182518                  1                 0       0   \n",
              "2010-02-05          48457.182518                  1                 0       0   \n",
              "...                          ...                ...               ...     ...   \n",
              "2012-01-06         114654.147500                  1                 0       1   \n",
              "2012-01-06          39251.907500                  1                 0       1   \n",
              "2012-01-06         144367.030000                  1                 0       1   \n",
              "2012-01-06          47515.915000                  1                 0       1   \n",
              "2012-01-06            192.192500                  1                 0       0   \n",
              "\n",
              "            Type_B  Type_C  \n",
              "Date                        \n",
              "2010-02-05       1       0  \n",
              "2010-02-05       0       0  \n",
              "2010-02-05       1       0  \n",
              "2010-02-05       1       0  \n",
              "2010-02-05       1       0  \n",
              "...            ...     ...  \n",
              "2012-01-06       0       0  \n",
              "2012-01-06       0       0  \n",
              "2012-01-06       0       0  \n",
              "2012-01-06       0       0  \n",
              "2012-01-06       0       1  \n",
              "\n",
              "[45169 rows x 22 columns]"
            ],
            "text/html": [
              "\n",
              "  <div id=\"df-ad6d0968-e843-4826-ae61-4ed68874883f\">\n",
              "    <div class=\"colab-df-container\">\n",
              "      <div>\n",
              "<style scoped>\n",
              "    .dataframe tbody tr th:only-of-type {\n",
              "        vertical-align: middle;\n",
              "    }\n",
              "\n",
              "    .dataframe tbody tr th {\n",
              "        vertical-align: top;\n",
              "    }\n",
              "\n",
              "    .dataframe thead th {\n",
              "        text-align: right;\n",
              "    }\n",
              "</style>\n",
              "<table border=\"1\" class=\"dataframe\">\n",
              "  <thead>\n",
              "    <tr style=\"text-align: right;\">\n",
              "      <th></th>\n",
              "      <th>Weekly_Sales</th>\n",
              "      <th>Temperature</th>\n",
              "      <th>Fuel_Price</th>\n",
              "      <th>MarkDown1</th>\n",
              "      <th>MarkDown2</th>\n",
              "      <th>MarkDown3</th>\n",
              "      <th>MarkDown4</th>\n",
              "      <th>MarkDown5</th>\n",
              "      <th>CPI</th>\n",
              "      <th>Unemployment</th>\n",
              "      <th>...</th>\n",
              "      <th>Month</th>\n",
              "      <th>Week</th>\n",
              "      <th>Sales_Next_Week</th>\n",
              "      <th>Diff_Weekly_Sales</th>\n",
              "      <th>AVG_Last4Weeks_Sales</th>\n",
              "      <th>IsHoliday_x_False</th>\n",
              "      <th>IsHoliday_x_True</th>\n",
              "      <th>Type_A</th>\n",
              "      <th>Type_B</th>\n",
              "      <th>Type_C</th>\n",
              "    </tr>\n",
              "    <tr>\n",
              "      <th>Date</th>\n",
              "      <th></th>\n",
              "      <th></th>\n",
              "      <th></th>\n",
              "      <th></th>\n",
              "      <th></th>\n",
              "      <th></th>\n",
              "      <th></th>\n",
              "      <th></th>\n",
              "      <th></th>\n",
              "      <th></th>\n",
              "      <th></th>\n",
              "      <th></th>\n",
              "      <th></th>\n",
              "      <th></th>\n",
              "      <th></th>\n",
              "      <th></th>\n",
              "      <th></th>\n",
              "      <th></th>\n",
              "      <th></th>\n",
              "      <th></th>\n",
              "      <th></th>\n",
              "    </tr>\n",
              "  </thead>\n",
              "  <tbody>\n",
              "    <tr>\n",
              "      <th>2010-02-05</th>\n",
              "      <td>74020.63</td>\n",
              "      <td>54.34</td>\n",
              "      <td>2.962</td>\n",
              "      <td>0.00</td>\n",
              "      <td>0.00</td>\n",
              "      <td>0.00</td>\n",
              "      <td>0.00</td>\n",
              "      <td>0.00</td>\n",
              "      <td>126.442065</td>\n",
              "      <td>9.765</td>\n",
              "      <td>...</td>\n",
              "      <td>2</td>\n",
              "      <td>5</td>\n",
              "      <td>69145.42</td>\n",
              "      <td>-1.626246</td>\n",
              "      <td>48457.182518</td>\n",
              "      <td>1</td>\n",
              "      <td>0</td>\n",
              "      <td>0</td>\n",
              "      <td>1</td>\n",
              "      <td>0</td>\n",
              "    </tr>\n",
              "    <tr>\n",
              "      <th>2010-02-05</th>\n",
              "      <td>53635.06</td>\n",
              "      <td>22.43</td>\n",
              "      <td>2.954</td>\n",
              "      <td>0.00</td>\n",
              "      <td>0.00</td>\n",
              "      <td>0.00</td>\n",
              "      <td>0.00</td>\n",
              "      <td>0.00</td>\n",
              "      <td>131.527903</td>\n",
              "      <td>8.326</td>\n",
              "      <td>...</td>\n",
              "      <td>2</td>\n",
              "      <td>5</td>\n",
              "      <td>50808.32</td>\n",
              "      <td>-1.626246</td>\n",
              "      <td>48457.182518</td>\n",
              "      <td>1</td>\n",
              "      <td>0</td>\n",
              "      <td>1</td>\n",
              "      <td>0</td>\n",
              "      <td>0</td>\n",
              "    </tr>\n",
              "    <tr>\n",
              "      <th>2010-02-05</th>\n",
              "      <td>19437.35</td>\n",
              "      <td>19.83</td>\n",
              "      <td>2.954</td>\n",
              "      <td>0.00</td>\n",
              "      <td>0.00</td>\n",
              "      <td>0.00</td>\n",
              "      <td>0.00</td>\n",
              "      <td>0.00</td>\n",
              "      <td>131.527903</td>\n",
              "      <td>8.350</td>\n",
              "      <td>...</td>\n",
              "      <td>2</td>\n",
              "      <td>5</td>\n",
              "      <td>18775.19</td>\n",
              "      <td>-1.626246</td>\n",
              "      <td>48457.182518</td>\n",
              "      <td>1</td>\n",
              "      <td>0</td>\n",
              "      <td>0</td>\n",
              "      <td>1</td>\n",
              "      <td>0</td>\n",
              "    </tr>\n",
              "    <tr>\n",
              "      <th>2010-02-05</th>\n",
              "      <td>37611.70</td>\n",
              "      <td>10.53</td>\n",
              "      <td>2.580</td>\n",
              "      <td>0.00</td>\n",
              "      <td>0.00</td>\n",
              "      <td>0.00</td>\n",
              "      <td>0.00</td>\n",
              "      <td>0.00</td>\n",
              "      <td>189.381697</td>\n",
              "      <td>9.014</td>\n",
              "      <td>...</td>\n",
              "      <td>2</td>\n",
              "      <td>5</td>\n",
              "      <td>36727.96</td>\n",
              "      <td>-1.626246</td>\n",
              "      <td>48457.182518</td>\n",
              "      <td>1</td>\n",
              "      <td>0</td>\n",
              "      <td>0</td>\n",
              "      <td>1</td>\n",
              "      <td>0</td>\n",
              "    </tr>\n",
              "    <tr>\n",
              "      <th>2010-02-05</th>\n",
              "      <td>119463.15</td>\n",
              "      <td>54.34</td>\n",
              "      <td>2.962</td>\n",
              "      <td>0.00</td>\n",
              "      <td>0.00</td>\n",
              "      <td>0.00</td>\n",
              "      <td>0.00</td>\n",
              "      <td>0.00</td>\n",
              "      <td>126.442065</td>\n",
              "      <td>9.765</td>\n",
              "      <td>...</td>\n",
              "      <td>2</td>\n",
              "      <td>5</td>\n",
              "      <td>111422.87</td>\n",
              "      <td>-1.626246</td>\n",
              "      <td>48457.182518</td>\n",
              "      <td>1</td>\n",
              "      <td>0</td>\n",
              "      <td>0</td>\n",
              "      <td>1</td>\n",
              "      <td>0</td>\n",
              "    </tr>\n",
              "    <tr>\n",
              "      <th>...</th>\n",
              "      <td>...</td>\n",
              "      <td>...</td>\n",
              "      <td>...</td>\n",
              "      <td>...</td>\n",
              "      <td>...</td>\n",
              "      <td>...</td>\n",
              "      <td>...</td>\n",
              "      <td>...</td>\n",
              "      <td>...</td>\n",
              "      <td>...</td>\n",
              "      <td>...</td>\n",
              "      <td>...</td>\n",
              "      <td>...</td>\n",
              "      <td>...</td>\n",
              "      <td>...</td>\n",
              "      <td>...</td>\n",
              "      <td>...</td>\n",
              "      <td>...</td>\n",
              "      <td>...</td>\n",
              "      <td>...</td>\n",
              "      <td>...</td>\n",
              "    </tr>\n",
              "    <tr>\n",
              "      <th>2012-01-06</th>\n",
              "      <td>66531.81</td>\n",
              "      <td>50.82</td>\n",
              "      <td>3.157</td>\n",
              "      <td>3220.17</td>\n",
              "      <td>32056.43</td>\n",
              "      <td>108.24</td>\n",
              "      <td>985.76</td>\n",
              "      <td>6650.63</td>\n",
              "      <td>221.308802</td>\n",
              "      <td>6.132</td>\n",
              "      <td>...</td>\n",
              "      <td>1</td>\n",
              "      <td>1</td>\n",
              "      <td>66349.72</td>\n",
              "      <td>-58.992849</td>\n",
              "      <td>114654.147500</td>\n",
              "      <td>1</td>\n",
              "      <td>0</td>\n",
              "      <td>1</td>\n",
              "      <td>0</td>\n",
              "      <td>0</td>\n",
              "    </tr>\n",
              "    <tr>\n",
              "      <th>2012-01-06</th>\n",
              "      <td>36066.87</td>\n",
              "      <td>36.39</td>\n",
              "      <td>3.158</td>\n",
              "      <td>5998.79</td>\n",
              "      <td>18094.69</td>\n",
              "      <td>104.92</td>\n",
              "      <td>351.55</td>\n",
              "      <td>2890.32</td>\n",
              "      <td>130.157516</td>\n",
              "      <td>9.653</td>\n",
              "      <td>...</td>\n",
              "      <td>1</td>\n",
              "      <td>1</td>\n",
              "      <td>33764.91</td>\n",
              "      <td>8.834174</td>\n",
              "      <td>39251.907500</td>\n",
              "      <td>1</td>\n",
              "      <td>0</td>\n",
              "      <td>1</td>\n",
              "      <td>0</td>\n",
              "      <td>0</td>\n",
              "    </tr>\n",
              "    <tr>\n",
              "      <th>2012-01-06</th>\n",
              "      <td>134489.59</td>\n",
              "      <td>33.80</td>\n",
              "      <td>3.080</td>\n",
              "      <td>6809.96</td>\n",
              "      <td>37106.52</td>\n",
              "      <td>179.77</td>\n",
              "      <td>1922.55</td>\n",
              "      <td>7481.58</td>\n",
              "      <td>130.157516</td>\n",
              "      <td>6.104</td>\n",
              "      <td>...</td>\n",
              "      <td>1</td>\n",
              "      <td>1</td>\n",
              "      <td>128818.78</td>\n",
              "      <td>9.978616</td>\n",
              "      <td>144367.030000</td>\n",
              "      <td>1</td>\n",
              "      <td>0</td>\n",
              "      <td>1</td>\n",
              "      <td>0</td>\n",
              "      <td>0</td>\n",
              "    </tr>\n",
              "    <tr>\n",
              "      <th>2012-01-06</th>\n",
              "      <td>46787.04</td>\n",
              "      <td>50.43</td>\n",
              "      <td>3.599</td>\n",
              "      <td>5155.86</td>\n",
              "      <td>19549.51</td>\n",
              "      <td>218.29</td>\n",
              "      <td>636.73</td>\n",
              "      <td>5218.50</td>\n",
              "      <td>130.157516</td>\n",
              "      <td>12.187</td>\n",
              "      <td>...</td>\n",
              "      <td>1</td>\n",
              "      <td>1</td>\n",
              "      <td>64353.72</td>\n",
              "      <td>-0.335328</td>\n",
              "      <td>47515.915000</td>\n",
              "      <td>1</td>\n",
              "      <td>0</td>\n",
              "      <td>1</td>\n",
              "      <td>0</td>\n",
              "      <td>0</td>\n",
              "    </tr>\n",
              "    <tr>\n",
              "      <th>2012-01-06</th>\n",
              "      <td>243.91</td>\n",
              "      <td>50.43</td>\n",
              "      <td>3.599</td>\n",
              "      <td>9.61</td>\n",
              "      <td>2765.45</td>\n",
              "      <td>56.96</td>\n",
              "      <td>0.00</td>\n",
              "      <td>560.58</td>\n",
              "      <td>130.157516</td>\n",
              "      <td>12.187</td>\n",
              "      <td>...</td>\n",
              "      <td>1</td>\n",
              "      <td>1</td>\n",
              "      <td>106.19</td>\n",
              "      <td>39.838465</td>\n",
              "      <td>192.192500</td>\n",
              "      <td>1</td>\n",
              "      <td>0</td>\n",
              "      <td>0</td>\n",
              "      <td>0</td>\n",
              "      <td>1</td>\n",
              "    </tr>\n",
              "  </tbody>\n",
              "</table>\n",
              "<p>45169 rows × 22 columns</p>\n",
              "</div>\n",
              "      <button class=\"colab-df-convert\" onclick=\"convertToInteractive('df-ad6d0968-e843-4826-ae61-4ed68874883f')\"\n",
              "              title=\"Convert this dataframe to an interactive table.\"\n",
              "              style=\"display:none;\">\n",
              "        \n",
              "  <svg xmlns=\"http://www.w3.org/2000/svg\" height=\"24px\"viewBox=\"0 0 24 24\"\n",
              "       width=\"24px\">\n",
              "    <path d=\"M0 0h24v24H0V0z\" fill=\"none\"/>\n",
              "    <path d=\"M18.56 5.44l.94 2.06.94-2.06 2.06-.94-2.06-.94-.94-2.06-.94 2.06-2.06.94zm-11 1L8.5 8.5l.94-2.06 2.06-.94-2.06-.94L8.5 2.5l-.94 2.06-2.06.94zm10 10l.94 2.06.94-2.06 2.06-.94-2.06-.94-.94-2.06-.94 2.06-2.06.94z\"/><path d=\"M17.41 7.96l-1.37-1.37c-.4-.4-.92-.59-1.43-.59-.52 0-1.04.2-1.43.59L10.3 9.45l-7.72 7.72c-.78.78-.78 2.05 0 2.83L4 21.41c.39.39.9.59 1.41.59.51 0 1.02-.2 1.41-.59l7.78-7.78 2.81-2.81c.8-.78.8-2.07 0-2.86zM5.41 20L4 18.59l7.72-7.72 1.47 1.35L5.41 20z\"/>\n",
              "  </svg>\n",
              "      </button>\n",
              "      \n",
              "  <style>\n",
              "    .colab-df-container {\n",
              "      display:flex;\n",
              "      flex-wrap:wrap;\n",
              "      gap: 12px;\n",
              "    }\n",
              "\n",
              "    .colab-df-convert {\n",
              "      background-color: #E8F0FE;\n",
              "      border: none;\n",
              "      border-radius: 50%;\n",
              "      cursor: pointer;\n",
              "      display: none;\n",
              "      fill: #1967D2;\n",
              "      height: 32px;\n",
              "      padding: 0 0 0 0;\n",
              "      width: 32px;\n",
              "    }\n",
              "\n",
              "    .colab-df-convert:hover {\n",
              "      background-color: #E2EBFA;\n",
              "      box-shadow: 0px 1px 2px rgba(60, 64, 67, 0.3), 0px 1px 3px 1px rgba(60, 64, 67, 0.15);\n",
              "      fill: #174EA6;\n",
              "    }\n",
              "\n",
              "    [theme=dark] .colab-df-convert {\n",
              "      background-color: #3B4455;\n",
              "      fill: #D2E3FC;\n",
              "    }\n",
              "\n",
              "    [theme=dark] .colab-df-convert:hover {\n",
              "      background-color: #434B5C;\n",
              "      box-shadow: 0px 1px 3px 1px rgba(0, 0, 0, 0.15);\n",
              "      filter: drop-shadow(0px 1px 2px rgba(0, 0, 0, 0.3));\n",
              "      fill: #FFFFFF;\n",
              "    }\n",
              "  </style>\n",
              "\n",
              "      <script>\n",
              "        const buttonEl =\n",
              "          document.querySelector('#df-ad6d0968-e843-4826-ae61-4ed68874883f button.colab-df-convert');\n",
              "        buttonEl.style.display =\n",
              "          google.colab.kernel.accessAllowed ? 'block' : 'none';\n",
              "\n",
              "        async function convertToInteractive(key) {\n",
              "          const element = document.querySelector('#df-ad6d0968-e843-4826-ae61-4ed68874883f');\n",
              "          const dataTable =\n",
              "            await google.colab.kernel.invokeFunction('convertToInteractive',\n",
              "                                                     [key], {});\n",
              "          if (!dataTable) return;\n",
              "\n",
              "          const docLinkHtml = 'Like what you see? Visit the ' +\n",
              "            '<a target=\"_blank\" href=https://colab.research.google.com/notebooks/data_table.ipynb>data table notebook</a>'\n",
              "            + ' to learn more about interactive tables.';\n",
              "          element.innerHTML = '';\n",
              "          dataTable['output_type'] = 'display_data';\n",
              "          await google.colab.output.renderOutput(dataTable, element);\n",
              "          const docLink = document.createElement('div');\n",
              "          docLink.innerHTML = docLinkHtml;\n",
              "          element.appendChild(docLink);\n",
              "        }\n",
              "      </script>\n",
              "    </div>\n",
              "  </div>\n",
              "  "
            ]
          },
          "metadata": {},
          "execution_count": 59
        }
      ]
    },
    {
      "cell_type": "code",
      "source": [
        "test = df\n",
        "test['Sales_Next_Week'] = df['Sales_Next_Week']"
      ],
      "metadata": {
        "id": "-Xbiihk_a7Sl"
      },
      "execution_count": 60,
      "outputs": []
    },
    {
      "cell_type": "code",
      "source": [
        "test = test.loc[pd.Timestamp('2012-01-13'):]"
      ],
      "metadata": {
        "id": "gvlo4H5B4KMp"
      },
      "execution_count": 61,
      "outputs": []
    },
    {
      "cell_type": "code",
      "source": [
        "len(df) == len(train) + len(test)"
      ],
      "metadata": {
        "id": "myzXynoB4sjW",
        "colab": {
          "base_uri": "https://localhost:8080/"
        },
        "outputId": "473d8767-9e08-4163-c058-58536e957252"
      },
      "execution_count": 62,
      "outputs": [
        {
          "output_type": "execute_result",
          "data": {
            "text/plain": [
              "True"
            ]
          },
          "metadata": {},
          "execution_count": 62
        }
      ]
    },
    {
      "cell_type": "code",
      "source": [
        "# Creating the train and test variables\n",
        "X_train = train.loc[:, train.columns != 'Sales_Next_Week']\n",
        "y_train = train['Sales_Next_Week']\n",
        "y_train = y_train.values.ravel()\n",
        "\n",
        "X_test = test.loc[:, test.columns != 'Sales_Next_Week']\n",
        "y_test = test['Sales_Next_Week']\n",
        "y_test = y_test.values.ravel()"
      ],
      "metadata": {
        "id": "dSaNeNBzXecg"
      },
      "execution_count": 63,
      "outputs": []
    },
    {
      "cell_type": "code",
      "source": [
        "X_train"
      ],
      "metadata": {
        "id": "qIFD_dg81UW8",
        "colab": {
          "base_uri": "https://localhost:8080/",
          "height": 692
        },
        "outputId": "7abaf0fd-c8b8-4178-db77-c81c262b6a8c"
      },
      "execution_count": 64,
      "outputs": [
        {
          "output_type": "execute_result",
          "data": {
            "text/plain": [
              "            Weekly_Sales  Temperature  Fuel_Price  MarkDown1  MarkDown2  \\\n",
              "Date                                                                      \n",
              "2010-02-05      74020.63        54.34       2.962       0.00       0.00   \n",
              "2010-02-05      53635.06        22.43       2.954       0.00       0.00   \n",
              "2010-02-05      19437.35        19.83       2.954       0.00       0.00   \n",
              "2010-02-05      37611.70        10.53       2.580       0.00       0.00   \n",
              "2010-02-05     119463.15        54.34       2.962       0.00       0.00   \n",
              "...                  ...          ...         ...        ...        ...   \n",
              "2012-01-06      66531.81        50.82       3.157    3220.17   32056.43   \n",
              "2012-01-06      36066.87        36.39       3.158    5998.79   18094.69   \n",
              "2012-01-06     134489.59        33.80       3.080    6809.96   37106.52   \n",
              "2012-01-06      46787.04        50.43       3.599    5155.86   19549.51   \n",
              "2012-01-06        243.91        50.43       3.599       9.61    2765.45   \n",
              "\n",
              "            MarkDown3  MarkDown4  MarkDown5         CPI  Unemployment  ...  \\\n",
              "Date                                                                   ...   \n",
              "2010-02-05       0.00       0.00       0.00  126.442065         9.765  ...   \n",
              "2010-02-05       0.00       0.00       0.00  131.527903         8.326  ...   \n",
              "2010-02-05       0.00       0.00       0.00  131.527903         8.350  ...   \n",
              "2010-02-05       0.00       0.00       0.00  189.381697         9.014  ...   \n",
              "2010-02-05       0.00       0.00       0.00  126.442065         9.765  ...   \n",
              "...               ...        ...        ...         ...           ...  ...   \n",
              "2012-01-06     108.24     985.76    6650.63  221.308802         6.132  ...   \n",
              "2012-01-06     104.92     351.55    2890.32  130.157516         9.653  ...   \n",
              "2012-01-06     179.77    1922.55    7481.58  130.157516         6.104  ...   \n",
              "2012-01-06     218.29     636.73    5218.50  130.157516        12.187  ...   \n",
              "2012-01-06      56.96       0.00     560.58  130.157516        12.187  ...   \n",
              "\n",
              "            Year  Month  Week  Diff_Weekly_Sales  AVG_Last4Weeks_Sales  \\\n",
              "Date                                                                     \n",
              "2010-02-05  2010      2     5          -1.626246          48457.182518   \n",
              "2010-02-05  2010      2     5          -1.626246          48457.182518   \n",
              "2010-02-05  2010      2     5          -1.626246          48457.182518   \n",
              "2010-02-05  2010      2     5          -1.626246          48457.182518   \n",
              "2010-02-05  2010      2     5          -1.626246          48457.182518   \n",
              "...          ...    ...   ...                ...                   ...   \n",
              "2012-01-06  2012      1     1         -58.992849         114654.147500   \n",
              "2012-01-06  2012      1     1           8.834174          39251.907500   \n",
              "2012-01-06  2012      1     1           9.978616         144367.030000   \n",
              "2012-01-06  2012      1     1          -0.335328          47515.915000   \n",
              "2012-01-06  2012      1     1          39.838465            192.192500   \n",
              "\n",
              "            IsHoliday_x_False  IsHoliday_x_True  Type_A  Type_B  Type_C  \n",
              "Date                                                                     \n",
              "2010-02-05                  1                 0       0       1       0  \n",
              "2010-02-05                  1                 0       1       0       0  \n",
              "2010-02-05                  1                 0       0       1       0  \n",
              "2010-02-05                  1                 0       0       1       0  \n",
              "2010-02-05                  1                 0       0       1       0  \n",
              "...                       ...               ...     ...     ...     ...  \n",
              "2012-01-06                  1                 0       1       0       0  \n",
              "2012-01-06                  1                 0       1       0       0  \n",
              "2012-01-06                  1                 0       1       0       0  \n",
              "2012-01-06                  1                 0       1       0       0  \n",
              "2012-01-06                  1                 0       0       0       1  \n",
              "\n",
              "[45169 rows x 21 columns]"
            ],
            "text/html": [
              "\n",
              "  <div id=\"df-aef7496a-3387-409d-a541-d026184b88e4\">\n",
              "    <div class=\"colab-df-container\">\n",
              "      <div>\n",
              "<style scoped>\n",
              "    .dataframe tbody tr th:only-of-type {\n",
              "        vertical-align: middle;\n",
              "    }\n",
              "\n",
              "    .dataframe tbody tr th {\n",
              "        vertical-align: top;\n",
              "    }\n",
              "\n",
              "    .dataframe thead th {\n",
              "        text-align: right;\n",
              "    }\n",
              "</style>\n",
              "<table border=\"1\" class=\"dataframe\">\n",
              "  <thead>\n",
              "    <tr style=\"text-align: right;\">\n",
              "      <th></th>\n",
              "      <th>Weekly_Sales</th>\n",
              "      <th>Temperature</th>\n",
              "      <th>Fuel_Price</th>\n",
              "      <th>MarkDown1</th>\n",
              "      <th>MarkDown2</th>\n",
              "      <th>MarkDown3</th>\n",
              "      <th>MarkDown4</th>\n",
              "      <th>MarkDown5</th>\n",
              "      <th>CPI</th>\n",
              "      <th>Unemployment</th>\n",
              "      <th>...</th>\n",
              "      <th>Year</th>\n",
              "      <th>Month</th>\n",
              "      <th>Week</th>\n",
              "      <th>Diff_Weekly_Sales</th>\n",
              "      <th>AVG_Last4Weeks_Sales</th>\n",
              "      <th>IsHoliday_x_False</th>\n",
              "      <th>IsHoliday_x_True</th>\n",
              "      <th>Type_A</th>\n",
              "      <th>Type_B</th>\n",
              "      <th>Type_C</th>\n",
              "    </tr>\n",
              "    <tr>\n",
              "      <th>Date</th>\n",
              "      <th></th>\n",
              "      <th></th>\n",
              "      <th></th>\n",
              "      <th></th>\n",
              "      <th></th>\n",
              "      <th></th>\n",
              "      <th></th>\n",
              "      <th></th>\n",
              "      <th></th>\n",
              "      <th></th>\n",
              "      <th></th>\n",
              "      <th></th>\n",
              "      <th></th>\n",
              "      <th></th>\n",
              "      <th></th>\n",
              "      <th></th>\n",
              "      <th></th>\n",
              "      <th></th>\n",
              "      <th></th>\n",
              "      <th></th>\n",
              "      <th></th>\n",
              "    </tr>\n",
              "  </thead>\n",
              "  <tbody>\n",
              "    <tr>\n",
              "      <th>2010-02-05</th>\n",
              "      <td>74020.63</td>\n",
              "      <td>54.34</td>\n",
              "      <td>2.962</td>\n",
              "      <td>0.00</td>\n",
              "      <td>0.00</td>\n",
              "      <td>0.00</td>\n",
              "      <td>0.00</td>\n",
              "      <td>0.00</td>\n",
              "      <td>126.442065</td>\n",
              "      <td>9.765</td>\n",
              "      <td>...</td>\n",
              "      <td>2010</td>\n",
              "      <td>2</td>\n",
              "      <td>5</td>\n",
              "      <td>-1.626246</td>\n",
              "      <td>48457.182518</td>\n",
              "      <td>1</td>\n",
              "      <td>0</td>\n",
              "      <td>0</td>\n",
              "      <td>1</td>\n",
              "      <td>0</td>\n",
              "    </tr>\n",
              "    <tr>\n",
              "      <th>2010-02-05</th>\n",
              "      <td>53635.06</td>\n",
              "      <td>22.43</td>\n",
              "      <td>2.954</td>\n",
              "      <td>0.00</td>\n",
              "      <td>0.00</td>\n",
              "      <td>0.00</td>\n",
              "      <td>0.00</td>\n",
              "      <td>0.00</td>\n",
              "      <td>131.527903</td>\n",
              "      <td>8.326</td>\n",
              "      <td>...</td>\n",
              "      <td>2010</td>\n",
              "      <td>2</td>\n",
              "      <td>5</td>\n",
              "      <td>-1.626246</td>\n",
              "      <td>48457.182518</td>\n",
              "      <td>1</td>\n",
              "      <td>0</td>\n",
              "      <td>1</td>\n",
              "      <td>0</td>\n",
              "      <td>0</td>\n",
              "    </tr>\n",
              "    <tr>\n",
              "      <th>2010-02-05</th>\n",
              "      <td>19437.35</td>\n",
              "      <td>19.83</td>\n",
              "      <td>2.954</td>\n",
              "      <td>0.00</td>\n",
              "      <td>0.00</td>\n",
              "      <td>0.00</td>\n",
              "      <td>0.00</td>\n",
              "      <td>0.00</td>\n",
              "      <td>131.527903</td>\n",
              "      <td>8.350</td>\n",
              "      <td>...</td>\n",
              "      <td>2010</td>\n",
              "      <td>2</td>\n",
              "      <td>5</td>\n",
              "      <td>-1.626246</td>\n",
              "      <td>48457.182518</td>\n",
              "      <td>1</td>\n",
              "      <td>0</td>\n",
              "      <td>0</td>\n",
              "      <td>1</td>\n",
              "      <td>0</td>\n",
              "    </tr>\n",
              "    <tr>\n",
              "      <th>2010-02-05</th>\n",
              "      <td>37611.70</td>\n",
              "      <td>10.53</td>\n",
              "      <td>2.580</td>\n",
              "      <td>0.00</td>\n",
              "      <td>0.00</td>\n",
              "      <td>0.00</td>\n",
              "      <td>0.00</td>\n",
              "      <td>0.00</td>\n",
              "      <td>189.381697</td>\n",
              "      <td>9.014</td>\n",
              "      <td>...</td>\n",
              "      <td>2010</td>\n",
              "      <td>2</td>\n",
              "      <td>5</td>\n",
              "      <td>-1.626246</td>\n",
              "      <td>48457.182518</td>\n",
              "      <td>1</td>\n",
              "      <td>0</td>\n",
              "      <td>0</td>\n",
              "      <td>1</td>\n",
              "      <td>0</td>\n",
              "    </tr>\n",
              "    <tr>\n",
              "      <th>2010-02-05</th>\n",
              "      <td>119463.15</td>\n",
              "      <td>54.34</td>\n",
              "      <td>2.962</td>\n",
              "      <td>0.00</td>\n",
              "      <td>0.00</td>\n",
              "      <td>0.00</td>\n",
              "      <td>0.00</td>\n",
              "      <td>0.00</td>\n",
              "      <td>126.442065</td>\n",
              "      <td>9.765</td>\n",
              "      <td>...</td>\n",
              "      <td>2010</td>\n",
              "      <td>2</td>\n",
              "      <td>5</td>\n",
              "      <td>-1.626246</td>\n",
              "      <td>48457.182518</td>\n",
              "      <td>1</td>\n",
              "      <td>0</td>\n",
              "      <td>0</td>\n",
              "      <td>1</td>\n",
              "      <td>0</td>\n",
              "    </tr>\n",
              "    <tr>\n",
              "      <th>...</th>\n",
              "      <td>...</td>\n",
              "      <td>...</td>\n",
              "      <td>...</td>\n",
              "      <td>...</td>\n",
              "      <td>...</td>\n",
              "      <td>...</td>\n",
              "      <td>...</td>\n",
              "      <td>...</td>\n",
              "      <td>...</td>\n",
              "      <td>...</td>\n",
              "      <td>...</td>\n",
              "      <td>...</td>\n",
              "      <td>...</td>\n",
              "      <td>...</td>\n",
              "      <td>...</td>\n",
              "      <td>...</td>\n",
              "      <td>...</td>\n",
              "      <td>...</td>\n",
              "      <td>...</td>\n",
              "      <td>...</td>\n",
              "      <td>...</td>\n",
              "    </tr>\n",
              "    <tr>\n",
              "      <th>2012-01-06</th>\n",
              "      <td>66531.81</td>\n",
              "      <td>50.82</td>\n",
              "      <td>3.157</td>\n",
              "      <td>3220.17</td>\n",
              "      <td>32056.43</td>\n",
              "      <td>108.24</td>\n",
              "      <td>985.76</td>\n",
              "      <td>6650.63</td>\n",
              "      <td>221.308802</td>\n",
              "      <td>6.132</td>\n",
              "      <td>...</td>\n",
              "      <td>2012</td>\n",
              "      <td>1</td>\n",
              "      <td>1</td>\n",
              "      <td>-58.992849</td>\n",
              "      <td>114654.147500</td>\n",
              "      <td>1</td>\n",
              "      <td>0</td>\n",
              "      <td>1</td>\n",
              "      <td>0</td>\n",
              "      <td>0</td>\n",
              "    </tr>\n",
              "    <tr>\n",
              "      <th>2012-01-06</th>\n",
              "      <td>36066.87</td>\n",
              "      <td>36.39</td>\n",
              "      <td>3.158</td>\n",
              "      <td>5998.79</td>\n",
              "      <td>18094.69</td>\n",
              "      <td>104.92</td>\n",
              "      <td>351.55</td>\n",
              "      <td>2890.32</td>\n",
              "      <td>130.157516</td>\n",
              "      <td>9.653</td>\n",
              "      <td>...</td>\n",
              "      <td>2012</td>\n",
              "      <td>1</td>\n",
              "      <td>1</td>\n",
              "      <td>8.834174</td>\n",
              "      <td>39251.907500</td>\n",
              "      <td>1</td>\n",
              "      <td>0</td>\n",
              "      <td>1</td>\n",
              "      <td>0</td>\n",
              "      <td>0</td>\n",
              "    </tr>\n",
              "    <tr>\n",
              "      <th>2012-01-06</th>\n",
              "      <td>134489.59</td>\n",
              "      <td>33.80</td>\n",
              "      <td>3.080</td>\n",
              "      <td>6809.96</td>\n",
              "      <td>37106.52</td>\n",
              "      <td>179.77</td>\n",
              "      <td>1922.55</td>\n",
              "      <td>7481.58</td>\n",
              "      <td>130.157516</td>\n",
              "      <td>6.104</td>\n",
              "      <td>...</td>\n",
              "      <td>2012</td>\n",
              "      <td>1</td>\n",
              "      <td>1</td>\n",
              "      <td>9.978616</td>\n",
              "      <td>144367.030000</td>\n",
              "      <td>1</td>\n",
              "      <td>0</td>\n",
              "      <td>1</td>\n",
              "      <td>0</td>\n",
              "      <td>0</td>\n",
              "    </tr>\n",
              "    <tr>\n",
              "      <th>2012-01-06</th>\n",
              "      <td>46787.04</td>\n",
              "      <td>50.43</td>\n",
              "      <td>3.599</td>\n",
              "      <td>5155.86</td>\n",
              "      <td>19549.51</td>\n",
              "      <td>218.29</td>\n",
              "      <td>636.73</td>\n",
              "      <td>5218.50</td>\n",
              "      <td>130.157516</td>\n",
              "      <td>12.187</td>\n",
              "      <td>...</td>\n",
              "      <td>2012</td>\n",
              "      <td>1</td>\n",
              "      <td>1</td>\n",
              "      <td>-0.335328</td>\n",
              "      <td>47515.915000</td>\n",
              "      <td>1</td>\n",
              "      <td>0</td>\n",
              "      <td>1</td>\n",
              "      <td>0</td>\n",
              "      <td>0</td>\n",
              "    </tr>\n",
              "    <tr>\n",
              "      <th>2012-01-06</th>\n",
              "      <td>243.91</td>\n",
              "      <td>50.43</td>\n",
              "      <td>3.599</td>\n",
              "      <td>9.61</td>\n",
              "      <td>2765.45</td>\n",
              "      <td>56.96</td>\n",
              "      <td>0.00</td>\n",
              "      <td>560.58</td>\n",
              "      <td>130.157516</td>\n",
              "      <td>12.187</td>\n",
              "      <td>...</td>\n",
              "      <td>2012</td>\n",
              "      <td>1</td>\n",
              "      <td>1</td>\n",
              "      <td>39.838465</td>\n",
              "      <td>192.192500</td>\n",
              "      <td>1</td>\n",
              "      <td>0</td>\n",
              "      <td>0</td>\n",
              "      <td>0</td>\n",
              "      <td>1</td>\n",
              "    </tr>\n",
              "  </tbody>\n",
              "</table>\n",
              "<p>45169 rows × 21 columns</p>\n",
              "</div>\n",
              "      <button class=\"colab-df-convert\" onclick=\"convertToInteractive('df-aef7496a-3387-409d-a541-d026184b88e4')\"\n",
              "              title=\"Convert this dataframe to an interactive table.\"\n",
              "              style=\"display:none;\">\n",
              "        \n",
              "  <svg xmlns=\"http://www.w3.org/2000/svg\" height=\"24px\"viewBox=\"0 0 24 24\"\n",
              "       width=\"24px\">\n",
              "    <path d=\"M0 0h24v24H0V0z\" fill=\"none\"/>\n",
              "    <path d=\"M18.56 5.44l.94 2.06.94-2.06 2.06-.94-2.06-.94-.94-2.06-.94 2.06-2.06.94zm-11 1L8.5 8.5l.94-2.06 2.06-.94-2.06-.94L8.5 2.5l-.94 2.06-2.06.94zm10 10l.94 2.06.94-2.06 2.06-.94-2.06-.94-.94-2.06-.94 2.06-2.06.94z\"/><path d=\"M17.41 7.96l-1.37-1.37c-.4-.4-.92-.59-1.43-.59-.52 0-1.04.2-1.43.59L10.3 9.45l-7.72 7.72c-.78.78-.78 2.05 0 2.83L4 21.41c.39.39.9.59 1.41.59.51 0 1.02-.2 1.41-.59l7.78-7.78 2.81-2.81c.8-.78.8-2.07 0-2.86zM5.41 20L4 18.59l7.72-7.72 1.47 1.35L5.41 20z\"/>\n",
              "  </svg>\n",
              "      </button>\n",
              "      \n",
              "  <style>\n",
              "    .colab-df-container {\n",
              "      display:flex;\n",
              "      flex-wrap:wrap;\n",
              "      gap: 12px;\n",
              "    }\n",
              "\n",
              "    .colab-df-convert {\n",
              "      background-color: #E8F0FE;\n",
              "      border: none;\n",
              "      border-radius: 50%;\n",
              "      cursor: pointer;\n",
              "      display: none;\n",
              "      fill: #1967D2;\n",
              "      height: 32px;\n",
              "      padding: 0 0 0 0;\n",
              "      width: 32px;\n",
              "    }\n",
              "\n",
              "    .colab-df-convert:hover {\n",
              "      background-color: #E2EBFA;\n",
              "      box-shadow: 0px 1px 2px rgba(60, 64, 67, 0.3), 0px 1px 3px 1px rgba(60, 64, 67, 0.15);\n",
              "      fill: #174EA6;\n",
              "    }\n",
              "\n",
              "    [theme=dark] .colab-df-convert {\n",
              "      background-color: #3B4455;\n",
              "      fill: #D2E3FC;\n",
              "    }\n",
              "\n",
              "    [theme=dark] .colab-df-convert:hover {\n",
              "      background-color: #434B5C;\n",
              "      box-shadow: 0px 1px 3px 1px rgba(0, 0, 0, 0.15);\n",
              "      filter: drop-shadow(0px 1px 2px rgba(0, 0, 0, 0.3));\n",
              "      fill: #FFFFFF;\n",
              "    }\n",
              "  </style>\n",
              "\n",
              "      <script>\n",
              "        const buttonEl =\n",
              "          document.querySelector('#df-aef7496a-3387-409d-a541-d026184b88e4 button.colab-df-convert');\n",
              "        buttonEl.style.display =\n",
              "          google.colab.kernel.accessAllowed ? 'block' : 'none';\n",
              "\n",
              "        async function convertToInteractive(key) {\n",
              "          const element = document.querySelector('#df-aef7496a-3387-409d-a541-d026184b88e4');\n",
              "          const dataTable =\n",
              "            await google.colab.kernel.invokeFunction('convertToInteractive',\n",
              "                                                     [key], {});\n",
              "          if (!dataTable) return;\n",
              "\n",
              "          const docLinkHtml = 'Like what you see? Visit the ' +\n",
              "            '<a target=\"_blank\" href=https://colab.research.google.com/notebooks/data_table.ipynb>data table notebook</a>'\n",
              "            + ' to learn more about interactive tables.';\n",
              "          element.innerHTML = '';\n",
              "          dataTable['output_type'] = 'display_data';\n",
              "          await google.colab.output.renderOutput(dataTable, element);\n",
              "          const docLink = document.createElement('div');\n",
              "          docLink.innerHTML = docLinkHtml;\n",
              "          element.appendChild(docLink);\n",
              "        }\n",
              "      </script>\n",
              "    </div>\n",
              "  </div>\n",
              "  "
            ]
          },
          "metadata": {},
          "execution_count": 64
        }
      ]
    },
    {
      "cell_type": "code",
      "source": [
        "y_train"
      ],
      "metadata": {
        "id": "Tdqyn27521Zu",
        "colab": {
          "base_uri": "https://localhost:8080/"
        },
        "outputId": "956d1711-2582-48cb-abab-2a4cfd16565f"
      },
      "execution_count": 65,
      "outputs": [
        {
          "output_type": "execute_result",
          "data": {
            "text/plain": [
              "array([6.9145420e+04, 5.0808320e+04, 1.8775190e+04, ..., 1.2881878e+05,\n",
              "       6.4353720e+04, 1.0619000e+02])"
            ]
          },
          "metadata": {},
          "execution_count": 65
        }
      ]
    },
    {
      "cell_type": "markdown",
      "metadata": {
        "id": "8w_oI2giQjlI"
      },
      "source": [
        "## **3. Models**"
      ]
    },
    {
      "cell_type": "markdown",
      "source": [
        "### **Comparing models**"
      ],
      "metadata": {
        "id": "tHIWLivZRwrQ"
      }
    },
    {
      "cell_type": "markdown",
      "source": [
        "We are going to compare three models performance:\n",
        "\n",
        "1. Decision Tree;\n",
        "2. Random Forest;\n",
        "3. XGBoost.\n",
        "Using ROC_AUC as the main metric."
      ],
      "metadata": {
        "id": "yzuqptW6Ruwb"
      }
    },
    {
      "cell_type": "code",
      "source": [
        "# Defining the models\n",
        "trees = DecisionTreeRegressor(random_state=0)\n",
        "forest = RandomForestRegressor(random_state=0)\n",
        "xg = xgb.XGBRegressor(random_state=0)"
      ],
      "metadata": {
        "id": "sCtx-Hi1a9aF"
      },
      "execution_count": 66,
      "outputs": []
    },
    {
      "cell_type": "markdown",
      "source": [
        "#### **Baseline Model**"
      ],
      "metadata": {
        "id": "diLpOXqPXV9B"
      }
    },
    {
      "cell_type": "code",
      "source": [
        "y_pred_baseline_test = test['Weekly_Sales']\n",
        "y_test_baseline_test = test['Sales_Next_Week']"
      ],
      "metadata": {
        "id": "qJpNUY3_XgcA"
      },
      "execution_count": 67,
      "outputs": []
    },
    {
      "cell_type": "markdown",
      "source": [
        "#### **Scoring the models**\n",
        "\n",
        "1. **MAPE:** **M**ean **A**bsolute **P**ercentage **E**rror\n",
        "\n",
        " **1.1 Pros:** Easy to understand, commonly used in sales\n",
        "\n",
        " **1.2 Cons:** with a significant amount of zeros, the metric goes to infinity\n",
        "\n",
        "2. **WMAPE:** (**W**eighted)**MAPE**\n",
        "\n",
        "  **2.1 Pros:** Easy to understand, commonly used in sales\n",
        "\n",
        "  **2.2 Pros:** with a significant amount of zeros, the metric doesn't go to infinity\n",
        "\n",
        "For the score, we are using **WMAPE** to check the model performance in general.\n"
      ],
      "metadata": {
        "id": "9nymV0yjSLOl"
      }
    },
    {
      "cell_type": "markdown",
      "source": [
        "### **Predictions Dataset**"
      ],
      "metadata": {
        "id": "poiH-rVzpApA"
      }
    },
    {
      "cell_type": "code",
      "source": [
        "# Including the cikumns\n",
        "forest_predict = model(forest, X_train, y_train, X_test)\n",
        "trees_predict = model(trees, X_train, y_train, X_test)\n",
        "xgb_predict = model(xg, X_train, y_train, X_test)\n",
        "baseline_predict= y_pred_baseline_test"
      ],
      "metadata": {
        "id": "PX8_SxaYWGx-"
      },
      "execution_count": 68,
      "outputs": []
    },
    {
      "cell_type": "markdown",
      "source": [
        "### **Metric Results**"
      ],
      "metadata": {
        "id": "nZfqFjscpFod"
      }
    },
    {
      "cell_type": "code",
      "source": [
        "print(f' Baseline model test --> test: \\n WMAPE:{wmape(y_test_baseline_test, y_pred_baseline_test)}')"
      ],
      "metadata": {
        "id": "0ujEBw-pUh0v",
        "colab": {
          "base_uri": "https://localhost:8080/"
        },
        "outputId": "2173023f-fef7-42ae-bf5c-9a599f8be359"
      },
      "execution_count": 69,
      "outputs": [
        {
          "output_type": "stream",
          "name": "stdout",
          "text": [
            " Baseline model test --> test: \n",
            " WMAPE:8.819756942261451\n"
          ]
        }
      ]
    },
    {
      "cell_type": "code",
      "source": [
        "print(f'WMAPE for train --> test:\\nForest: {wmape(y_test, forest_predict)}\\nTrees: {wmape(y_test, trees_predict )}\\nXGB: {wmape(y_test, xgb_predict)}')"
      ],
      "metadata": {
        "id": "NO7YZQhkWj8a",
        "colab": {
          "base_uri": "https://localhost:8080/"
        },
        "outputId": "a4e1dd7c-777f-4c41-ac7a-f474d1b5f912"
      },
      "execution_count": 70,
      "outputs": [
        {
          "output_type": "stream",
          "name": "stdout",
          "text": [
            "WMAPE for train --> test:\n",
            "Forest: 13.36624387164359\n",
            "Trees: 26.40360958265291\n",
            "XGB: 16.420364331476097\n"
          ]
        }
      ]
    },
    {
      "cell_type": "markdown",
      "source": [
        "### **Feature selection**\n",
        "\n",
        "The goal of feature selection is to reduce the dimensionality of the dataset, while retaining as much relevant information as possible, in order to improve the performance of machine learning models."
      ],
      "metadata": {
        "id": "do8lFKDKdqZz"
      }
    },
    {
      "cell_type": "code",
      "source": [
        "# Create an instance of the SelectFromModel\n",
        "sel = SelectFromModel(forest)\n",
        "\n",
        "# Fit the SelectFromModel instance to the training data.\n",
        "sel.fit(X_train, y_train)\n",
        "\n",
        "# Get a Boolean mask indicating which features were selected.\n",
        "selected_mask = sel.get_support()\n",
        "\n",
        "# Extract the names of the selected features from the training data.\n",
        "selected_feat= X_train.columns[(selected_mask)]"
      ],
      "metadata": {
        "id": "zDtyTWYvpM8h"
      },
      "execution_count": null,
      "outputs": []
    },
    {
      "cell_type": "code",
      "source": [
        "# Get the feature importances from the trained classifier\n",
        "importances = forest.feature_importances_\n",
        "\n",
        "# Get the names of the features\n",
        "feature_names = X_train.columns\n",
        "\n",
        "# Sort the feature importances in descending order\n",
        "indices = np.argsort(importances)[::-1]\n",
        "\n",
        "# Create a bar plot of the feature importances\n",
        "plt.figure()\n",
        "plt.title(\"Feature importances\")\n",
        "plt.bar(range(X_train.shape[1]), importances[indices], color=\"r\", align=\"center\")\n",
        "plt.xticks(range(X_train.shape[1]), feature_names[indices], rotation=90)\n",
        "plt.xlim([-1, X_train.shape[1]])\n",
        "plt.tight_layout()\n",
        "plt.show()"
      ],
      "metadata": {
        "id": "4Va5b3zSmr7l"
      },
      "execution_count": null,
      "outputs": []
    },
    {
      "cell_type": "code",
      "source": [
        "print(selected_feat)"
      ],
      "metadata": {
        "id": "3xgXauvnUri0"
      },
      "execution_count": null,
      "outputs": []
    },
    {
      "cell_type": "markdown",
      "source": [
        "#### **Redefining the train and test features**"
      ],
      "metadata": {
        "id": "4bXqBb4UiglJ"
      }
    },
    {
      "cell_type": "code",
      "source": [
        "train = train[['Weekly_Sales', 'AVG_Last4Weeks_Sales', 'Sales_Next_Week']]\n",
        "test = test[['Weekly_Sales', 'AVG_Last4Weeks_Sales', 'Sales_Next_Week']]"
      ],
      "metadata": {
        "id": "zCJMBuY7XV5Q"
      },
      "execution_count": null,
      "outputs": []
    },
    {
      "cell_type": "code",
      "source": [
        "X_train = train.loc[:, train.columns != 'Sales_Next_Week']\n",
        "X_test = test.loc[:, test.columns != 'Sales_Next_Week']"
      ],
      "metadata": {
        "id": "R7QThtMlYN8M"
      },
      "execution_count": null,
      "outputs": []
    },
    {
      "cell_type": "markdown",
      "source": [
        "### **Final Result**"
      ],
      "metadata": {
        "id": "VDCIx7HxfxMq"
      }
    },
    {
      "cell_type": "code",
      "source": [
        "forest_predict = model(forest, X_train, y_train, X_test)\n",
        "trees_predict = model(trees, X_train, y_train, X_test)\n",
        "xgb_predict = model(xg, X_train, y_train, X_test)"
      ],
      "metadata": {
        "id": "7UzLQ5z5edAO"
      },
      "execution_count": null,
      "outputs": []
    },
    {
      "cell_type": "code",
      "source": [
        "print(f'WMAPE for train --> test:\\nForest: {wmape(y_test, forest_predict)}\\nTrees: {wmape(y_test, trees_predict )}\\nXGB: {wmape(y_test, xgb_predict)}')"
      ],
      "metadata": {
        "id": "SrFXKApPenIv"
      },
      "execution_count": null,
      "outputs": []
    },
    {
      "cell_type": "code",
      "source": [
        "final_result = round((wmape(y_test_baseline_test, y_pred_baseline_test) / wmape(y_test, xgb_predict) - 1) * 100)\n",
        "print(f'Improvment of {final_result}%')"
      ],
      "metadata": {
        "id": "RcupJ9lofkFZ"
      },
      "execution_count": null,
      "outputs": []
    },
    {
      "cell_type": "markdown",
      "source": [
        "**Analysis output:**\n",
        "\n",
        "- XGB outperforms the Baseline model on the chosen metric."
      ],
      "metadata": {
        "id": "fq67iHwEpMhE"
      }
    },
    {
      "cell_type": "markdown",
      "source": [
        "###**Comparing with the real case scenario**"
      ],
      "metadata": {
        "id": "RGEhtfD6lpym"
      }
    },
    {
      "cell_type": "code",
      "source": [
        "plt.figure(figsize=(15,8))\n",
        "plt.title('Comparison between actual and predicted next week sales',fontsize=16)\n",
        "plt.plot(xgb_predict[:100], label=\"prediction\", linewidth=3.0,color='blue')\n",
        "plt.plot(y_test[:100], label=\"real_values\", linewidth=3.0,color='red')\n",
        "plt.legend(loc=\"best\")\n",
        "plt.show()"
      ],
      "metadata": {
        "id": "arHpp4YGk_dB"
      },
      "execution_count": null,
      "outputs": []
    },
    {
      "cell_type": "markdown",
      "source": [
        "## **Next steps**\n",
        "\n",
        "To improve our solution, we could:\n",
        "\n",
        "*   Treat outliers;\n",
        "*   Find new hyperparameters that improve our metrics;\n",
        "*   Try more features with more periods.\n",
        "\n",
        "\n"
      ],
      "metadata": {
        "id": "vTujY3XJdi71"
      }
    }
  ],
  "metadata": {
    "colab": {
      "toc_visible": true,
      "provenance": [],
      "collapsed_sections": [
        "0AkoUxZ86a0p",
        "3xVcHQMY6FRD",
        "CFMZMaNuNAfp",
        "tSJZk6OH74V4"
      ],
      "authorship_tag": "ABX9TyMNYJTnVhSG0Np4m3hIbfMt",
      "include_colab_link": true
    },
    "gpuClass": "standard",
    "kernelspec": {
      "display_name": "Python 3",
      "name": "python3"
    },
    "language_info": {
      "name": "python"
    }
  },
  "nbformat": 4,
  "nbformat_minor": 0
}